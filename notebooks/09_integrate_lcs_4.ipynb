{
 "cells": [
  {
   "cell_type": "code",
   "execution_count": 1,
   "metadata": {},
   "outputs": [],
   "source": [
    "%load_ext autoreload\n",
    "%autoreload 2"
   ]
  },
  {
   "cell_type": "code",
   "execution_count": 2,
   "metadata": {},
   "outputs": [],
   "source": [
    "import numpy as np\n",
    "from scipy import integrate"
   ]
  },
  {
   "cell_type": "code",
   "execution_count": 3,
   "metadata": {},
   "outputs": [],
   "source": [
    "#Keep fixed for this notebook!\n",
    "m = 4  #number of alternative = number of vertices\n",
    "ssb_utility = np.triu(np.ones((m, m))) - np.tril(np.ones((m, m))) # transitive preferences"
   ]
  },
  {
   "cell_type": "code",
   "execution_count": 16,
   "metadata": {},
   "outputs": [],
   "source": [
    "def compute_bounds(parts: int):\n",
    "    num_points = int(parts*(parts+1)*(parts+2)/6) # Only for m = 4\n",
    "    points = np.empty((num_points, m))\n",
    "    factors = np.empty(num_points)\n",
    "\n",
    "    counter = 0\n",
    "    for x in range(parts):\n",
    "        for y in range(parts-x):\n",
    "            for z in range(parts-x-y):\n",
    "                points[counter] = [x, y, z, parts-x-y-z]\n",
    "                if x+y+z == parts-1:\n",
    "                    factors[counter] = 1\n",
    "                elif x+y+z == parts-2:\n",
    "                    factors[counter] = 5\n",
    "                else:\n",
    "                    factors[counter] = 6\n",
    "                counter += 1\n",
    "\n",
    "    points /= parts\n",
    "    normals = points @ ssb_utility\n",
    "    del points\n",
    "\n",
    "    dist = normals[:, :, None]/(normals[:, :, None] - normals[:, None, :]) #distance\n",
    "    above_b = 1 - dist[:, 0, 1]*dist[:, 0, 2]*dist[:, 0, 3]\n",
    "    below_c = dist[:, 3, 0]*dist[:, 3, 1]*dist[:, 3, 2]\n",
    "    between = dist[:, 1, 2]*(dist[:, 3, 0]*dist[:, 3, 1]) + (1-dist[:, 1, 2])*(1-dist[:, 0, 2]*dist[:, 0, 3])\n",
    "    del dist\n",
    "\n",
    "    lcs = np.where(normals[:, 1] >= 0, above_b, np.where(normals[:, 2] <= 0, below_c, between))\n",
    "    return 1-3*np.sum((1-lcs)**2 * factors)/sum(factors), 1-3*np.sum(lcs**2 * factors)/sum(factors)"
   ]
  },
  {
   "cell_type": "code",
   "execution_count": 17,
   "metadata": {},
   "outputs": [
    {
     "name": "stderr",
     "output_type": "stream",
     "text": [
      "/tmp/ipykernel_79185/676606884.py:23: RuntimeWarning: divide by zero encountered in divide\n",
      "  dist = normals[:, :, None]/(normals[:, :, None] - normals[:, None, :]) #distance\n",
      "/tmp/ipykernel_79185/676606884.py:23: RuntimeWarning: invalid value encountered in divide\n",
      "  dist = normals[:, :, None]/(normals[:, :, None] - normals[:, None, :]) #distance\n",
      "/tmp/ipykernel_79185/676606884.py:26: RuntimeWarning: invalid value encountered in multiply\n",
      "  between = dist[:, 1, 2]*(dist[:, 3, 0]*dist[:, 3, 1]) + (1-dist[:, 1, 2])*(1-dist[:, 0, 2]*dist[:, 0, 3])\n",
      "/tmp/ipykernel_79185/676606884.py:26: RuntimeWarning: invalid value encountered in add\n",
      "  between = dist[:, 1, 2]*(dist[:, 3, 0]*dist[:, 3, 1]) + (1-dist[:, 1, 2])*(1-dist[:, 0, 2]*dist[:, 0, 3])\n"
     ]
    },
    {
     "name": "stdout",
     "output_type": "stream",
     "text": [
      "(-0.4932511963007895, 0.38643237750464454)\n",
      "(-0.09455442011441062, 0.08609079883193005)\n",
      "(-0.046305924544508326, 0.04410227649635523)\n",
      "(-0.022415468174775466, 0.02280162882479464)\n",
      "(-0.014488926728409401, 0.015657870636803684)\n",
      "(-0.010532772540749136, 0.012077985153147952)\n"
     ]
    }
   ],
   "source": [
    "for i in [10, 50, 100, 200, 300, 400]:\n",
    "    print(compute_bounds(i))"
   ]
  },
  {
   "cell_type": "code",
   "execution_count": 4,
   "metadata": {},
   "outputs": [],
   "source": [
    "def f(x, y, z, ssb_matrix):\n",
    "    normal = x*ssb_matrix[0, :] + y*ssb_matrix[1, :] + z*ssb_matrix[2, :] + (1-x-y-z)*ssb_matrix[3, :]\n",
    "    if normal[1] >= 0:\n",
    "        ab = normal[0]/(normal[0] - normal[1])\n",
    "        ac = normal[0]/(normal[0] - normal[2])\n",
    "        ad = normal[0]/(normal[0] - normal[3])\n",
    "        return (1 - ab*ac*ad)**2\n",
    "    elif normal[2] <= 0:\n",
    "        da = normal[3]/(normal[3] - normal[0])\n",
    "        db = normal[3]/(normal[3] - normal[1])\n",
    "        dc = normal[3]/(normal[3] - normal[2])\n",
    "        return (da*db*dc)**2\n",
    "    else:\n",
    "        da = normal[3]/(normal[3] - normal[0])\n",
    "        db = normal[3]/(normal[3] - normal[1])\n",
    "        ac = normal[0]/(normal[0] - normal[2])\n",
    "        bc = normal[1]/(normal[1] - normal[2])\n",
    "        return (bc*da*db + (1-bc)*(1-ac*(1-da)))**2"
   ]
  },
  {
   "cell_type": "code",
   "execution_count": 62,
   "metadata": {},
   "outputs": [
    {
     "data": {
      "text/plain": [
       "(0.05548294891287989, 9.74570978281313e-06, {'neval': 16443})"
      ]
     },
     "execution_count": 62,
     "metadata": {},
     "output_type": "execute_result"
    }
   ],
   "source": [
    "# Larger error than tplquad below; therefore not used.\n",
    "def bounds_z(x, y, _):\n",
    "    return[0, 1-x-y]\n",
    "def bounds_y(x, _):\n",
    "    return[0, 1-x]\n",
    "def bounds_x(_):\n",
    "    return[0, 1]\n",
    "\n",
    "integrate.nquad(f, [bounds_z, bounds_y, bounds_x], args = [ssb_utility], opts={'epsabs': 1e-5, 'epsrel': 1e-5, 'limit': 100}, full_output=True)"
   ]
  },
  {
   "cell_type": "code",
   "execution_count": null,
   "metadata": {},
   "outputs": [
    {
     "data": {
      "text/plain": [
       "(0.0013067306856884287, 2.6676784653160325e-07)"
      ]
     },
     "execution_count": 7,
     "metadata": {},
     "output_type": "execute_result"
    }
   ],
   "source": [
    "val, err = integrate.tplquad(f, 0, 1, 0, lambda x: 1-x, 0, lambda x, y: 1-x-y, args=(ssb_utility,))\n",
    "1-18*val, 18*err"
   ]
  },
  {
   "cell_type": "code",
   "execution_count": 23,
   "metadata": {},
   "outputs": [],
   "source": [
    "def f_general(x, y, z, ssb_matrix):\n",
    "    normal = x*ssb_matrix[0, :] + y*ssb_matrix[1, :] + z*ssb_matrix[2, :] + (1-x-y-z)*ssb_matrix[3, :]\n",
    "    vertices_lcs = list(np.where(normal > 0)[0])\n",
    "    vertices_ucs = [i for i in range(4) if i not in vertices_lcs]\n",
    "    if len(vertices_lcs) == 0:\n",
    "        return 0\n",
    "    elif len(vertices_lcs) == 1:\n",
    "        volume = 1\n",
    "        v_lcs = vertices_lcs[0]\n",
    "        for i in vertices_ucs:\n",
    "                volume *= normal[v_lcs]/(normal[v_lcs] - normal[i])\n",
    "        return volume**2\n",
    "    elif len(vertices_lcs) == 2:\n",
    "        dist = normal[vertices_lcs, None]/(normal[vertices_lcs, None] - normal[None, vertices_ucs])\n",
    "        # (bc*da*db + (1-bc)*(1-ac*(1-da)))**2\n",
    "        return ((1-dist[0, 0])*dist[1, 0]*dist[1, 1] + dist[0, 0]*(1-(1-dist[0, 1])*(1-dist[1, 1])))**2\n",
    "    elif len(vertices_lcs) == 3:\n",
    "        volume = 1\n",
    "        v_ucs = vertices_ucs[0]\n",
    "        for i in vertices_lcs:\n",
    "                volume *= normal[v_ucs]/(normal[v_ucs] - normal[i])\n",
    "        return (1-volume)**2\n",
    "    elif len(vertices_lcs) == 4:\n",
    "        return 1"
   ]
  },
  {
   "cell_type": "code",
   "execution_count": 22,
   "metadata": {},
   "outputs": [
    {
     "data": {
      "text/plain": [
       "array([[0.38461538, 0.83333333],\n",
       "       [0.33333333, 0.8       ]])"
      ]
     },
     "execution_count": 22,
     "metadata": {},
     "output_type": "execute_result"
    }
   ],
   "source": [
    "normal = np.array([0.5, -0.8, -0.1, 0.4])\n",
    "vertices_lcs = list(np.where(normal > 0)[0])\n",
    "vertices_ucs = [i for i in range(4) if i not in vertices_lcs]\n",
    "dist = normal[vertices_lcs, None]/(normal[vertices_lcs, None] - normal[None, vertices_ucs])\n",
    "dist"
   ]
  },
  {
   "cell_type": "code",
   "execution_count": 28,
   "metadata": {},
   "outputs": [
    {
     "data": {
      "text/plain": [
       "(0.308421556122449, 0.30842155612244887)"
      ]
     },
     "execution_count": 28,
     "metadata": {},
     "output_type": "execute_result"
    }
   ],
   "source": [
    "f(0, 0.6, 0.4, ssb_utility), f_general(0, 0.6, 0.4, ssb_utility)"
   ]
  },
  {
   "cell_type": "code",
   "execution_count": 30,
   "metadata": {},
   "outputs": [
    {
     "data": {
      "text/plain": [
       "(0.055482959406350646, 0.0013067306856884287, 2.6676784653160325e-07)"
      ]
     },
     "execution_count": 30,
     "metadata": {},
     "output_type": "execute_result"
    }
   ],
   "source": [
    "val, err = integrate.tplquad(f_general, 0, 1, 0, lambda x: 1-x, 0, lambda x, y: 1-x-y, args=(ssb_utility,))\n",
    "val, 1-18*val, 18*err"
   ]
  },
  {
   "cell_type": "code",
   "execution_count": 32,
   "metadata": {},
   "outputs": [],
   "source": [
    "# 4 cycle\n",
    "ssb_intr1 = np.array([[0, 1, 1, -1], [-1, 0, 1, 1], [-1, -1, 0, 1], [1, -1, -1, 0]])\n",
    "# 3 cycle preferred to the last option\n",
    "ssb_intr2 = np.array([[0, 1, -1, 1], [-1, 0, 1, 1], [1, -1, 0, 1], [-1, -1, -1, 0]])\n",
    "# 3 cycle not preferred to the last option\n",
    "ssb_intr3 = np.array([[0, 1, 1, 1], [-1, 0, 1, -1], [-1, -1, 0, 1], [-1, 1, -1, 0]])"
   ]
  },
  {
   "cell_type": "code",
   "execution_count": 33,
   "metadata": {},
   "outputs": [
    {
     "data": {
      "text/plain": [
       "(0.04881321518812862, 0.12136212661368484, 2.6819671319893127e-07)"
      ]
     },
     "execution_count": 33,
     "metadata": {},
     "output_type": "execute_result"
    }
   ],
   "source": [
    "val, err = integrate.tplquad(f_general, 0, 1, 0, lambda x: 1-x, 0, lambda x, y: 1-x-y, args=(ssb_intr1,))\n",
    "val, 1-18*val, 18*err"
   ]
  },
  {
   "cell_type": "code",
   "execution_count": 34,
   "metadata": {},
   "outputs": [
    {
     "data": {
      "text/plain": [
       "(0.052889348589358155, 0.047991725391553164, 2.679700612686233e-07)"
      ]
     },
     "execution_count": 34,
     "metadata": {},
     "output_type": "execute_result"
    }
   ],
   "source": [
    "val, err = integrate.tplquad(f_general, 0, 1, 0, lambda x: 1-x, 0, lambda x, y: 1-x-y, args=(ssb_intr2,))\n",
    "val, 1-18*val, 18*err"
   ]
  },
  {
   "cell_type": "code",
   "execution_count": 35,
   "metadata": {},
   "outputs": [
    {
     "data": {
      "text/plain": [
       "(0.052889348379349846, 0.0479917291717028, 2.6798051586401983e-07)"
      ]
     },
     "execution_count": 35,
     "metadata": {},
     "output_type": "execute_result"
    }
   ],
   "source": [
    "val, err = integrate.tplquad(f_general, 0, 1, 0, lambda x: 1-x, 0, lambda x, y: 1-x-y, args=(ssb_intr3,))\n",
    "val, 1-18*val, 18*err"
   ]
  }
 ],
 "metadata": {
  "kernelspec": {
   "display_name": "py312-MA",
   "language": "python",
   "name": "py312-ma"
  },
  "language_info": {
   "codemirror_mode": {
    "name": "ipython",
    "version": 3
   },
   "file_extension": ".py",
   "mimetype": "text/x-python",
   "name": "python",
   "nbconvert_exporter": "python",
   "pygments_lexer": "ipython3",
   "version": "3.12.4"
  }
 },
 "nbformat": 4,
 "nbformat_minor": 2
}
