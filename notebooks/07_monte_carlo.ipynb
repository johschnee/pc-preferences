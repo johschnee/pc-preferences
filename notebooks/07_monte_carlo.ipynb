{
 "cells": [
  {
   "cell_type": "code",
   "execution_count": 1,
   "metadata": {},
   "outputs": [],
   "source": [
    "%load_ext autoreload\n",
    "%autoreload 2"
   ]
  },
  {
   "cell_type": "code",
   "execution_count": 2,
   "metadata": {},
   "outputs": [],
   "source": [
    "import numpy as np"
   ]
  },
  {
   "cell_type": "code",
   "execution_count": null,
   "metadata": {},
   "outputs": [
    {
     "data": {
      "text/plain": [
       "0.0384"
      ]
     },
     "execution_count": 25,
     "metadata": {},
     "output_type": "execute_result"
    }
   ],
   "source": [
    "# case 10\n",
    "\n",
    "counts = 0\n",
    "for _ in range(10000):\n",
    "    p, q, r = np.random.uniform(size=3)\n",
    "    if p > (1-p)*(2*q-1) and q > (1-q)*(2*r-1) and p < (1-p)*(2*r-1):\n",
    "        counts += 1\n",
    "counts/10000"
   ]
  },
  {
   "cell_type": "code",
   "execution_count": null,
   "metadata": {},
   "outputs": [
    {
     "data": {
      "text/plain": [
       "0.0188"
      ]
     },
     "execution_count": 35,
     "metadata": {},
     "output_type": "execute_result"
    }
   ],
   "source": [
    "# case 11\n",
    "\n",
    "counts = 0\n",
    "for _ in range(10000):\n",
    "    p, q, r = np.random.uniform(size=3)\n",
    "    if p > (1-p)*(2*q-1) and q > 0.5 and p < (1-p)*(2*r-1):\n",
    "        counts += 1\n",
    "counts/10000"
   ]
  },
  {
   "cell_type": "code",
   "execution_count": 5,
   "metadata": {},
   "outputs": [
    {
     "data": {
      "text/plain": [
       "0.0195"
      ]
     },
     "execution_count": 5,
     "metadata": {},
     "output_type": "execute_result"
    }
   ],
   "source": [
    "# case 12\n",
    "\n",
    "counts = 0\n",
    "for _ in range(10000):\n",
    "    p, q, r = np.random.uniform(size=3)\n",
    "    if p < 0.5 and q < (1-q)*(2*r-1) and p > (1-p)*(2*r-1):\n",
    "        counts += 1\n",
    "counts/10000"
   ]
  },
  {
   "cell_type": "code",
   "execution_count": null,
   "metadata": {},
   "outputs": [
    {
     "data": {
      "text/plain": [
       "0.0967"
      ]
     },
     "execution_count": 3,
     "metadata": {},
     "output_type": "execute_result"
    }
   ],
   "source": [
    "# case 14\n",
    "\n",
    "counts = 0\n",
    "for _ in range(10000):\n",
    "    p, q, r = np.random.uniform(size=3)\n",
    "    if p > (1-p)*(2*q-1) and q > 0.5 and p < 0.5:\n",
    "        counts += 1\n",
    "counts/10000"
   ]
  },
  {
   "cell_type": "markdown",
   "metadata": {},
   "source": [
    "# Lower contour sets for m=4 and m=5"
   ]
  },
  {
   "cell_type": "code",
   "execution_count": 55,
   "metadata": {},
   "outputs": [
    {
     "data": {
      "text/plain": [
       "(20, 4)"
      ]
     },
     "execution_count": 55,
     "metadata": {},
     "output_type": "execute_result"
    }
   ],
   "source": [
    "num_rep = 20\n",
    "supp = 2\n",
    "m = 4\n",
    "rng = np.random.default_rng()\n",
    "\n",
    "alpha = np.ones(supp)\n",
    "lott_comps = rng.dirichlet(alpha, num_rep)\n",
    "mask = np.tile(np.array([1]*supp + [0]*(m - supp)), (num_rep, 1))\n",
    "mask = rng.permuted(mask, axis=1)\n",
    "lotteries = np.zeros((num_rep, m))\n",
    "lotteries[mask.astype(bool)] = lott_comps.flatten()\n",
    "lotteries.shape"
   ]
  },
  {
   "cell_type": "code",
   "execution_count": 62,
   "metadata": {},
   "outputs": [
    {
     "data": {
      "text/plain": [
       "array([[0.35056815, 0.64943185, 0.        , 0.        ],\n",
       "       [0.19827445, 0.80172555, 0.        , 0.        ],\n",
       "       [0.11342974, 0.        , 0.88657026, 0.        ],\n",
       "       [0.21563017, 0.        , 0.        , 0.78436983],\n",
       "       [0.98259318, 0.        , 0.        , 0.01740682],\n",
       "       [0.96119469, 0.        , 0.03880531, 0.        ],\n",
       "       [0.        , 0.        , 0.46682715, 0.53317285],\n",
       "       [0.        , 0.99505423, 0.        , 0.00494577],\n",
       "       [0.        , 0.        , 0.79033188, 0.20966812],\n",
       "       [0.5884853 , 0.4115147 , 0.        , 0.        ],\n",
       "       [0.27579705, 0.        , 0.        , 0.72420295],\n",
       "       [0.        , 0.52248593, 0.47751407, 0.        ],\n",
       "       [0.58138252, 0.41861748, 0.        , 0.        ],\n",
       "       [0.69784582, 0.30215418, 0.        , 0.        ],\n",
       "       [0.06382345, 0.        , 0.        , 0.93617655],\n",
       "       [0.44763539, 0.55236461, 0.        , 0.        ],\n",
       "       [0.        , 0.87286217, 0.        , 0.12713783],\n",
       "       [0.        , 0.92461222, 0.07538778, 0.        ],\n",
       "       [0.46558142, 0.53441858, 0.        , 0.        ],\n",
       "       [0.        , 0.        , 0.32583179, 0.67416821]])"
      ]
     },
     "execution_count": 62,
     "metadata": {},
     "output_type": "execute_result"
    }
   ],
   "source": [
    "lotteries"
   ]
  },
  {
   "cell_type": "code",
   "execution_count": 59,
   "metadata": {},
   "outputs": [],
   "source": [
    "def compute_ucs2(p, ssb):\n",
    "    normal = ssb @ p\n",
    "    usc2 = 0\n",
    "    for i in range(len(p)):\n",
    "        for j in range(i):\n",
    "            if normal[i] > 0 and normal[j] > 0:\n",
    "                usc2 += 1\n",
    "            if normal[i] < 0 and normal[j] > 0:\n",
    "                usc2 += normal[j]/(normal[j] - normal[i])\n",
    "    return usc2"
   ]
  },
  {
   "cell_type": "code",
   "execution_count": 69,
   "metadata": {},
   "outputs": [
    {
     "name": "stdout",
     "output_type": "stream",
     "text": [
      "4 alternatives: 0.2394821867799947  avg 5 alternatives: 0.26052943485233804\n",
      "4 alternatives: 0.2819464297476956  avg 5 alternatives: 0.30266473076462785\n",
      "4 alternatives: 0.6107657606493733  avg 5 alternatives: 0.6029841011961524\n",
      "4 alternatives: 0.8724253717430593  avg 5 alternatives: 0.8467064524549202\n",
      "4 alternatives: 0.008806198111109555  avg 5 alternatives: 0.05713091199662751\n",
      "4 alternatives: 0.019422164647630264  avg 5 alternatives: 0.06536399104434305\n",
      "4 alternatives: 0.8161100047118981  avg 5 alternatives: 0.8000144874236824\n",
      "4 alternatives: 0.3356068025964534  avg 5 alternatives: 0.35190971902021756\n",
      "4 alternatives: 0.7211299063674756  avg 5 alternatives: 0.7002694724138151\n",
      "4 alternatives: 0.16576618466718482  avg 5 alternatives: 0.18352834940639196\n",
      "4 alternatives: 0.8270910216766523  avg 5 alternatives: 0.8098652522966694\n",
      "4 alternatives: 0.4929203464414327  avg 5 alternatives: 0.49237034211204933\n",
      "4 alternatives: 0.1681323602025504  avg 5 alternatives: 0.18563263700400395\n",
      "4 alternatives: 0.12770629120802154  avg 5 alternatives: 0.15098554004360046\n",
      "4 alternatives: 0.9666378943712189  avg 5 alternatives: 0.9229992447909019\n",
      "4 alternatives: 0.21066791563145112  avg 5 alternatives: 0.22914973414759252\n",
      "4 alternatives: 0.39659405613550414  avg 5 alternatives: 0.40322256008941293\n",
      "4 alternatives: 0.3608459748849864  avg 5 alternatives: 0.3725411422083785\n",
      "4 alternatives: 0.2051655449512261  avg 5 alternatives: 0.22279533119550357\n",
      "4 alternatives: 0.8637758649249574  avg 5 alternatives: 0.8419077106630484\n"
     ]
    }
   ],
   "source": [
    "m = 4\n",
    "ssb4 = np.triu(np.ones((m, m))) - np.tril(np.ones((m, m)))\n",
    "m = 5\n",
    "ssb5 = np.triu(np.ones((m, m))) - np.tril(np.ones((m, m)))\n",
    "\n",
    "p_extended = np.zeros((5, 5))\n",
    "for p in lotteries:\n",
    "    ucs4 = compute_ucs2(p, ssb4)\n",
    "    ucs5 = 0\n",
    "    for i in range(5):\n",
    "        p_extended[i] = np.insert(p, i, 0)\n",
    "        ucs5 += compute_ucs2(p_extended[i], ssb5)\n",
    "    print(f\"4 alternatives:\", ucs4/6, \" avg 5 alternatives:\", ucs5/50)"
   ]
  },
  {
   "cell_type": "code",
   "execution_count": null,
   "metadata": {},
   "outputs": [
    {
     "name": "stdout",
     "output_type": "stream",
     "text": [
      "4 alternatives:  0.2394821867799947\n",
      "5 alternatives:  0.41773222505462526\n",
      "5 alternatives:  0.33572782242733795\n",
      "5 alternatives:  0.18306237559324234\n",
      "5 alternatives:  0.18306237559324234\n",
      "5 alternatives:  0.18306237559324234\n",
      "\n",
      "4 alternatives:  0.2819464297476956\n",
      "5 alternatives:  0.4526211938341085\n",
      "5 alternatives:  0.4197059326711545\n",
      "5 alternatives:  0.21366550910595877\n",
      "5 alternatives:  0.21366550910595877\n",
      "5 alternatives:  0.21366550910595877\n",
      "\n",
      "4 alternatives:  0.6107657606493733\n",
      "5 alternatives:  0.706272038777156\n",
      "5 alternatives:  0.6972681285451289\n",
      "5 alternatives:  0.6972681285451289\n",
      "5 alternatives:  0.45705610505667404\n",
      "5 alternatives:  0.45705610505667404\n",
      "\n",
      "4 alternatives:  0.8724253717430593\n",
      "5 alternatives:  0.9057170840458442\n",
      "5 alternatives:  0.8959643430250168\n",
      "5 alternatives:  0.8959643430250168\n",
      "5 alternatives:  0.8959643430250168\n",
      "5 alternatives:  0.6399221491537059\n",
      "\n",
      "4 alternatives:  0.008806198111109555\n",
      "5 alternatives:  0.2574942285318339\n",
      "5 alternatives:  0.0070552373229152004\n",
      "5 alternatives:  0.0070552373229152004\n",
      "5 alternatives:  0.0070552373229152004\n",
      "5 alternatives:  0.006994619482557968\n",
      "\n",
      "4 alternatives:  0.019422164647630264\n",
      "5 alternatives:  0.2646612252557604\n",
      "5 alternatives:  0.01569049483073451\n",
      "5 alternatives:  0.01569049483073451\n",
      "5 alternatives:  0.015388870152242912\n",
      "5 alternatives:  0.015388870152242912\n",
      "\n",
      "4 alternatives:  0.8161100047118981\n",
      "5 alternatives:  0.8578403615328629\n",
      "5 alternatives:  0.8578403615328629\n",
      "5 alternatives:  0.8578403615328629\n",
      "5 alternatives:  0.8021095673853402\n",
      "5 alternatives:  0.6244417851344835\n",
      "\n",
      "4 alternatives:  0.3356068025964534\n",
      "5 alternatives:  0.5017365501969923\n",
      "5 alternatives:  0.5017365501969923\n",
      "5 alternatives:  0.2521096349159443\n",
      "5 alternatives:  0.2521096349159443\n",
      "5 alternatives:  0.25185622487521486\n",
      "\n",
      "4 alternatives:  0.7211299063674756\n",
      "5 alternatives:  0.7885335096191011\n",
      "5 alternatives:  0.7885335096191011\n",
      "5 alternatives:  0.7885335096191011\n",
      "5 alternatives:  0.5857361914075141\n",
      "5 alternatives:  0.5500106418042578\n",
      "\n",
      "4 alternatives:  0.16576618466718482\n",
      "5 alternatives:  0.3624127641159774\n",
      "5 alternatives:  0.1693874887952737\n",
      "5 alternatives:  0.12861383137356955\n",
      "5 alternatives:  0.12861383137356955\n",
      "5 alternatives:  0.12861383137356955\n",
      "\n",
      "4 alternatives:  0.8270910216766523\n",
      "5 alternatives:  0.8746369855336127\n",
      "5 alternatives:  0.8581717722368826\n",
      "5 alternatives:  0.8581717722368826\n",
      "5 alternatives:  0.8581717722368826\n",
      "5 alternatives:  0.6001739592390861\n",
      "\n",
      "4 alternatives:  0.4929203464414327\n",
      "5 alternatives:  0.6114342597250787\n",
      "5 alternatives:  0.6114342597250787\n",
      "5 alternatives:  0.48284127679471867\n",
      "5 alternatives:  0.37807095715768535\n",
      "5 alternatives:  0.37807095715768535\n",
      "\n",
      "4 alternatives:  0.1681323602025504\n",
      "5 alternatives:  0.3641152231774939\n",
      "5 alternatives:  0.17288321109731924\n",
      "5 alternatives:  0.13038825024840217\n",
      "5 alternatives:  0.13038825024840217\n",
      "5 alternatives:  0.13038825024840217\n",
      "\n",
      "4 alternatives:  0.12770629120802154\n",
      "5 alternatives:  0.3355219377729403\n",
      "5 alternatives:  0.11992190302280863\n",
      "5 alternatives:  0.09982795314075113\n",
      "5 alternatives:  0.09982795314075113\n",
      "5 alternatives:  0.09982795314075113\n",
      "\n",
      "4 alternatives:  0.9666378943712189\n",
      "5 alternatives:  0.9739832963407812\n",
      "5 alternatives:  0.9731652775717627\n",
      "5 alternatives:  0.9731652775717627\n",
      "5 alternatives:  0.9731652775717627\n",
      "5 alternatives:  0.7215170948984401\n",
      "\n",
      "4 alternatives:  0.21066791563145112\n",
      "5 alternatives:  0.3954789170440758\n",
      "5 alternatives:  0.264321073398298\n",
      "5 alternatives:  0.161982893431863\n",
      "5 alternatives:  0.161982893431863\n",
      "5 alternatives:  0.161982893431863\n",
      "\n",
      "4 alternatives:  0.39659405613550414\n",
      "5 alternatives:  0.5486334586138585\n",
      "5 alternatives:  0.5486334586138585\n",
      "5 alternatives:  0.30980487178538396\n",
      "5 alternatives:  0.30980487178538396\n",
      "5 alternatives:  0.2992361396485796\n",
      "\n",
      "4 alternatives:  0.3608459748849864\n",
      "5 alternatives:  0.518466103655531\n",
      "5 alternatives:  0.518466103655531\n",
      "5 alternatives:  0.2787377577267232\n",
      "5 alternatives:  0.27351787300205355\n",
      "5 alternatives:  0.27351787300205355\n",
      "\n",
      "4 alternatives:  0.2051655449512261\n",
      "5 alternatives:  0.391331632801463\n",
      "5 alternatives:  0.2488608380806801\n",
      "5 alternatives:  0.15792806169845824\n",
      "5 alternatives:  0.15792806169845824\n",
      "5 alternatives:  0.15792806169845824\n",
      "\n",
      "4 alternatives:  0.8637758649249574\n",
      "5 alternatives:  0.8936898680685059\n",
      "5 alternatives:  0.8936898680685059\n",
      "5 alternatives:  0.8936898680685059\n",
      "5 alternatives:  0.8699345847455546\n",
      "5 alternatives:  0.6585343643641691\n",
      "\n"
     ]
    }
   ],
   "source": [
    "m = 4\n",
    "ssb4 = np.triu(np.ones((m, m))) - np.tril(np.ones((m, m)))\n",
    "m = 5\n",
    "ssb5 = np.triu(np.ones((m, m))) - np.tril(np.ones((m, m)))\n",
    "\n",
    "p_extended = np.zeros((5, 5))\n",
    "for p in lotteries:\n",
    "    ucs4 = compute_ucs2(p, ssb4)\n",
    "    print(f\"4 alternatives: \", ucs4/6)\n",
    "    ucs5 = 0\n",
    "    for i in range(5):\n",
    "        p_extended[i] = np.insert(p, i, 0)\n",
    "        print(f\"5 alternatives: \", compute_ucs2(p_extended[i], ssb5)/10)\n",
    "    print()"
   ]
  },
  {
   "cell_type": "code",
   "execution_count": 46,
   "metadata": {},
   "outputs": [
    {
     "data": {
      "text/plain": [
       "0.1402960473014342"
      ]
     },
     "execution_count": 46,
     "metadata": {},
     "output_type": "execute_result"
    }
   ],
   "source": [
    "compute_ucs2(p, ssb4)/6"
   ]
  },
  {
   "cell_type": "code",
   "execution_count": 47,
   "metadata": {},
   "outputs": [
    {
     "data": {
      "text/plain": [
       "array([ 0.26693852, -0.46612297, -0.73306148, -1.        ])"
      ]
     },
     "execution_count": 47,
     "metadata": {},
     "output_type": "execute_result"
    }
   ],
   "source": [
    "normal = ssb4 @ p\n",
    "normal"
   ]
  },
  {
   "cell_type": "code",
   "execution_count": 48,
   "metadata": {},
   "outputs": [
    {
     "name": "stdout",
     "output_type": "stream",
     "text": [
      "3.600860884311944\n",
      "1.2059183383369745\n",
      "1.2059183383369745\n",
      "1.0524719979103279\n",
      "1.0524719979103279\n"
     ]
    }
   ],
   "source": [
    "m = 5\n",
    "ssb5 = np.triu(np.ones((m, m))) - np.tril(np.ones((m, m)))\n",
    "lcs_comb = 0\n",
    "\n",
    "p_extended = np.zeros((5, 5))\n",
    "for i in range(5):\n",
    "    p_extended[i] = np.insert(p, i, 0)\n",
    "    print(compute_ucs2(p_extended[i], ssb5))\n",
    "    lcs_comb += compute_ucs2(p_extended[i], ssb5)"
   ]
  },
  {
   "cell_type": "code",
   "execution_count": 49,
   "metadata": {},
   "outputs": [
    {
     "data": {
      "text/plain": [
       "0.16235283113613097"
      ]
     },
     "execution_count": 49,
     "metadata": {},
     "output_type": "execute_result"
    }
   ],
   "source": [
    "lcs_comb/50"
   ]
  },
  {
   "cell_type": "code",
   "execution_count": 42,
   "metadata": {},
   "outputs": [
    {
     "data": {
      "text/plain": [
       "array([[0.        , 0.        , 0.        , 0.28201019, 0.71798981],\n",
       "       [0.        , 0.        , 0.        , 0.28201019, 0.71798981],\n",
       "       [0.        , 0.        , 0.        , 0.28201019, 0.71798981],\n",
       "       [0.        , 0.        , 0.28201019, 0.        , 0.71798981],\n",
       "       [0.        , 0.        , 0.28201019, 0.71798981, 0.        ]])"
      ]
     },
     "execution_count": 42,
     "metadata": {},
     "output_type": "execute_result"
    }
   ],
   "source": [
    "p_extended"
   ]
  }
 ],
 "metadata": {
  "kernelspec": {
   "display_name": "py312-MA",
   "language": "python",
   "name": "py312-ma"
  },
  "language_info": {
   "codemirror_mode": {
    "name": "ipython",
    "version": 3
   },
   "file_extension": ".py",
   "mimetype": "text/x-python",
   "name": "python",
   "nbconvert_exporter": "python",
   "pygments_lexer": "ipython3",
   "version": "3.12.4"
  }
 },
 "nbformat": 4,
 "nbformat_minor": 2
}
