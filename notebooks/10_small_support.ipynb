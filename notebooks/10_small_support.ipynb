{
 "cells": [
  {
   "cell_type": "code",
   "execution_count": 1,
   "metadata": {},
   "outputs": [],
   "source": [
    "%load_ext autoreload\n",
    "%autoreload 2"
   ]
  },
  {
   "cell_type": "code",
   "execution_count": 2,
   "metadata": {},
   "outputs": [],
   "source": [
    "import numpy as np"
   ]
  },
  {
   "cell_type": "code",
   "execution_count": 4,
   "metadata": {},
   "outputs": [
    {
     "name": "stdout",
     "output_type": "stream",
     "text": [
      "For m = 3 and full support were 0 of 100000 triples intransitive.\n",
      "For m = 4 and full support were 133 of 100000 triples intransitive.\n",
      "For m = 5 and full support were 222 of 100000 triples intransitive.\n",
      "For m = 6 and full support were 296 of 100000 triples intransitive.\n",
      "For m = 7 and full support were 309 of 100000 triples intransitive.\n",
      "For m = 8 and full support were 324 of 100000 triples intransitive.\n",
      "For m = 9 and full support were 359 of 100000 triples intransitive.\n",
      "For m = 10 and full support were 349 of 100000 triples intransitive.\n",
      "For m = 11 and full support were 376 of 100000 triples intransitive.\n",
      "For m = 12 and full support were 363 of 100000 triples intransitive.\n",
      "For m = 13 and full support were 333 of 100000 triples intransitive.\n",
      "For m = 14 and full support were 319 of 100000 triples intransitive.\n",
      "For m = 15 and full support were 314 of 100000 triples intransitive.\n",
      "For m = 16 and full support were 317 of 100000 triples intransitive.\n",
      "For m = 17 and full support were 306 of 100000 triples intransitive.\n",
      "For m = 18 and full support were 322 of 100000 triples intransitive.\n",
      "For m = 19 and full support were 251 of 100000 triples intransitive.\n",
      "For m = 20 and full support were 284 of 100000 triples intransitive.\n",
      "For m = 21 and full support were 264 of 100000 triples intransitive.\n",
      "For m = 22 and full support were 275 of 100000 triples intransitive.\n",
      "For m = 23 and full support were 225 of 100000 triples intransitive.\n",
      "For m = 24 and full support were 255 of 100000 triples intransitive.\n",
      "For m = 25 and full support were 239 of 100000 triples intransitive.\n",
      "For m = 26 and full support were 211 of 100000 triples intransitive.\n",
      "For m = 27 and full support were 236 of 100000 triples intransitive.\n",
      "For m = 28 and full support were 226 of 100000 triples intransitive.\n",
      "For m = 29 and full support were 226 of 100000 triples intransitive.\n",
      "For m = 30 and full support were 213 of 100000 triples intransitive.\n",
      "For m = 31 and full support were 222 of 100000 triples intransitive.\n",
      "For m = 32 and full support were 178 of 100000 triples intransitive.\n",
      "For m = 33 and full support were 194 of 100000 triples intransitive.\n",
      "For m = 34 and full support were 192 of 100000 triples intransitive.\n",
      "For m = 35 and full support were 205 of 100000 triples intransitive.\n",
      "For m = 36 and full support were 188 of 100000 triples intransitive.\n",
      "For m = 37 and full support were 195 of 100000 triples intransitive.\n",
      "For m = 38 and full support were 177 of 100000 triples intransitive.\n",
      "For m = 39 and full support were 175 of 100000 triples intransitive.\n",
      "For m = 40 and full support were 181 of 100000 triples intransitive.\n",
      "For m = 41 and full support were 179 of 100000 triples intransitive.\n",
      "For m = 42 and full support were 161 of 100000 triples intransitive.\n",
      "For m = 43 and full support were 154 of 100000 triples intransitive.\n",
      "For m = 44 and full support were 170 of 100000 triples intransitive.\n",
      "For m = 45 and full support were 147 of 100000 triples intransitive.\n",
      "For m = 46 and full support were 135 of 100000 triples intransitive.\n",
      "For m = 47 and full support were 158 of 100000 triples intransitive.\n",
      "For m = 48 and full support were 147 of 100000 triples intransitive.\n",
      "For m = 49 and full support were 137 of 100000 triples intransitive.\n"
     ]
    }
   ],
   "source": [
    "num_rep = 100000\n",
    "rng = np.random.default_rng()\n",
    "\n",
    "#simulate full support\n",
    "for m in range(3, 50):\n",
    "    ssb_utility = np.triu(np.ones((m, m))) - np.tril(np.ones((m, m)))\n",
    "    alpha = np.ones(m)\n",
    "    lotteries = rng.dirichlet(alpha, (3, num_rep))\n",
    "    comp01 = (np.sum(lotteries[0,:,:] @ ssb_utility * lotteries[1,:,:], axis=1) > 0).astype(int)\n",
    "    comp12 = (np.sum(lotteries[1,:,:] @ ssb_utility * lotteries[2,:,:], axis=1) > 0).astype(int)\n",
    "    comp20 = (np.sum(lotteries[2,:,:] @ ssb_utility * lotteries[0,:,:], axis=1) > 0).astype(int)\n",
    "    num_intr = np.sum(comp01 + comp12 + comp20 == 0) + np.sum(comp01 + comp12 + comp20 == 3)\n",
    "    print(f\"For m = {m} and full support were {num_intr} of {num_rep} triples intransitive.\")"
   ]
  },
  {
   "cell_type": "code",
   "execution_count": 9,
   "metadata": {},
   "outputs": [
    {
     "name": "stdout",
     "output_type": "stream",
     "text": [
      "For m = 10 and full support were 376 of 100000 triples intransitive.\n"
     ]
    }
   ],
   "source": [
    "num_rep = 100000\n",
    "rng = np.random.default_rng()\n",
    "\n",
    "#simulate full support\n",
    "for m in [10]:\n",
    "    ssb_utility = np.triu(np.ones((m, m))) - np.tril(np.ones((m, m)))\n",
    "    alpha = np.ones(m)\n",
    "    lotteries = rng.dirichlet(alpha, (3, num_rep))\n",
    "    comp01 = (np.sum(lotteries[0,:,:] @ ssb_utility * lotteries[1,:,:], axis=1) > 0).astype(int)\n",
    "    comp12 = (np.sum(lotteries[1,:,:] @ ssb_utility * lotteries[2,:,:], axis=1) > 0).astype(int)\n",
    "    comp20 = (np.sum(lotteries[2,:,:] @ ssb_utility * lotteries[0,:,:], axis=1) > 0).astype(int)\n",
    "    num_intr = np.sum(comp01 + comp12 + comp20 == 0) + np.sum(comp01 + comp12 + comp20 == 3)\n",
    "    print(f\"For m = {m} and full support were {num_intr} of {num_rep} triples intransitive.\")"
   ]
  },
  {
   "cell_type": "code",
   "execution_count": 10,
   "metadata": {},
   "outputs": [
    {
     "data": {
      "text/plain": [
       "0.20185725243139624"
      ]
     },
     "execution_count": 10,
     "metadata": {},
     "output_type": "execute_result"
    }
   ],
   "source": [
    "np.mean(np.abs(np.sum(lotteries[0,:,:] @ ssb_utility * lotteries[1,:,:], axis=1)))"
   ]
  },
  {
   "cell_type": "code",
   "execution_count": 3,
   "metadata": {},
   "outputs": [
    {
     "name": "stdout",
     "output_type": "stream",
     "text": [
      "For m = 10 and full support were 350 of 100000 triples intransitive.\n",
      "For m = 20 and full support were 275 of 100000 triples intransitive.\n",
      "For m = 30 and full support were 198 of 100000 triples intransitive.\n",
      "For m = 50 and full support were 112 of 100000 triples intransitive.\n",
      "For m = 70 and full support were 119 of 100000 triples intransitive.\n",
      "For m = 100 and full support were 81 of 100000 triples intransitive.\n",
      "For m = 150 and full support were 42 of 100000 triples intransitive.\n",
      "For m = 200 and full support were 52 of 100000 triples intransitive.\n",
      "For m = 400 and full support were 21 of 100000 triples intransitive.\n",
      "For m = 700 and full support were 13 of 100000 triples intransitive.\n",
      "For m = 1000 and full support were 6 of 100000 triples intransitive.\n"
     ]
    }
   ],
   "source": [
    "num_rep = 100000\n",
    "rng = np.random.default_rng()\n",
    "\n",
    "#simulate full support\n",
    "for m in [10, 20, 30, 50, 70, 100, 150, 200, 400, 700, 1000]:\n",
    "    ssb_utility = np.triu(np.ones((m, m))) - np.tril(np.ones((m, m)))\n",
    "    alpha = np.ones(m)\n",
    "    lotteries = rng.dirichlet(alpha, (3, num_rep))\n",
    "    comp01 = (np.sum(lotteries[0,:,:] @ ssb_utility * lotteries[1,:,:], axis=1) > 0).astype(int)\n",
    "    comp12 = (np.sum(lotteries[1,:,:] @ ssb_utility * lotteries[2,:,:], axis=1) > 0).astype(int)\n",
    "    comp20 = (np.sum(lotteries[2,:,:] @ ssb_utility * lotteries[0,:,:], axis=1) > 0).astype(int)\n",
    "    num_intr = np.sum(comp01 + comp12 + comp20 == 0) + np.sum(comp01 + comp12 + comp20 == 3)\n",
    "    print(f\"For m = {m} and full support were {num_intr} of {num_rep} triples intransitive.\")"
   ]
  },
  {
   "cell_type": "code",
   "execution_count": 11,
   "metadata": {},
   "outputs": [
    {
     "name": "stdout",
     "output_type": "stream",
     "text": [
      "For m = 10 and support of 2 were 738 of 100000 triples intransitive.\n",
      "For m = 10 and support of 3 were 1016 of 100000 triples intransitive.\n",
      "For m = 10 and support of 4 were 978 of 100000 triples intransitive.\n",
      "For m = 10 and support of 5 were 806 of 100000 triples intransitive.\n",
      "For m = 10 and support of 6 were 727 of 100000 triples intransitive.\n",
      "For m = 10 and support of 7 were 591 of 100000 triples intransitive.\n",
      "\n",
      "For m = 20 and support of 2 were 897 of 100000 triples intransitive.\n",
      "For m = 20 and support of 3 were 1273 of 100000 triples intransitive.\n",
      "For m = 20 and support of 4 were 1415 of 100000 triples intransitive.\n",
      "For m = 20 and support of 5 were 1246 of 100000 triples intransitive.\n",
      "For m = 20 and support of 6 were 1152 of 100000 triples intransitive.\n",
      "For m = 20 and support of 7 were 1055 of 100000 triples intransitive.\n",
      "For m = 20 and support of 10 were 773 of 100000 triples intransitive.\n",
      "\n",
      "For m = 30 and support of 2 were 1034 of 100000 triples intransitive.\n",
      "For m = 30 and support of 3 were 1507 of 100000 triples intransitive.\n",
      "For m = 30 and support of 4 were 1510 of 100000 triples intransitive.\n",
      "For m = 30 and support of 5 were 1425 of 100000 triples intransitive.\n",
      "For m = 30 and support of 6 were 1316 of 100000 triples intransitive.\n",
      "For m = 30 and support of 7 were 1195 of 100000 triples intransitive.\n",
      "For m = 30 and support of 10 were 863 of 100000 triples intransitive.\n",
      "For m = 30 and support of 20 were 418 of 100000 triples intransitive.\n",
      "\n",
      "For m = 50 and support of 2 were 1033 of 100000 triples intransitive.\n",
      "For m = 50 and support of 3 were 1501 of 100000 triples intransitive.\n",
      "For m = 50 and support of 4 were 1564 of 100000 triples intransitive.\n",
      "For m = 50 and support of 5 were 1628 of 100000 triples intransitive.\n",
      "For m = 50 and support of 6 were 1379 of 100000 triples intransitive.\n",
      "For m = 50 and support of 7 were 1248 of 100000 triples intransitive.\n",
      "For m = 50 and support of 10 were 1035 of 100000 triples intransitive.\n",
      "For m = 50 and support of 20 were 476 of 100000 triples intransitive.\n",
      "For m = 50 and support of 30 were 305 of 100000 triples intransitive.\n",
      "\n",
      "For m = 70 and support of 2 were 1113 of 100000 triples intransitive.\n",
      "For m = 70 and support of 3 were 1614 of 100000 triples intransitive.\n",
      "For m = 70 and support of 4 were 1698 of 100000 triples intransitive.\n",
      "For m = 70 and support of 5 were 1597 of 100000 triples intransitive.\n",
      "For m = 70 and support of 6 were 1438 of 100000 triples intransitive.\n",
      "For m = 70 and support of 7 were 1345 of 100000 triples intransitive.\n",
      "For m = 70 and support of 10 were 1022 of 100000 triples intransitive.\n",
      "For m = 70 and support of 20 were 583 of 100000 triples intransitive.\n",
      "For m = 70 and support of 30 were 361 of 100000 triples intransitive.\n",
      "\n",
      "For m = 100 and support of 2 were 1168 of 100000 triples intransitive.\n",
      "For m = 100 and support of 3 were 1651 of 100000 triples intransitive.\n",
      "For m = 100 and support of 4 were 1739 of 100000 triples intransitive.\n",
      "For m = 100 and support of 5 were 1664 of 100000 triples intransitive.\n",
      "For m = 100 and support of 6 were 1486 of 100000 triples intransitive.\n",
      "For m = 100 and support of 7 were 1403 of 100000 triples intransitive.\n",
      "For m = 100 and support of 10 were 1137 of 100000 triples intransitive.\n",
      "For m = 100 and support of 20 were 610 of 100000 triples intransitive.\n",
      "For m = 100 and support of 30 were 424 of 100000 triples intransitive.\n",
      "\n"
     ]
    }
   ],
   "source": [
    "num_rep = 100000\n",
    "rng = np.random.default_rng()\n",
    "\n",
    "for m in [10, 20, 30, 50, 70, 100]:\n",
    "    ssb_utility = np.triu(np.ones((m, m))) - np.tril(np.ones((m, m)))\n",
    "    for supp in [2, 3, 4, 5, 6, 7, 10, 20, 30]:\n",
    "        if supp >= m:\n",
    "            break\n",
    "        alpha = np.ones(supp)\n",
    "        lott_comps = rng.dirichlet(alpha, (3, num_rep))\n",
    "        mask = np.tile(np.array([1]*supp + [0]*(m - supp)), (3, num_rep, 1))\n",
    "        mask = rng.permuted(mask, axis=2)\n",
    "        lotteries = np.zeros((3, num_rep, m))\n",
    "        lotteries[mask.astype(bool)] = lott_comps.flatten()\n",
    "        comp01 = (np.sum(lotteries[0,:,:] @ ssb_utility * lotteries[1,:,:], axis=1) > 0).astype(int)\n",
    "        comp12 = (np.sum(lotteries[1,:,:] @ ssb_utility * lotteries[2,:,:], axis=1) > 0).astype(int)\n",
    "        comp20 = (np.sum(lotteries[2,:,:] @ ssb_utility * lotteries[0,:,:], axis=1) > 0).astype(int)\n",
    "        num_intr = np.sum(comp01 + comp12 + comp20 == 0) + np.sum(comp01 + comp12 + comp20 == 3)\n",
    "        print(f\"For m = {m} and support of {supp} were {num_intr} of {num_rep} triples intransitive.\")\n",
    "    print()"
   ]
  },
  {
   "cell_type": "code",
   "execution_count": 3,
   "metadata": {},
   "outputs": [
    {
     "name": "stdout",
     "output_type": "stream",
     "text": [
      "For m = 3 and support of 2 were 0 of 100000 triples intransitive.\n",
      "For m = 4 and support of 2 were 190 of 100000 triples intransitive.\n",
      "For m = 5 and support of 2 were 338 of 100000 triples intransitive.\n",
      "For m = 6 and support of 2 were 485 of 100000 triples intransitive.\n",
      "For m = 7 and support of 2 were 588 of 100000 triples intransitive.\n",
      "For m = 8 and support of 2 were 621 of 100000 triples intransitive.\n",
      "For m = 9 and support of 2 were 660 of 100000 triples intransitive.\n",
      "For m = 10 and support of 2 were 728 of 100000 triples intransitive.\n",
      "For m = 15 and support of 2 were 897 of 100000 triples intransitive.\n",
      "For m = 20 and support of 2 were 965 of 100000 triples intransitive.\n",
      "For m = 30 and support of 2 were 1008 of 100000 triples intransitive.\n",
      "For m = 50 and support of 2 were 1103 of 100000 triples intransitive.\n",
      "For m = 70 and support of 2 were 1161 of 100000 triples intransitive.\n",
      "For m = 100 and support of 2 were 1119 of 100000 triples intransitive.\n"
     ]
    }
   ],
   "source": [
    "num_rep = 100000\n",
    "rng = np.random.default_rng()\n",
    "\n",
    "for m in [3, 4, 5, 6, 7, 8 , 9, 10, 15, 20, 30, 50, 70, 100]:\n",
    "    ssb_utility = np.triu(np.ones((m, m))) - np.tril(np.ones((m, m)))\n",
    "    for supp in [2]:\n",
    "        if supp >= m:\n",
    "            break\n",
    "        alpha = np.ones(supp)\n",
    "        lott_comps = rng.dirichlet(alpha, (3, num_rep))\n",
    "        mask = np.tile(np.array([1]*supp + [0]*(m - supp)), (3, num_rep, 1))\n",
    "        mask = rng.permuted(mask, axis=2)\n",
    "        lotteries = np.zeros((3, num_rep, m))\n",
    "        lotteries[mask.astype(bool)] = lott_comps.flatten()\n",
    "        comp01 = (np.sum(lotteries[0,:,:] @ ssb_utility * lotteries[1,:,:], axis=1) > 0).astype(int)\n",
    "        comp12 = (np.sum(lotteries[1,:,:] @ ssb_utility * lotteries[2,:,:], axis=1) > 0).astype(int)\n",
    "        comp20 = (np.sum(lotteries[2,:,:] @ ssb_utility * lotteries[0,:,:], axis=1) > 0).astype(int)\n",
    "        num_intr = np.sum(comp01 + comp12 + comp20 == 0) + np.sum(comp01 + comp12 + comp20 == 3)\n",
    "        print(f\"For m = {m} and support of {supp} were {num_intr} of {num_rep} triples intransitive.\")"
   ]
  },
  {
   "cell_type": "code",
   "execution_count": 14,
   "metadata": {},
   "outputs": [
    {
     "name": "stdout",
     "output_type": "stream",
     "text": [
      "For m = 4 and support of 2 were 2063 of 1000000 triples intransitive.\n",
      "For m = 5 and support of 2 were 3712 of 1000000 triples intransitive.\n",
      "For m = 6 and support of 2 were 4737 of 1000000 triples intransitive.\n",
      "For m = 7 and support of 2 were 5589 of 1000000 triples intransitive.\n",
      "For m = 8 and support of 2 were 6379 of 1000000 triples intransitive.\n",
      "For m = 9 and support of 2 were 7130 of 1000000 triples intransitive.\n",
      "For m = 10 and support of 2 were 7386 of 1000000 triples intransitive.\n",
      "For m = 11 and support of 2 were 7907 of 1000000 triples intransitive.\n",
      "For m = 12 and support of 2 were 8131 of 1000000 triples intransitive.\n",
      "For m = 13 and support of 2 were 8112 of 1000000 triples intransitive.\n",
      "For m = 14 and support of 2 were 8585 of 1000000 triples intransitive.\n",
      "For m = 15 and support of 2 were 8773 of 1000000 triples intransitive.\n",
      "For m = 16 and support of 2 were 8960 of 1000000 triples intransitive.\n",
      "For m = 17 and support of 2 were 9258 of 1000000 triples intransitive.\n",
      "For m = 18 and support of 2 were 9309 of 1000000 triples intransitive.\n",
      "For m = 19 and support of 2 were 9350 of 1000000 triples intransitive.\n",
      "For m = 20 and support of 2 were 9627 of 1000000 triples intransitive.\n",
      "For m = 21 and support of 2 were 9570 of 1000000 triples intransitive.\n",
      "For m = 22 and support of 2 were 9700 of 1000000 triples intransitive.\n",
      "For m = 23 and support of 2 were 9853 of 1000000 triples intransitive.\n",
      "For m = 24 and support of 2 were 9921 of 1000000 triples intransitive.\n",
      "For m = 25 and support of 2 were 9815 of 1000000 triples intransitive.\n",
      "For m = 26 and support of 2 were 9950 of 1000000 triples intransitive.\n",
      "For m = 27 and support of 2 were 10196 of 1000000 triples intransitive.\n",
      "For m = 28 and support of 2 were 10151 of 1000000 triples intransitive.\n",
      "For m = 29 and support of 2 were 10229 of 1000000 triples intransitive.\n",
      "For m = 30 and support of 2 were 10230 of 1000000 triples intransitive.\n",
      "[2063, 3712, 4737, 5589, 6379, 7130, 7386, 7907, 8131, 8112, 8585, 8773, 8960, 9258, 9309, 9350, 9627, 9570, 9700, 9853, 9921, 9815, 9950, 10196, 10151, 10229, 10230]\n",
      "m=4 to m+1: 1.799321376635967\n",
      "m=5 to m+1: 1.2761314655172413\n",
      "m=6 to m+1: 1.1798606713109563\n",
      "m=7 to m+1: 1.1413490785471463\n",
      "m=8 to m+1: 1.1177300517322464\n",
      "m=9 to m+1: 1.0359046283309958\n",
      "m=10 to m+1: 1.07053885729759\n",
      "m=11 to m+1: 1.0283293284431516\n",
      "m=12 to m+1: 0.9976632640511622\n",
      "m=13 to m+1: 1.058308678500986\n",
      "m=14 to m+1: 1.0218986604542808\n",
      "m=15 to m+1: 1.0213153995212585\n",
      "m=16 to m+1: 1.0332589285714286\n",
      "m=17 to m+1: 1.0055087491898898\n",
      "m=18 to m+1: 1.0044043398861318\n",
      "m=19 to m+1: 1.0296256684491978\n",
      "m=20 to m+1: 0.9940791523839202\n",
      "m=21 to m+1: 1.013584117032393\n",
      "m=22 to m+1: 1.0157731958762886\n",
      "m=23 to m+1: 1.0069014513346188\n",
      "m=24 to m+1: 0.9893155931861708\n",
      "m=25 to m+1: 1.0137544574630668\n",
      "m=26 to m+1: 1.0247236180904522\n",
      "m=27 to m+1: 0.9955865045115732\n",
      "m=28 to m+1: 1.0076839720224608\n",
      "m=29 to m+1: 1.0000977612669861\n"
     ]
    }
   ],
   "source": [
    "num_rep = 1000000\n",
    "rng = np.random.default_rng()\n",
    "supp = 2\n",
    "list_intr = []\n",
    "\n",
    "for m in range(4, 31):\n",
    "    ssb_utility = np.triu(np.ones((m, m))) - np.tril(np.ones((m, m)))\n",
    "    alpha = np.ones(supp)\n",
    "    lott_comps = rng.dirichlet(alpha, (3, num_rep))\n",
    "    mask = np.tile(np.array([1]*supp + [0]*(m - supp)), (3, num_rep, 1))\n",
    "    mask = rng.permuted(mask, axis=2)\n",
    "    lotteries = np.zeros((3, num_rep, m))\n",
    "    lotteries[mask.astype(bool)] = lott_comps.flatten()\n",
    "    comp01 = (np.sum(lotteries[0,:,:] @ ssb_utility * lotteries[1,:,:], axis=1) > 0).astype(int)\n",
    "    comp12 = (np.sum(lotteries[1,:,:] @ ssb_utility * lotteries[2,:,:], axis=1) > 0).astype(int)\n",
    "    comp20 = (np.sum(lotteries[2,:,:] @ ssb_utility * lotteries[0,:,:], axis=1) > 0).astype(int)\n",
    "    num_intr = np.sum(comp01 + comp12 + comp20 == 0) + np.sum(comp01 + comp12 + comp20 == 3)\n",
    "    list_intr += [num_intr]\n",
    "    print(f\"For m = {m} and support of {supp} were {num_intr} of {num_rep} triples intransitive.\")\n",
    "\n",
    "print(list_intr)\n",
    "for i in range(len(list_intr) - 1):\n",
    "    print(f\"m={i+4} to m+1: {list_intr[i+1]/list_intr[i]}\")"
   ]
  },
  {
   "cell_type": "code",
   "execution_count": 8,
   "metadata": {},
   "outputs": [
    {
     "name": "stdout",
     "output_type": "stream",
     "text": [
      "4 0.4444444444444444 0.5277777777777778 0.0 -0.0\n",
      "5 0.24 0.57 0.18 0.0\n",
      "6 0.14222222222222222 0.5066666666666667 0.32 0.02666666666666667\n",
      "7 0.09070294784580499 0.4308390022675737 0.40816326530612246 0.06802721088435375\n",
      "8 0.061224489795918366 0.3635204081632653 0.45918367346938777 0.11479591836734694\n",
      "9 0.043209876543209874 0.30787037037037035 0.4861111111111111 0.16203703703703703\n",
      "10 0.03160493827160494 0.26271604938271603 0.49777777777777776 0.2074074074074074\n",
      "11 0.023801652892561982 0.22611570247933885 0.49983471074380165 0.24991735537190082\n",
      "12 0.018365472910927456 0.1962809917355372 0.49586776859504134 0.2892561983471074\n",
      "13 0.014464168310322156 0.1717619986850756 0.4881656804733728 0.3254437869822485\n",
      "14 0.011592802801594011 0.15143098659582177 0.4782031155657529 0.3586523366743147\n",
      "15 0.00943310657596372 0.13442176870748299 0.4669387755102041 0.3891156462585034\n",
      "16 0.0077777777777777776 0.12006944444444445 0.455 0.4170833333333333\n",
      "17 0.006487889273356401 0.10786115916955018 0.4427984429065744 0.4427984429065744\n",
      "18 0.00546798239993165 0.09739843649878252 0.43060361399461744 0.4664872484941689\n",
      "19 0.004651003727642693 0.08836907082521117 0.4185903354878424 0.4883553914024828\n",
      "20 0.003988919667590028 0.08052631578947368 0.40686980609418283 0.5085872576177285\n",
      "21 0.0034467120181405895 0.0736734693877551 0.3955102040816327 0.5273469387755102\n",
      "22 0.002998444556886115 0.06765240531474298 0.3845505144206443 0.5447798954292461\n",
      "23 0.0026246309112781013 0.06233498414285491 0.3740099048571295 0.5610148572856942\n",
      "24 0.0023104389834068474 0.05761657214870825 0.3638941398865784 0.5761657214870826\n",
      "25 0.0020444444444444447 0.05341111111111111 0.3542 0.5903333333333334\n",
      "26 0.001817751479289941 0.04964733727810651 0.34491834319526626 0.603607100591716\n",
      "27 0.0016233634467252701 0.0462658582316702 0.3360362334721309 0.61606642803224\n",
      "28 0.0014557263234511912 0.043216875227457235 0.327538422776518 0.6277819769883262\n",
      "29 0.0013103933606736391 0.04045839501079861 0.31940838166419955 0.6388167633283991\n",
      "30 0.00118377592812789 0.037954815695600476 0.31162901307966706 0.6492271105826397\n",
      "31 0.0010729564111457972 0.03567580067059776 0.30418314255983353 0.659063475546306\n",
      "32 0.0009755463059313215 0.033595375910509886 0.29705385015608743 0.6683711628511967\n",
      "33 0.0008895775941230486 0.03169120179063361 0.2902246900826446 0.6771909435261708\n",
      "34 0.0008134188694113198 0.029943982130204213 0.2836798307071978 0.685559590875728\n",
      "35 0.0007457100487253725 0.028336981851564157 0.2774041381258386 0.6935103453145964\n",
      "36 0.0006853111615016377 0.026855631141345426 0.27138321995464854 0.7010733182161754\n",
      "37 0.0006312618925231537 0.025487198910622334 0.26560344127911695 0.7082758434109786\n",
      "38 0.0005827494035924072 0.024220522086809426 0.2600519213531117 0.7151427837210573\n",
      "39 0.0005390825761590731 0.023045780130800372 0.25471651723516203 0.7216967988329591\n",
      "40 0.0004996712689020381 0.0219543063773833 0.24958579881656806 0.7279585798816568\n",
      "41 0.0004640095181439619 0.020938429506246282 0.24464901844140394 0.7339470553242118\n",
      "42 0.0004316618576837834 0.019991339783980218 0.23989607740776264 0.7396795720072681\n",
      "43 0.00040225212132806974 0.01910697576308331 0.23531749097692078 0.7451720547602492\n",
      "44 0.0003754542325760183 0.01827992794854489 0.23090435303425125 0.7504391473613166\n",
      "45 0.00035098459340883584 0.017505356596265686 0.22664830119375573 0.7554943373125191\n",
      "46 0.00032859576652897386 0.016778921328385727 0.22254148288174752 0.7603500665126374\n",
      "47 0.0003080712089484417 0.016096720667556078 0.2185765227489194 0.7650178296212179\n",
      "48 0.00028922086414164276 0.015455239927569036 0.21474649162516976 0.7695082616568583\n",
      "49 0.00027187745846637973 0.014851306168725993 0.21104487713452727 0.7738312161599333\n",
      "50 0.000255893377759267 0.014282049146189088 0.2074655560183257 0.7779958350687214\n",
      "51 0.00024113802383698578 0.013744867358708189 0.20400276816608998 0.7820106113033448\n",
      "52 0.00022749556952378352 0.013237398451665154 0.20065109231997708 0.7858834449199101\n",
      "53 0.0002148630458732603 0.01275749334872483 0.1974054233960579 0.7896216935842316\n",
      "54 0.00020314870729543145 0.012303193585579568 0.19426095135125632 0.79323221801763\n",
      "55 0.0001922706299810677 0.01187271140133093 0.19121314151617183 0.7967214229840492\n",
      "56 0.00018215550683083152 0.011464412211165459 0.18825771630966437 0.8000952943160735\n",
      "57 0.00017273760843210785 0.011076799140708915 0.18539063824975974 0.8033594324156256\n",
      "58 0.00016395788478225625 0.01070849934984111 0.18260809417623788 0.8065190826117173\n",
      "59 0.00015576318666885738 0.010358251913479015 0.17990648060253026 0.8095791627113862\n",
      "60 0.00014810558907082895 0.010024897060231734 0.17728239011778224 0.8125442880398352\n"
     ]
    }
   ],
   "source": [
    "from scipy.special import binom\n",
    "\n",
    "for m in range(4, 61):\n",
    "    denom = binom(m, 2)**2\n",
    "    s3 = (2*(m-2) + 6*(m-2))/denom\n",
    "    s4 = (binom(m-2, 2) + 2*(m-2)*3*(m-3) + binom(m-2, 2)*6)/denom\n",
    "    s5 = (2*(m-2)*binom(m-3, 2) + binom(m-2, 2)*4*(m-4))/denom\n",
    "    s6 = binom(m-2, 2)*binom(m-4, 2)/denom\n",
    "    print(m, s3, s4, s5, s6)"
   ]
  }
 ],
 "metadata": {
  "kernelspec": {
   "display_name": "py312-MA",
   "language": "python",
   "name": "py312-ma"
  },
  "language_info": {
   "codemirror_mode": {
    "name": "ipython",
    "version": 3
   },
   "file_extension": ".py",
   "mimetype": "text/x-python",
   "name": "python",
   "nbconvert_exporter": "python",
   "pygments_lexer": "ipython3",
   "version": "3.12.4"
  }
 },
 "nbformat": 4,
 "nbformat_minor": 2
}
