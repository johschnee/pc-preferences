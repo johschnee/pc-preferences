{
 "cells": [
  {
   "cell_type": "code",
   "execution_count": 1,
   "metadata": {},
   "outputs": [],
   "source": [
    "%load_ext autoreload\n",
    "%autoreload 2"
   ]
  },
  {
   "cell_type": "code",
   "execution_count": 2,
   "metadata": {},
   "outputs": [],
   "source": [
    "import numpy as np"
   ]
  },
  {
   "cell_type": "code",
   "execution_count": null,
   "metadata": {},
   "outputs": [
    {
     "data": {
      "text/plain": [
       "0.0384"
      ]
     },
     "execution_count": 25,
     "metadata": {},
     "output_type": "execute_result"
    }
   ],
   "source": [
    "# case 10\n",
    "\n",
    "counts = 0\n",
    "for _ in range(10000):\n",
    "    p, q, r = np.random.uniform(size=3)\n",
    "    if p > (1-p)*(2*q-1) and q > (1-q)*(2*r-1) and p < (1-p)*(2*r-1):\n",
    "        counts += 1\n",
    "counts/10000"
   ]
  },
  {
   "cell_type": "code",
   "execution_count": null,
   "metadata": {},
   "outputs": [
    {
     "data": {
      "text/plain": [
       "0.0188"
      ]
     },
     "execution_count": 35,
     "metadata": {},
     "output_type": "execute_result"
    }
   ],
   "source": [
    "# case 11\n",
    "\n",
    "counts = 0\n",
    "for _ in range(10000):\n",
    "    p, q, r = np.random.uniform(size=3)\n",
    "    if p > (1-p)*(2*q-1) and q > 0.5 and p < (1-p)*(2*r-1):\n",
    "        counts += 1\n",
    "counts/10000"
   ]
  },
  {
   "cell_type": "code",
   "execution_count": 5,
   "metadata": {},
   "outputs": [
    {
     "data": {
      "text/plain": [
       "0.0195"
      ]
     },
     "execution_count": 5,
     "metadata": {},
     "output_type": "execute_result"
    }
   ],
   "source": [
    "# case 12\n",
    "\n",
    "counts = 0\n",
    "for _ in range(10000):\n",
    "    p, q, r = np.random.uniform(size=3)\n",
    "    if p < 0.5 and q < (1-q)*(2*r-1) and p > (1-p)*(2*r-1):\n",
    "        counts += 1\n",
    "counts/10000"
   ]
  },
  {
   "cell_type": "code",
   "execution_count": null,
   "metadata": {},
   "outputs": [
    {
     "data": {
      "text/plain": [
       "0.0967"
      ]
     },
     "execution_count": 3,
     "metadata": {},
     "output_type": "execute_result"
    }
   ],
   "source": [
    "# case 14\n",
    "\n",
    "counts = 0\n",
    "for _ in range(10000):\n",
    "    p, q, r = np.random.uniform(size=3)\n",
    "    if p > (1-p)*(2*q-1) and q > 0.5 and p < 0.5:\n",
    "        counts += 1\n",
    "counts/10000"
   ]
  }
 ],
 "metadata": {
  "kernelspec": {
   "display_name": "py312-MA",
   "language": "python",
   "name": "py312-ma"
  },
  "language_info": {
   "codemirror_mode": {
    "name": "ipython",
    "version": 3
   },
   "file_extension": ".py",
   "mimetype": "text/x-python",
   "name": "python",
   "nbconvert_exporter": "python",
   "pygments_lexer": "ipython3",
   "version": "3.12.4"
  }
 },
 "nbformat": 4,
 "nbformat_minor": 2
}
