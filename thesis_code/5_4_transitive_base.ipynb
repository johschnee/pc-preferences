{
 "cells": [
  {
   "cell_type": "code",
   "execution_count": 1,
   "id": "d06d47b3",
   "metadata": {},
   "outputs": [],
   "source": [
    "import sys\n",
    "import datetime\n",
    "\n",
    "import numpy as np\n",
    "from scipy import integrate\n",
    "import pandas as pd\n",
    "import matplotlib.pyplot as plt\n",
    "import seaborn as sns\n",
    "from struct import pack, unpack\n",
    "\n",
    "sys.path.insert(0, \"../\")\n",
    "from paths import FIG_DIR, DATA_DIR"
   ]
  },
  {
   "cell_type": "code",
   "execution_count": 2,
   "id": "04e987c2",
   "metadata": {},
   "outputs": [],
   "source": [
    "def compute_lcs_volume_vectorized(p_matr, ssb):\n",
    "    normal = - p_matr @ ssb\n",
    "    normal_short = np.where(normal < 0, normal, 0)\n",
    "    with np.errstate(divide='ignore'):\n",
    "        factors = normal_short[:, :, None] / (normal_short[:, :, None] - normal[:, None, :])\n",
    "        factors = np.nan_to_num(factors, copy=False, nan=1.0, posinf=1.0, neginf=1.0)\n",
    "    summands = np.prod(factors, axis=2)\n",
    "    return np.sum(summands, axis=1)"
   ]
  },
  {
   "cell_type": "code",
   "execution_count": null,
   "id": "b84cf2d3",
   "metadata": {},
   "outputs": [],
   "source": [
    "# intr_dict = {4: 0.0013068658490566038, 5: 0.0023164428679245284} # compare Notebook 5_2 and 5_3\n",
    "# with open(DATA_DIR / '5_4_sim_transitive.dat', 'wb') as file:\n",
    "#     file.write(pack('d' * len(intr_dict) , *intr_dict.values()))"
   ]
  },
  {
   "cell_type": "code",
   "execution_count": 3,
   "id": "87a4eeab",
   "metadata": {},
   "outputs": [
    {
     "data": {
      "text/plain": [
       "{4: 0.0013068658490566038, 5: 0.0023164428679245284}"
      ]
     },
     "execution_count": 3,
     "metadata": {},
     "output_type": "execute_result"
    }
   ],
   "source": [
    "with open(DATA_DIR / '5_4_sim_transitive.dat', 'rb') as file:\n",
    "    packed = file.read()\n",
    "    read = list(unpack('d' * (len(packed) // 8), packed)) # 8 bytes per double\n",
    "intr_dict_read = {i + 4: read[i] for i in range(len(read))}\n",
    "intr_dict_read"
   ]
  },
  {
   "cell_type": "code",
   "execution_count": null,
   "id": "a38e6731",
   "metadata": {},
   "outputs": [
    {
     "name": "stdout",
     "output_type": "stream",
     "text": [
      "Starting 13 at 2025-04-28 08:53:12\n",
      "Finished 13 at 2025-04-28 13:08:44\n",
      "Results for m=13: np.mean(batch_results)=0.0033663879622641505, np.std(batch_results)=1.803149054624522e-05, len(batch_results)=2650\n",
      "Starting 14 at 2025-04-28 13:08:44\n",
      "Finished 14 at 2025-04-28 17:40:36\n",
      "Results for m=14: np.mean(batch_results)=0.003281799886792453, np.std(batch_results)=1.8109184680667012e-05, len(batch_results)=2650\n"
     ]
    }
   ],
   "source": [
    "num_samples = 2.65 * 10**10 #1 sample corresponds to 3 lotteries, a triple!\n",
    "\n",
    "with open(DATA_DIR / '5_4_sim_transitive.dat', 'rb') as file:\n",
    "    packed = file.read()\n",
    "    read = list(unpack('d' * (len(packed) // 8), packed)) # 8 bytes per double\n",
    "intr_dict = {i + 4: read[i] for i in range(len(read))}\n",
    "\n",
    "for m in range(4 + len(intr_dict), 16):\n",
    "    now = datetime.datetime.now()\n",
    "    print(f\"Starting {m} at {now.strftime('%Y-%m-%d %H:%M:%S')}\")\n",
    "\n",
    "    rng = np.random.default_rng(2025 + m)\n",
    "    ssb_tr = np.triu(np.ones((m, m))) - np.tril(np.ones((m, m)))\n",
    "    alpha = np.ones(m)\n",
    "    batch_size = 10**7\n",
    "\n",
    "    batch_results = []\n",
    "\n",
    "    for i in range(len(batch_results)*batch_size, int(num_samples), batch_size):\n",
    "        lotteries = rng.dirichlet(alpha, (3, batch_size))\n",
    "        comp01 = (np.sum(lotteries[0,:,:] @ ssb_tr * lotteries[1,:,:], axis=1) > 0).astype(int)\n",
    "        comp12 = (np.sum(lotteries[1,:,:] @ ssb_tr * lotteries[2,:,:], axis=1) > 0).astype(int)\n",
    "        comp20 = (np.sum(lotteries[2,:,:] @ ssb_tr * lotteries[0,:,:], axis=1) > 0).astype(int)\n",
    "        num_intr = np.sum(comp01 + comp12 + comp20 == 0) + np.sum(comp01 + comp12 + comp20 == 3)\n",
    "        batch_results.append(num_intr/batch_size)\n",
    "\n",
    "    now = datetime.datetime.now()\n",
    "    print(f\"Finished {m} at {now.strftime('%Y-%m-%d %H:%M:%S')}\")\n",
    "    print(f\"Results for m={m}: np.mean(batch_results)={np.mean(batch_results)}, np.std(batch_results)={np.std(batch_results)}, len(batch_results)={len(batch_results)}\")\n",
    "    intr_dict[m] = np.mean(batch_results)\n",
    "    with open(DATA_DIR / '5_4_sim_transitive.dat', 'wb') as file:\n",
    "        file.write(pack('d' * len(intr_dict) , *intr_dict.values()))"
   ]
  },
  {
   "cell_type": "code",
   "execution_count": 4,
   "id": "bcfc6479",
   "metadata": {},
   "outputs": [
    {
     "data": {
      "text/plain": [
       "{4: 0.0013068658490566038,\n",
       " 5: 0.0023164428679245284,\n",
       " 6: 0.0029405492452830194,\n",
       " 7: 0.0032902126037735848,\n",
       " 8: 0.003469022490566038,\n",
       " 9: 0.003539500716981132,\n",
       " 10: 0.0035421367924528303,\n",
       " 11: 0.0035046867169811315,\n",
       " 12: 0.003442786603773585,\n",
       " 13: 0.0033663879622641505,\n",
       " 14: 0.003281799886792453}"
      ]
     },
     "execution_count": 4,
     "metadata": {},
     "output_type": "execute_result"
    }
   ],
   "source": [
    "intr_dict"
   ]
  },
  {
   "cell_type": "code",
   "execution_count": null,
   "id": "dc49e01f",
   "metadata": {},
   "outputs": [],
   "source": [
    "# sample_dict = {\"4\": 0.001306, \"5\": 0.002625, \"6\": 0.003944, \"7\": 0.001733}"
   ]
  },
  {
   "cell_type": "code",
   "execution_count": 5,
   "id": "3e927fba",
   "metadata": {},
   "outputs": [
    {
     "data": {
      "text/html": [
       "<div>\n",
       "<style scoped>\n",
       "    .dataframe tbody tr th:only-of-type {\n",
       "        vertical-align: middle;\n",
       "    }\n",
       "\n",
       "    .dataframe tbody tr th {\n",
       "        vertical-align: top;\n",
       "    }\n",
       "\n",
       "    .dataframe thead th {\n",
       "        text-align: right;\n",
       "    }\n",
       "</style>\n",
       "<table border=\"1\" class=\"dataframe\">\n",
       "  <thead>\n",
       "    <tr style=\"text-align: right;\">\n",
       "      <th></th>\n",
       "      <th>num_alt</th>\n",
       "      <th>prob_intr</th>\n",
       "    </tr>\n",
       "  </thead>\n",
       "  <tbody>\n",
       "    <tr>\n",
       "      <th>0</th>\n",
       "      <td>4</td>\n",
       "      <td>0.001307</td>\n",
       "    </tr>\n",
       "    <tr>\n",
       "      <th>1</th>\n",
       "      <td>5</td>\n",
       "      <td>0.002316</td>\n",
       "    </tr>\n",
       "    <tr>\n",
       "      <th>2</th>\n",
       "      <td>6</td>\n",
       "      <td>0.002941</td>\n",
       "    </tr>\n",
       "    <tr>\n",
       "      <th>3</th>\n",
       "      <td>7</td>\n",
       "      <td>0.003290</td>\n",
       "    </tr>\n",
       "    <tr>\n",
       "      <th>4</th>\n",
       "      <td>8</td>\n",
       "      <td>0.003469</td>\n",
       "    </tr>\n",
       "    <tr>\n",
       "      <th>5</th>\n",
       "      <td>9</td>\n",
       "      <td>0.003540</td>\n",
       "    </tr>\n",
       "    <tr>\n",
       "      <th>6</th>\n",
       "      <td>10</td>\n",
       "      <td>0.003542</td>\n",
       "    </tr>\n",
       "    <tr>\n",
       "      <th>7</th>\n",
       "      <td>11</td>\n",
       "      <td>0.003505</td>\n",
       "    </tr>\n",
       "    <tr>\n",
       "      <th>8</th>\n",
       "      <td>12</td>\n",
       "      <td>0.003443</td>\n",
       "    </tr>\n",
       "    <tr>\n",
       "      <th>9</th>\n",
       "      <td>13</td>\n",
       "      <td>0.003366</td>\n",
       "    </tr>\n",
       "    <tr>\n",
       "      <th>10</th>\n",
       "      <td>14</td>\n",
       "      <td>0.003282</td>\n",
       "    </tr>\n",
       "  </tbody>\n",
       "</table>\n",
       "</div>"
      ],
      "text/plain": [
       "    num_alt  prob_intr\n",
       "0         4   0.001307\n",
       "1         5   0.002316\n",
       "2         6   0.002941\n",
       "3         7   0.003290\n",
       "4         8   0.003469\n",
       "5         9   0.003540\n",
       "6        10   0.003542\n",
       "7        11   0.003505\n",
       "8        12   0.003443\n",
       "9        13   0.003366\n",
       "10       14   0.003282"
      ]
     },
     "execution_count": 5,
     "metadata": {},
     "output_type": "execute_result"
    }
   ],
   "source": [
    "df = pd.DataFrame(intr_dict.items(), columns=[\"num_alt\", \"prob_intr\"])\n",
    "df"
   ]
  },
  {
   "cell_type": "code",
   "execution_count": 6,
   "id": "f9514ba6",
   "metadata": {},
   "outputs": [
    {
     "data": {
      "text/plain": [
       "<Axes: xlabel='num_alt', ylabel='prob_intr'>"
      ]
     },
     "execution_count": 6,
     "metadata": {},
     "output_type": "execute_result"
    },
    {
     "data": {
      "image/png": "[encoded data removed]",
      "text/plain": [
       "<Figure size 640x480 with 1 Axes>"
      ]
     },
     "metadata": {},
     "output_type": "display_data"
    }
   ],
   "source": [
    "sns.lineplot(x='num_alt', y='prob_intr', data=df, err_style='bars')"
   ]
  },
  {
   "cell_type": "code",
   "execution_count": 9,
   "id": "7d922cb4",
   "metadata": {},
   "outputs": [
    {
     "data": {
      "text/plain": [
       "<ErrorbarContainer object of 3 artists>"
      ]
     },
     "execution_count": 9,
     "metadata": {},
     "output_type": "execute_result"
    },
    {
     "data": {
      "image/png": "[encoded data removed]",
      "text/plain": [
       "<Figure size 800x500 with 1 Axes>"
      ]
     },
     "metadata": {},
     "output_type": "display_data"
    }
   ],
   "source": [
    "df['error'] = 1e-5\n",
    "\n",
    "# Plot with error bars\n",
    "plt.figure(figsize=(8, 5))\n",
    "line = sns.lineplot(x='num_alt', y='prob_intr', data=df, err_style='bars', errorbar=None)\n",
    "plt.errorbar(df['num_alt'], df['prob_intr'], yerr=df['error'], fmt='o', color=line.lines[0].get_color(), capsize=5)"
   ]
  }
 ],
 "metadata": {
  "kernelspec": {
   "display_name": "py312-MA",
   "language": "python",
   "name": "py312-ma"
  },
  "language_info": {
   "codemirror_mode": {
    "name": "ipython",
    "version": 3
   },
   "file_extension": ".py",
   "mimetype": "text/x-python",
   "name": "python",
   "nbconvert_exporter": "python",
   "pygments_lexer": "ipython3",
   "version": "3.12.2"
  }
 },
 "nbformat": 4,
 "nbformat_minor": 5
}
