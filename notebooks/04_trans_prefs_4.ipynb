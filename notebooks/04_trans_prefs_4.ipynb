{
 "cells": [
  {
   "cell_type": "code",
   "execution_count": 1,
   "metadata": {},
   "outputs": [],
   "source": [
    "%load_ext autoreload\n",
    "%autoreload 2"
   ]
  },
  {
   "cell_type": "code",
   "execution_count": 2,
   "metadata": {},
   "outputs": [],
   "source": [
    "import numpy as np\n",
    "import ternary"
   ]
  },
  {
   "cell_type": "code",
   "execution_count": 3,
   "metadata": {},
   "outputs": [
    {
     "data": {
      "text/plain": [
       "(array([0.28841594, 0.38647499, 0.25619379, 0.06891528]),\n",
       " array([0.20702342, 0.45557416, 0.03809485, 0.29930758]),\n",
       " array([0.21111254, 0.03720854, 0.07451669, 0.67716224]))"
      ]
     },
     "execution_count": 3,
     "metadata": {},
     "output_type": "execute_result"
    }
   ],
   "source": [
    "ssb_utility = np.array([[0, 1, 1, 1], [-1, 0, 1, 1], [-1, -1, 0, 1], [-1, -1, -1, 0]])\n",
    "alpha = np.ones(4)\n",
    "rng = np.random.default_rng()\n",
    "p, q, r = [rng.dirichlet(alpha) for i in range(3)]\n",
    "p, q, r"
   ]
  },
  {
   "cell_type": "code",
   "execution_count": 9,
   "metadata": {},
   "outputs": [
    {
     "data": {
      "text/plain": [
       "True"
      ]
     },
     "execution_count": 9,
     "metadata": {},
     "output_type": "execute_result"
    }
   ],
   "source": [
    "(p.T @ ssb_utility @ q >= 0 and q.T @ ssb_utility @ r >= 0 and r.T @ ssb_utility @ p >= 0) or (p.T @ ssb_utility @ q <= 0 and q.T @ ssb_utility @ r <= 0 and r.T @ ssb_utility @ p <= 0)"
   ]
  },
  {
   "cell_type": "code",
   "execution_count": 4,
   "metadata": {},
   "outputs": [
    {
     "name": "stdout",
     "output_type": "stream",
     "text": [
      "0.00138\n",
      "0.00135\n",
      "0.00137\n",
      "0.00136\n",
      "0.00125\n",
      "0.00098\n",
      "0.00147\n",
      "0.00108\n",
      "0.00139\n",
      "0.00148\n"
     ]
    }
   ],
   "source": [
    "for _ in range(10):\n",
    "    middle_contained = 0\n",
    "    repetitions = 100000\n",
    "    for _ in range(repetitions):\n",
    "        p, q, r = [rng.dirichlet(alpha) for i in range(3)]\n",
    "        middle_contained += (p.T @ ssb_utility @ q >= 0 and q.T @ ssb_utility @ r >= 0 and r.T @ ssb_utility @ p >= 0) or (p.T @ ssb_utility @ q <= 0 and q.T @ ssb_utility @ r <= 0 and r.T @ ssb_utility @ p <= 0)\n",
    "    print(middle_contained / repetitions)"
   ]
  },
  {
   "cell_type": "code",
   "execution_count": null,
   "metadata": {},
   "outputs": [],
   "source": []
  }
 ],
 "metadata": {
  "kernelspec": {
   "display_name": "py312-MA",
   "language": "python",
   "name": "py312-ma"
  },
  "language_info": {
   "codemirror_mode": {
    "name": "ipython",
    "version": 3
   },
   "file_extension": ".py",
   "mimetype": "text/x-python",
   "name": "python",
   "nbconvert_exporter": "python",
   "pygments_lexer": "ipython3",
   "version": "3.12.4"
  }
 },
 "nbformat": 4,
 "nbformat_minor": 2
}
