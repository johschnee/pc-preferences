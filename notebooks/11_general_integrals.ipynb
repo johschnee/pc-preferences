{
 "cells": [
  {
   "cell_type": "code",
   "execution_count": 1,
   "metadata": {},
   "outputs": [],
   "source": [
    "%load_ext autoreload\n",
    "%autoreload 2"
   ]
  },
  {
   "cell_type": "code",
   "execution_count": 2,
   "metadata": {},
   "outputs": [],
   "source": [
    "import numpy as np\n",
    "from scipy import integrate"
   ]
  },
  {
   "cell_type": "code",
   "execution_count": 3,
   "metadata": {},
   "outputs": [],
   "source": [
    "def squared_ratio_from_normal(normal):\n",
    "    vertices_ucs = list(np.where(normal > 0)[0])\n",
    "    normal_short = normal[vertices_ucs]\n",
    "    factors = normal_short[:, None]/(normal_short[:, None] - normal[None, :])\n",
    "    summands = np.prod(factors, axis=1, where=np.isfinite(factors))\n",
    "    return np.sum(summands)**2"
   ]
  },
  {
   "cell_type": "code",
   "execution_count": 7,
   "metadata": {},
   "outputs": [
    {
     "name": "stderr",
     "output_type": "stream",
     "text": [
      "/tmp/ipykernel_43143/2759770424.py:4: RuntimeWarning: divide by zero encountered in divide\n",
      "  factors = normal_short[:, None]/(normal_short[:, None] - normal[None, :])\n"
     ]
    },
    {
     "name": "stdout",
     "output_type": "stream",
     "text": [
      "0.1666666665048567 9.708598369684296e-10 8.107277773710648e-08\n",
      "0.1257964123222241 0.24522152606665537 8.916985680924442e-08\n"
     ]
    }
   ],
   "source": [
    "def f3(y, x, ssb_matrix):\n",
    "    normal = x*ssb_matrix[:, 0] + y*ssb_matrix[:, 1] + (1-x-y)*ssb_matrix[:, 2]\n",
    "    if len(np.unique(normal)) < len(normal):\n",
    "        return 1  # upper bound\n",
    "    return squared_ratio_from_normal(normal)\n",
    "\n",
    "ssb_tr = np.array([[0, 1, 1], [-1, 0, 1], [-1, -1, 0]])\n",
    "ssb_intr = np.array([[0, 1, -1], [-1, 0, 1], [1, -1, 0]])\n",
    "\n",
    "val, err = integrate.dblquad(f3, 0, 1, 0, lambda x: 1-x, args=(ssb_tr,))\n",
    "print(val, 1-6*val, 6*err)\n",
    "val, err = integrate.dblquad(f3, 0, 1, 0, lambda x: 1-x, args=(ssb_intr,))\n",
    "print(val, 1-6*val, 6*err)"
   ]
  },
  {
   "cell_type": "code",
   "execution_count": 5,
   "metadata": {},
   "outputs": [
    {
     "name": "stderr",
     "output_type": "stream",
     "text": [
      "/tmp/ipykernel_43143/2759770424.py:4: RuntimeWarning: divide by zero encountered in divide\n",
      "  factors = normal_short[:, None]/(normal_short[:, None] - normal[None, :])\n"
     ]
    },
    {
     "name": "stdout",
     "output_type": "stream",
     "text": [
      "0.055482959564882715 0.0013067278321111653 2.670579600648652e-07\n",
      "0.048813214922008956 0.12136213140383878 2.68168699357802e-07\n",
      "0.0528893484898806 0.04799172718214928 2.681968317509993e-07\n",
      "0.05288934839985304 0.04799172880264524 2.6819133874096955e-07\n"
     ]
    }
   ],
   "source": [
    "def f4(z, y, x, ssb_matrix):\n",
    "    normal = x*ssb_matrix[0, :] + y*ssb_matrix[1, :] + z*ssb_matrix[2, :] + (1-x-y-z)*ssb_matrix[3, :]\n",
    "    if len(np.unique(normal)) < len(normal):\n",
    "        return 1  # upper bound\n",
    "    return squared_ratio_from_normal(normal)\n",
    "\n",
    "m = 4  #number of alternative\n",
    "ssb_tr = np.triu(np.ones((m, m))) - np.tril(np.ones((m, m))) # transitive preferences\n",
    "# 4 cycle\n",
    "ssb_intr1 = np.array([[0, 1, 1, -1], [-1, 0, 1, 1], [-1, -1, 0, 1], [1, -1, -1, 0]])\n",
    "# 3 cycle preferred to the last option\n",
    "ssb_intr2 = np.array([[0, 1, -1, 1], [-1, 0, 1, 1], [1, -1, 0, 1], [-1, -1, -1, 0]])\n",
    "# 3 cycle not preferred to the last option\n",
    "ssb_intr3 = np.array([[0, 1, 1, 1], [-1, 0, 1, -1], [-1, -1, 0, 1], [-1, 1, -1, 0]])\n",
    "\n",
    "\n",
    "val, err = integrate.tplquad(f4, 0, 1, 0, lambda x: 1-x, 0, lambda x, y: 1-x-y, args=(ssb_tr,))\n",
    "print(val, 1-18*val, 18*err)\n",
    "val, err = integrate.tplquad(f4, 0, 1, 0, lambda x: 1-x, 0, lambda x, y: 1-x-y, args=(ssb_intr1,))\n",
    "print(val, 1-18*val, 18*err)\n",
    "val, err = integrate.tplquad(f4, 0, 1, 0, lambda x: 1-x, 0, lambda x, y: 1-x-y, args=(ssb_intr2,))\n",
    "print(val, 1-18*val, 18*err)\n",
    "val, err = integrate.tplquad(f4, 0, 1, 0, lambda x: 1-x, 0, lambda x, y: 1-x-y, args=(ssb_intr3,))\n",
    "print(val, 1-18*val, 18*err)"
   ]
  },
  {
   "cell_type": "code",
   "execution_count": null,
   "metadata": {},
   "outputs": [
    {
     "name": "stderr",
     "output_type": "stream",
     "text": [
      "/tmp/ipykernel_9538/2759770424.py:4: RuntimeWarning: divide by zero encountered in divide\n",
      "  factors = normal_short[:, None]/(normal_short[:, None] - normal[None, :])\n",
      "/home/johanna/miniconda3/envs/py312-MA/lib/python3.12/site-packages/scipy/integrate/_quadpack_py.py:1272: IntegrationWarning: The maximum number of subdivisions (50) has been achieved.\n",
      "  If increasing the limit yields no improvement it is advised to analyze \n",
      "  the integrand in order to determine the difficulties.  If the position of a \n",
      "  local difficulty can be determined (singularity, discontinuity) one will \n",
      "  probably gain from splitting up the interval and calling the integrator \n",
      "  on the subranges.  Perhaps a special-purpose integrator should be used.\n",
      "  quad_r = quad(f, low, high, args=args, full_output=self.full_output,\n"
     ]
    },
    {
     "name": "stdout",
     "output_type": "stream",
     "text": [
      "0.01385671084635187 0.002316819062665343 5.527654480809081e-05\n",
      "0.010435501758815692 0.24864387336527016 1.0727949562815917e-06\n",
      "0.013619070592128052 0.01942691736678026 1.071437161784159e-06\n"
     ]
    },
    {
     "name": "stderr",
     "output_type": "stream",
     "text": [
      "/home/johanna/miniconda3/envs/py312-MA/lib/python3.12/site-packages/scipy/integrate/_quadpack_py.py:1272: IntegrationWarning: The algorithm does not converge.  Roundoff error is detected\n",
      "  in the extrapolation table.  It is assumed that the requested tolerance\n",
      "  cannot be achieved, and that the returned result (if full_output = 1) is \n",
      "  the best which can be obtained.\n",
      "  quad_r = quad(f, low, high, args=args, full_output=self.full_output,\n",
      "/home/johanna/miniconda3/envs/py312-MA/lib/python3.12/site-packages/scipy/integrate/_quadpack_py.py:1272: IntegrationWarning: The integral is probably divergent, or slowly convergent.\n",
      "  quad_r = quad(f, low, high, args=args, full_output=self.full_output,\n"
     ]
    },
    {
     "name": "stdout",
     "output_type": "stream",
     "text": [
      "0.013610010619357711 0.02007923540624479 0.0002183789200921795\n"
     ]
    }
   ],
   "source": [
    "def f5(z, y, x, w, ssb_matrix):\n",
    "    normal = w*ssb_matrix[0, :] +  x*ssb_matrix[1, :] + y*ssb_matrix[2, :] + z*ssb_matrix[3, :] + (1-x-y-z-w)*ssb_matrix[4, :]\n",
    "#    if len(np.unique(normal)) < len(normal):\n",
    "#        print(\"bound used\")\n",
    "#        return 1  # upper bound\n",
    "    return squared_ratio_from_normal(normal)\n",
    "\n",
    "m = 5  #number of alternative\n",
    "ssb_tr = np.triu(np.ones((m, m))) - np.tril(np.ones((m, m))) # transitive preferences\n",
    "# symmetric cycle\n",
    "ssb_intr1 = np.array([[0, 1, 1, -1, -1], [-1, 0, 1, 1, -1], [-1, -1, 0, 1, 1], [1, -1, -1, 0, 1], [1, 1, -1, -1, 0]])\n",
    "# 3 cycle preferred to the other options\n",
    "ssb_intr2 = np.array([[0, 1, -1, 1, 1], [-1, 0, 1, 1, 1], [1, -1, 0, 1, 1], [-1, -1, -1, 0, 1], [-1, -1, -1, -1, 0]])\n",
    "# 3 cycle in the middle\n",
    "ssb_intr3 = np.array([[0, 1, 1, 1, 1], [-1, 0, 1, -1, 1], [-1, -1, 0, 1, 1], [-1, 1, -1, 0, 1], [-1, -1, -1, -1, 0]])\n",
    "\n",
    "\n",
    "val, err = integrate.nquad(f5, [lambda x, y, z, _: [0, 1-x-y-z], lambda y, z, _: [0, 1-y-z], lambda z, _: [0, 1-z], [0, 1]], args = [ssb_tr])\n",
    "print(val, 1-72*val, 72*err)\n",
    "val, err = integrate.nquad(f5, [lambda x, y, z, _: [0, 1-x-y-z], lambda y, z, _: [0, 1-y-z], lambda z, _: [0, 1-z], [0, 1]], args = [ssb_intr1])\n",
    "print(val, 1-72*val, 72*err)\n",
    "val, err = integrate.nquad(f5, [lambda x, y, z, _: [0, 1-x-y-z], lambda y, z, _: [0, 1-y-z], lambda z, _: [0, 1-z], [0, 1]], args = [ssb_intr2])\n",
    "print(val, 1-72*val, 72*err)\n",
    "val, err = integrate.nquad(f5, [lambda x, y, z, _: [0, 1-x-y-z], lambda y, z, _: [0, 1-y-z], lambda z, _: [0, 1-z], [0, 1]], args = [ssb_intr3])\n",
    "print(val, 1-72*val, 72*err)\n",
    "# Computation took 134min"
   ]
  },
  {
   "cell_type": "code",
   "execution_count": null,
   "metadata": {},
   "outputs": [
    {
     "name": "stderr",
     "output_type": "stream",
     "text": [
      "/tmp/ipykernel_9538/2759770424.py:4: RuntimeWarning: divide by zero encountered in divide\n",
      "  factors = normal_short[:, None]/(normal_short[:, None] - normal[None, :])\n",
      "/home/johanna/miniconda3/envs/py312-MA/lib/python3.12/site-packages/scipy/integrate/_quadpack_py.py:1272: IntegrationWarning: The maximum number of subdivisions (50) has been achieved.\n",
      "  If increasing the limit yields no improvement it is advised to analyze \n",
      "  the integrand in order to determine the difficulties.  If the position of a \n",
      "  local difficulty can be determined (singularity, discontinuity) one will \n",
      "  probably gain from splitting up the interval and calling the integrator \n",
      "  on the subranges.  Perhaps a special-purpose integrator should be used.\n",
      "  quad_r = quad(f, low, high, args=args, full_output=self.full_output,\n",
      "/home/johanna/miniconda3/envs/py312-MA/lib/python3.12/site-packages/scipy/integrate/_quadpack_py.py:1272: IntegrationWarning: The integral is probably divergent, or slowly convergent.\n",
      "  quad_r = quad(f, low, high, args=args, full_output=self.full_output,\n"
     ]
    },
    {
     "ename": "KeyboardInterrupt",
     "evalue": "",
     "output_type": "error",
     "traceback": [
      "\u001b[0;31m---------------------------------------------------------------------------\u001b[0m",
      "\u001b[0;31mKeyboardInterrupt\u001b[0m                         Traceback (most recent call last)",
      "Cell \u001b[0;32mIn[8], line 16\u001b[0m\n\u001b[1;32m     10\u001b[0m \u001b[38;5;66;03m# symmetric cycle\u001b[39;00m\n\u001b[1;32m     11\u001b[0m \u001b[38;5;66;03m# ssb_intr1 = np.array([[0, 1, 1, -1, -1], [-1, 0, 1, 1, -1], [-1, -1, 0, 1, 1], [1, -1, -1, 0, 1], [1, 1, -1, -1, 0]])\u001b[39;00m\n\u001b[1;32m     12\u001b[0m \u001b[38;5;66;03m# 3 cycle preferred to the other options\u001b[39;00m\n\u001b[1;32m     13\u001b[0m ssb_intr2 \u001b[38;5;241m=\u001b[39m np\u001b[38;5;241m.\u001b[39marray([[\u001b[38;5;241m0\u001b[39m, \u001b[38;5;241m1\u001b[39m, \u001b[38;5;241m-\u001b[39m\u001b[38;5;241m1\u001b[39m, \u001b[38;5;241m1\u001b[39m, \u001b[38;5;241m1\u001b[39m], [\u001b[38;5;241m-\u001b[39m\u001b[38;5;241m1\u001b[39m, \u001b[38;5;241m0\u001b[39m, \u001b[38;5;241m1\u001b[39m, \u001b[38;5;241m1\u001b[39m, \u001b[38;5;241m1\u001b[39m], [\u001b[38;5;241m1\u001b[39m, \u001b[38;5;241m-\u001b[39m\u001b[38;5;241m1\u001b[39m, \u001b[38;5;241m0\u001b[39m, \u001b[38;5;241m1\u001b[39m, \u001b[38;5;241m1\u001b[39m], [\u001b[38;5;241m-\u001b[39m\u001b[38;5;241m1\u001b[39m, \u001b[38;5;241m-\u001b[39m\u001b[38;5;241m1\u001b[39m, \u001b[38;5;241m-\u001b[39m\u001b[38;5;241m1\u001b[39m, \u001b[38;5;241m0\u001b[39m, \u001b[38;5;241m1\u001b[39m], [\u001b[38;5;241m-\u001b[39m\u001b[38;5;241m1\u001b[39m, \u001b[38;5;241m-\u001b[39m\u001b[38;5;241m1\u001b[39m, \u001b[38;5;241m-\u001b[39m\u001b[38;5;241m1\u001b[39m, \u001b[38;5;241m-\u001b[39m\u001b[38;5;241m1\u001b[39m, \u001b[38;5;241m0\u001b[39m]])\n\u001b[0;32m---> 16\u001b[0m val, err \u001b[38;5;241m=\u001b[39m integrate\u001b[38;5;241m.\u001b[39mnquad(f6, [\u001b[38;5;28;01mlambda\u001b[39;00m w, x, y, z, _: [\u001b[38;5;241m0\u001b[39m, \u001b[38;5;241m1\u001b[39m\u001b[38;5;241m-\u001b[39mw\u001b[38;5;241m-\u001b[39mx\u001b[38;5;241m-\u001b[39my\u001b[38;5;241m-\u001b[39mz], \u001b[38;5;28;01mlambda\u001b[39;00m x, y, z, _: [\u001b[38;5;241m0\u001b[39m, \u001b[38;5;241m1\u001b[39m\u001b[38;5;241m-\u001b[39mx\u001b[38;5;241m-\u001b[39my\u001b[38;5;241m-\u001b[39mz], \u001b[38;5;28;01mlambda\u001b[39;00m y, z, _: [\u001b[38;5;241m0\u001b[39m, \u001b[38;5;241m1\u001b[39m\u001b[38;5;241m-\u001b[39my\u001b[38;5;241m-\u001b[39mz], \u001b[38;5;28;01mlambda\u001b[39;00m z, _: [\u001b[38;5;241m0\u001b[39m, \u001b[38;5;241m1\u001b[39m\u001b[38;5;241m-\u001b[39mz], [\u001b[38;5;241m0\u001b[39m, \u001b[38;5;241m1\u001b[39m]], args \u001b[38;5;241m=\u001b[39m [ssb_tr])\n\u001b[1;32m     17\u001b[0m \u001b[38;5;28mprint\u001b[39m(val, \u001b[38;5;241m1\u001b[39m\u001b[38;5;241m-\u001b[39m\u001b[38;5;241m360\u001b[39m\u001b[38;5;241m*\u001b[39mval, \u001b[38;5;241m360\u001b[39m\u001b[38;5;241m*\u001b[39merr)\n\u001b[1;32m     18\u001b[0m val, err \u001b[38;5;241m=\u001b[39m integrate\u001b[38;5;241m.\u001b[39mnquad(f6, [\u001b[38;5;28;01mlambda\u001b[39;00m w, x, y, z, _: [\u001b[38;5;241m0\u001b[39m, \u001b[38;5;241m1\u001b[39m\u001b[38;5;241m-\u001b[39mw\u001b[38;5;241m-\u001b[39mx\u001b[38;5;241m-\u001b[39my\u001b[38;5;241m-\u001b[39mz], \u001b[38;5;28;01mlambda\u001b[39;00m x, y, z, _: [\u001b[38;5;241m0\u001b[39m, \u001b[38;5;241m1\u001b[39m\u001b[38;5;241m-\u001b[39mx\u001b[38;5;241m-\u001b[39my\u001b[38;5;241m-\u001b[39mz], \u001b[38;5;28;01mlambda\u001b[39;00m y, z, _: [\u001b[38;5;241m0\u001b[39m, \u001b[38;5;241m1\u001b[39m\u001b[38;5;241m-\u001b[39my\u001b[38;5;241m-\u001b[39mz], \u001b[38;5;28;01mlambda\u001b[39;00m z, _: [\u001b[38;5;241m0\u001b[39m, \u001b[38;5;241m1\u001b[39m\u001b[38;5;241m-\u001b[39mz], [\u001b[38;5;241m0\u001b[39m, \u001b[38;5;241m1\u001b[39m]], args \u001b[38;5;241m=\u001b[39m [ssb_intr2])\n",
      "File \u001b[0;32m~/miniconda3/envs/py312-MA/lib/python3.12/site-packages/scipy/integrate/_quadpack_py.py:1218\u001b[0m, in \u001b[0;36mnquad\u001b[0;34m(func, ranges, args, opts, full_output)\u001b[0m\n\u001b[1;32m   1216\u001b[0m \u001b[38;5;28;01melse\u001b[39;00m:\n\u001b[1;32m   1217\u001b[0m     opts \u001b[38;5;241m=\u001b[39m [opt \u001b[38;5;28;01mif\u001b[39;00m \u001b[38;5;28mcallable\u001b[39m(opt) \u001b[38;5;28;01melse\u001b[39;00m _OptFunc(opt) \u001b[38;5;28;01mfor\u001b[39;00m opt \u001b[38;5;129;01min\u001b[39;00m opts]\n\u001b[0;32m-> 1218\u001b[0m \u001b[38;5;28;01mreturn\u001b[39;00m _NQuad(func, ranges, opts, full_output)\u001b[38;5;241m.\u001b[39mintegrate(\u001b[38;5;241m*\u001b[39margs)\n",
      "File \u001b[0;32m~/miniconda3/envs/py312-MA/lib/python3.12/site-packages/scipy/integrate/_quadpack_py.py:1272\u001b[0m, in \u001b[0;36m_NQuad.integrate\u001b[0;34m(self, *args, **kwargs)\u001b[0m\n\u001b[1;32m   1270\u001b[0m \u001b[38;5;28;01melse\u001b[39;00m:\n\u001b[1;32m   1271\u001b[0m     f \u001b[38;5;241m=\u001b[39m partial(\u001b[38;5;28mself\u001b[39m\u001b[38;5;241m.\u001b[39mintegrate, depth\u001b[38;5;241m=\u001b[39mdepth\u001b[38;5;241m+\u001b[39m\u001b[38;5;241m1\u001b[39m)\n\u001b[0;32m-> 1272\u001b[0m quad_r \u001b[38;5;241m=\u001b[39m quad(f, low, high, args\u001b[38;5;241m=\u001b[39margs, full_output\u001b[38;5;241m=\u001b[39m\u001b[38;5;28mself\u001b[39m\u001b[38;5;241m.\u001b[39mfull_output,\n\u001b[1;32m   1273\u001b[0m               \u001b[38;5;241m*\u001b[39m\u001b[38;5;241m*\u001b[39mopt)\n\u001b[1;32m   1274\u001b[0m value \u001b[38;5;241m=\u001b[39m quad_r[\u001b[38;5;241m0\u001b[39m]\n\u001b[1;32m   1275\u001b[0m abserr \u001b[38;5;241m=\u001b[39m quad_r[\u001b[38;5;241m1\u001b[39m]\n",
      "File \u001b[0;32m~/miniconda3/envs/py312-MA/lib/python3.12/site-packages/scipy/integrate/_quadpack_py.py:464\u001b[0m, in \u001b[0;36mquad\u001b[0;34m(func, a, b, args, full_output, epsabs, epsrel, limit, points, weight, wvar, wopts, maxp1, limlst, complex_func)\u001b[0m\n\u001b[1;32m    461\u001b[0m     \u001b[38;5;28;01mreturn\u001b[39;00m retval\n\u001b[1;32m    463\u001b[0m \u001b[38;5;28;01mif\u001b[39;00m weight \u001b[38;5;129;01mis\u001b[39;00m \u001b[38;5;28;01mNone\u001b[39;00m:\n\u001b[0;32m--> 464\u001b[0m     retval \u001b[38;5;241m=\u001b[39m _quad(func, a, b, args, full_output, epsabs, epsrel, limit,\n\u001b[1;32m    465\u001b[0m                    points)\n\u001b[1;32m    466\u001b[0m \u001b[38;5;28;01melse\u001b[39;00m:\n\u001b[1;32m    467\u001b[0m     \u001b[38;5;28;01mif\u001b[39;00m points \u001b[38;5;129;01mis\u001b[39;00m \u001b[38;5;129;01mnot\u001b[39;00m \u001b[38;5;28;01mNone\u001b[39;00m:\n",
      "File \u001b[0;32m~/miniconda3/envs/py312-MA/lib/python3.12/site-packages/scipy/integrate/_quadpack_py.py:611\u001b[0m, in \u001b[0;36m_quad\u001b[0;34m(func, a, b, args, full_output, epsabs, epsrel, limit, points)\u001b[0m\n\u001b[1;32m    609\u001b[0m \u001b[38;5;28;01mif\u001b[39;00m points \u001b[38;5;129;01mis\u001b[39;00m \u001b[38;5;28;01mNone\u001b[39;00m:\n\u001b[1;32m    610\u001b[0m     \u001b[38;5;28;01mif\u001b[39;00m infbounds \u001b[38;5;241m==\u001b[39m \u001b[38;5;241m0\u001b[39m:\n\u001b[0;32m--> 611\u001b[0m         \u001b[38;5;28;01mreturn\u001b[39;00m _quadpack\u001b[38;5;241m.\u001b[39m_qagse(func,a,b,args,full_output,epsabs,epsrel,limit)\n\u001b[1;32m    612\u001b[0m     \u001b[38;5;28;01melse\u001b[39;00m:\n\u001b[1;32m    613\u001b[0m         \u001b[38;5;28;01mreturn\u001b[39;00m _quadpack\u001b[38;5;241m.\u001b[39m_qagie(func, bound, infbounds, args, full_output, \n\u001b[1;32m    614\u001b[0m                                 epsabs, epsrel, limit)\n",
      "File \u001b[0;32m~/miniconda3/envs/py312-MA/lib/python3.12/site-packages/scipy/integrate/_quadpack_py.py:1272\u001b[0m, in \u001b[0;36m_NQuad.integrate\u001b[0;34m(self, *args, **kwargs)\u001b[0m\n\u001b[1;32m   1270\u001b[0m \u001b[38;5;28;01melse\u001b[39;00m:\n\u001b[1;32m   1271\u001b[0m     f \u001b[38;5;241m=\u001b[39m partial(\u001b[38;5;28mself\u001b[39m\u001b[38;5;241m.\u001b[39mintegrate, depth\u001b[38;5;241m=\u001b[39mdepth\u001b[38;5;241m+\u001b[39m\u001b[38;5;241m1\u001b[39m)\n\u001b[0;32m-> 1272\u001b[0m quad_r \u001b[38;5;241m=\u001b[39m quad(f, low, high, args\u001b[38;5;241m=\u001b[39margs, full_output\u001b[38;5;241m=\u001b[39m\u001b[38;5;28mself\u001b[39m\u001b[38;5;241m.\u001b[39mfull_output,\n\u001b[1;32m   1273\u001b[0m               \u001b[38;5;241m*\u001b[39m\u001b[38;5;241m*\u001b[39mopt)\n\u001b[1;32m   1274\u001b[0m value \u001b[38;5;241m=\u001b[39m quad_r[\u001b[38;5;241m0\u001b[39m]\n\u001b[1;32m   1275\u001b[0m abserr \u001b[38;5;241m=\u001b[39m quad_r[\u001b[38;5;241m1\u001b[39m]\n",
      "File \u001b[0;32m~/miniconda3/envs/py312-MA/lib/python3.12/site-packages/scipy/integrate/_quadpack_py.py:464\u001b[0m, in \u001b[0;36mquad\u001b[0;34m(func, a, b, args, full_output, epsabs, epsrel, limit, points, weight, wvar, wopts, maxp1, limlst, complex_func)\u001b[0m\n\u001b[1;32m    461\u001b[0m     \u001b[38;5;28;01mreturn\u001b[39;00m retval\n\u001b[1;32m    463\u001b[0m \u001b[38;5;28;01mif\u001b[39;00m weight \u001b[38;5;129;01mis\u001b[39;00m \u001b[38;5;28;01mNone\u001b[39;00m:\n\u001b[0;32m--> 464\u001b[0m     retval \u001b[38;5;241m=\u001b[39m _quad(func, a, b, args, full_output, epsabs, epsrel, limit,\n\u001b[1;32m    465\u001b[0m                    points)\n\u001b[1;32m    466\u001b[0m \u001b[38;5;28;01melse\u001b[39;00m:\n\u001b[1;32m    467\u001b[0m     \u001b[38;5;28;01mif\u001b[39;00m points \u001b[38;5;129;01mis\u001b[39;00m \u001b[38;5;129;01mnot\u001b[39;00m \u001b[38;5;28;01mNone\u001b[39;00m:\n",
      "File \u001b[0;32m~/miniconda3/envs/py312-MA/lib/python3.12/site-packages/scipy/integrate/_quadpack_py.py:611\u001b[0m, in \u001b[0;36m_quad\u001b[0;34m(func, a, b, args, full_output, epsabs, epsrel, limit, points)\u001b[0m\n\u001b[1;32m    609\u001b[0m \u001b[38;5;28;01mif\u001b[39;00m points \u001b[38;5;129;01mis\u001b[39;00m \u001b[38;5;28;01mNone\u001b[39;00m:\n\u001b[1;32m    610\u001b[0m     \u001b[38;5;28;01mif\u001b[39;00m infbounds \u001b[38;5;241m==\u001b[39m \u001b[38;5;241m0\u001b[39m:\n\u001b[0;32m--> 611\u001b[0m         \u001b[38;5;28;01mreturn\u001b[39;00m _quadpack\u001b[38;5;241m.\u001b[39m_qagse(func,a,b,args,full_output,epsabs,epsrel,limit)\n\u001b[1;32m    612\u001b[0m     \u001b[38;5;28;01melse\u001b[39;00m:\n\u001b[1;32m    613\u001b[0m         \u001b[38;5;28;01mreturn\u001b[39;00m _quadpack\u001b[38;5;241m.\u001b[39m_qagie(func, bound, infbounds, args, full_output, \n\u001b[1;32m    614\u001b[0m                                 epsabs, epsrel, limit)\n",
      "    \u001b[0;31m[... skipping similar frames: _quad at line 611 (2 times), _NQuad.integrate at line 1272 (2 times), quad at line 464 (2 times)]\u001b[0m\n",
      "File \u001b[0;32m~/miniconda3/envs/py312-MA/lib/python3.12/site-packages/scipy/integrate/_quadpack_py.py:1272\u001b[0m, in \u001b[0;36m_NQuad.integrate\u001b[0;34m(self, *args, **kwargs)\u001b[0m\n\u001b[1;32m   1270\u001b[0m \u001b[38;5;28;01melse\u001b[39;00m:\n\u001b[1;32m   1271\u001b[0m     f \u001b[38;5;241m=\u001b[39m partial(\u001b[38;5;28mself\u001b[39m\u001b[38;5;241m.\u001b[39mintegrate, depth\u001b[38;5;241m=\u001b[39mdepth\u001b[38;5;241m+\u001b[39m\u001b[38;5;241m1\u001b[39m)\n\u001b[0;32m-> 1272\u001b[0m quad_r \u001b[38;5;241m=\u001b[39m quad(f, low, high, args\u001b[38;5;241m=\u001b[39margs, full_output\u001b[38;5;241m=\u001b[39m\u001b[38;5;28mself\u001b[39m\u001b[38;5;241m.\u001b[39mfull_output,\n\u001b[1;32m   1273\u001b[0m               \u001b[38;5;241m*\u001b[39m\u001b[38;5;241m*\u001b[39mopt)\n\u001b[1;32m   1274\u001b[0m value \u001b[38;5;241m=\u001b[39m quad_r[\u001b[38;5;241m0\u001b[39m]\n\u001b[1;32m   1275\u001b[0m abserr \u001b[38;5;241m=\u001b[39m quad_r[\u001b[38;5;241m1\u001b[39m]\n",
      "File \u001b[0;32m~/miniconda3/envs/py312-MA/lib/python3.12/site-packages/scipy/integrate/_quadpack_py.py:464\u001b[0m, in \u001b[0;36mquad\u001b[0;34m(func, a, b, args, full_output, epsabs, epsrel, limit, points, weight, wvar, wopts, maxp1, limlst, complex_func)\u001b[0m\n\u001b[1;32m    461\u001b[0m     \u001b[38;5;28;01mreturn\u001b[39;00m retval\n\u001b[1;32m    463\u001b[0m \u001b[38;5;28;01mif\u001b[39;00m weight \u001b[38;5;129;01mis\u001b[39;00m \u001b[38;5;28;01mNone\u001b[39;00m:\n\u001b[0;32m--> 464\u001b[0m     retval \u001b[38;5;241m=\u001b[39m _quad(func, a, b, args, full_output, epsabs, epsrel, limit,\n\u001b[1;32m    465\u001b[0m                    points)\n\u001b[1;32m    466\u001b[0m \u001b[38;5;28;01melse\u001b[39;00m:\n\u001b[1;32m    467\u001b[0m     \u001b[38;5;28;01mif\u001b[39;00m points \u001b[38;5;129;01mis\u001b[39;00m \u001b[38;5;129;01mnot\u001b[39;00m \u001b[38;5;28;01mNone\u001b[39;00m:\n",
      "File \u001b[0;32m~/miniconda3/envs/py312-MA/lib/python3.12/site-packages/scipy/integrate/_quadpack_py.py:611\u001b[0m, in \u001b[0;36m_quad\u001b[0;34m(func, a, b, args, full_output, epsabs, epsrel, limit, points)\u001b[0m\n\u001b[1;32m    609\u001b[0m \u001b[38;5;28;01mif\u001b[39;00m points \u001b[38;5;129;01mis\u001b[39;00m \u001b[38;5;28;01mNone\u001b[39;00m:\n\u001b[1;32m    610\u001b[0m     \u001b[38;5;28;01mif\u001b[39;00m infbounds \u001b[38;5;241m==\u001b[39m \u001b[38;5;241m0\u001b[39m:\n\u001b[0;32m--> 611\u001b[0m         \u001b[38;5;28;01mreturn\u001b[39;00m _quadpack\u001b[38;5;241m.\u001b[39m_qagse(func,a,b,args,full_output,epsabs,epsrel,limit)\n\u001b[1;32m    612\u001b[0m     \u001b[38;5;28;01melse\u001b[39;00m:\n\u001b[1;32m    613\u001b[0m         \u001b[38;5;28;01mreturn\u001b[39;00m _quadpack\u001b[38;5;241m.\u001b[39m_qagie(func, bound, infbounds, args, full_output, \n\u001b[1;32m    614\u001b[0m                                 epsabs, epsrel, limit)\n",
      "Cell \u001b[0;32mIn[8], line 6\u001b[0m, in \u001b[0;36mf6\u001b[0;34m(z, y, x, w, v, ssb_matrix)\u001b[0m\n\u001b[1;32m      2\u001b[0m     normal \u001b[38;5;241m=\u001b[39m v\u001b[38;5;241m*\u001b[39mssb_matrix[\u001b[38;5;241m0\u001b[39m, :] \u001b[38;5;241m+\u001b[39m w\u001b[38;5;241m*\u001b[39mssb_matrix[\u001b[38;5;241m1\u001b[39m, :] \u001b[38;5;241m+\u001b[39m  x\u001b[38;5;241m*\u001b[39mssb_matrix[\u001b[38;5;241m2\u001b[39m, :] \u001b[38;5;241m+\u001b[39m y\u001b[38;5;241m*\u001b[39mssb_matrix[\u001b[38;5;241m3\u001b[39m, :] \u001b[38;5;241m+\u001b[39m z\u001b[38;5;241m*\u001b[39mssb_matrix[\u001b[38;5;241m4\u001b[39m, :] \u001b[38;5;241m+\u001b[39m (\u001b[38;5;241m1\u001b[39m\u001b[38;5;241m-\u001b[39mx\u001b[38;5;241m-\u001b[39my\u001b[38;5;241m-\u001b[39mz\u001b[38;5;241m-\u001b[39mw\u001b[38;5;241m-\u001b[39mv)\u001b[38;5;241m*\u001b[39mssb_matrix[\u001b[38;5;241m5\u001b[39m, :]\n\u001b[1;32m      3\u001b[0m \u001b[38;5;66;03m#    if len(np.unique(normal)) < len(normal):\u001b[39;00m\n\u001b[1;32m      4\u001b[0m \u001b[38;5;66;03m#        print(\"bound used\")\u001b[39;00m\n\u001b[1;32m      5\u001b[0m \u001b[38;5;66;03m#        return 1  # upper bound\u001b[39;00m\n\u001b[0;32m----> 6\u001b[0m     \u001b[38;5;28;01mreturn\u001b[39;00m squared_ratio_from_normal(normal)\n",
      "Cell \u001b[0;32mIn[3], line 6\u001b[0m, in \u001b[0;36msquared_ratio_from_normal\u001b[0;34m(normal)\u001b[0m\n\u001b[1;32m      4\u001b[0m factors \u001b[38;5;241m=\u001b[39m normal_short[:, \u001b[38;5;28;01mNone\u001b[39;00m]\u001b[38;5;241m/\u001b[39m(normal_short[:, \u001b[38;5;28;01mNone\u001b[39;00m] \u001b[38;5;241m-\u001b[39m normal[\u001b[38;5;28;01mNone\u001b[39;00m, :])\n\u001b[1;32m      5\u001b[0m \u001b[38;5;66;03m# np.fill_diagonal(factors, 1)\u001b[39;00m\n\u001b[0;32m----> 6\u001b[0m summands \u001b[38;5;241m=\u001b[39m np\u001b[38;5;241m.\u001b[39mprod(factors, axis\u001b[38;5;241m=\u001b[39m\u001b[38;5;241m1\u001b[39m, where\u001b[38;5;241m=\u001b[39mnp\u001b[38;5;241m.\u001b[39misfinite(factors))\n\u001b[1;32m      7\u001b[0m \u001b[38;5;28;01mreturn\u001b[39;00m np\u001b[38;5;241m.\u001b[39msum(summands)\u001b[38;5;241m*\u001b[39m\u001b[38;5;241m*\u001b[39m\u001b[38;5;241m2\u001b[39m\n",
      "\u001b[0;31mKeyboardInterrupt\u001b[0m: "
     ]
    }
   ],
   "source": [
    "def f6(z, y, x, w, v, ssb_matrix):\n",
    "    normal = v*ssb_matrix[0, :] + w*ssb_matrix[1, :] +  x*ssb_matrix[2, :] + y*ssb_matrix[3, :] + z*ssb_matrix[4, :] + (1-x-y-z-w-v)*ssb_matrix[5, :]\n",
    "#    if len(np.unique(normal)) < len(normal):\n",
    "#        print(\"bound used\")\n",
    "#        return 1  # upper bound\n",
    "    return squared_ratio_from_normal(normal)\n",
    "\n",
    "m = 6  #number of alternative\n",
    "ssb_tr = np.triu(np.ones((m, m))) - np.tril(np.ones((m, m))) # transitive preferences\n",
    "# symmetric cycle\n",
    "# ssb_intr1 = np.array([[0, 1, 1, -1, -1], [-1, 0, 1, 1, -1], [-1, -1, 0, 1, 1], [1, -1, -1, 0, 1], [1, 1, -1, -1, 0]])\n",
    "# 3 cycle preferred to the other options\n",
    "ssb_intr2 = np.array([[0, 1, -1, 1, 1], [-1, 0, 1, 1, 1], [1, -1, 0, 1, 1], [-1, -1, -1, 0, 1], [-1, -1, -1, -1, 0]])\n",
    "\n",
    "\n",
    "val, err = integrate.nquad(f6, [lambda w, x, y, z, _: [0, 1-w-x-y-z], lambda x, y, z, _: [0, 1-x-y-z], lambda y, z, _: [0, 1-y-z], lambda z, _: [0, 1-z], [0, 1]], args = [ssb_tr])\n",
    "print(val, 1-360*val, 360*err)\n",
    "val, err = integrate.nquad(f6, [lambda w, x, y, z, _: [0, 1-w-x-y-z], lambda x, y, z, _: [0, 1-x-y-z], lambda y, z, _: [0, 1-y-z], lambda z, _: [0, 1-z], [0, 1]], args = [ssb_intr2])\n",
    "print(val, 1-360*val, 360*err)\n",
    "# Stopped after 200min"
   ]
  }
 ],
 "metadata": {
  "kernelspec": {
   "display_name": "py312-MA",
   "language": "python",
   "name": "py312-ma"
  },
  "language_info": {
   "codemirror_mode": {
    "name": "ipython",
    "version": 3
   },
   "file_extension": ".py",
   "mimetype": "text/x-python",
   "name": "python",
   "nbconvert_exporter": "python",
   "pygments_lexer": "ipython3",
   "version": "3.12.4"
  }
 },
 "nbformat": 4,
 "nbformat_minor": 2
}
