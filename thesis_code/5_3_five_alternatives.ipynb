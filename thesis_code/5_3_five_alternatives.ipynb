{
 "cells": [
  {
   "cell_type": "code",
   "execution_count": 1,
   "id": "41849648",
   "metadata": {},
   "outputs": [],
   "source": [
    "import sys\n",
    "import datetime\n",
    "\n",
    "import numpy as np\n",
    "from scipy import integrate\n",
    "from struct import pack, unpack\n",
    "\n",
    "sys.path.insert(0, \"../\")\n",
    "from paths import FIG_DIR, DATA_DIR"
   ]
  },
  {
   "cell_type": "code",
   "execution_count": 2,
   "id": "d8e0b0fc",
   "metadata": {},
   "outputs": [],
   "source": [
    "def compute_lcs_volume(p, ssb):\n",
    "    normal = ssb @ p\n",
    "    if len(np.unique(normal)) < len(normal):\n",
    "        return 1  # upper bound\n",
    "    vertices_lcs = list(np.where(normal < 0)[0])\n",
    "    normal_short = normal[vertices_lcs]\n",
    "    with np.errstate(divide='ignore'):\n",
    "        factors = normal_short[:, None]/(normal_short[:, None] - normal[None, :])\n",
    "        factors = np.nan_to_num(factors, copy=False, nan=1.0, posinf=1.0, neginf=1.0)\n",
    "    summands = np.prod(factors, axis=1)\n",
    "    return np.sum(summands)"
   ]
  },
  {
   "cell_type": "code",
   "execution_count": 3,
   "id": "eb92ef6c",
   "metadata": {},
   "outputs": [
    {
     "name": "stdout",
     "output_type": "stream",
     "text": [
      "Starting computation: 2025-04-19 12:39:42.140133\n"
     ]
    },
    {
     "name": "stderr",
     "output_type": "stream",
     "text": [
      "/home/johanna/miniconda3/envs/py312-MA/lib/python3.12/site-packages/scipy/integrate/_quadpack_py.py:1272: IntegrationWarning: The maximum number of subdivisions (1000) has been achieved.\n",
      "  If increasing the limit yields no improvement it is advised to analyze \n",
      "  the integrand in order to determine the difficulties.  If the position of a \n",
      "  local difficulty can be determined (singularity, discontinuity) one will \n",
      "  probably gain from splitting up the interval and calling the integrator \n",
      "  on the subranges.  Perhaps a special-purpose integrator should be used.\n",
      "  quad_r = quad(f, low, high, args=args, full_output=self.full_output,\n"
     ]
    },
    {
     "name": "stdout",
     "output_type": "stream",
     "text": [
      "Completed transitive: 2025-04-19 12:42:40.674446\n",
      "0.33256106031244487 2.3774883169414763e-06 0.002316819062665343 7.132464950824429e-06 \n",
      "\n",
      "Completed intr1: 2025-04-19 16:28:00.388631\n",
      "0.2504520422115769 3.5759831876053057e-07 0.24864387336526927 1.0727949562815917e-06 \n",
      "\n",
      "Completed intr2: 2025-04-19 16:30:10.130320\n",
      "0.32685769421107314 3.571457205947197e-07 0.019426917366780483 1.071437161784159e-06 \n",
      "\n"
     ]
    },
    {
     "name": "stderr",
     "output_type": "stream",
     "text": [
      "/home/johanna/miniconda3/envs/py312-MA/lib/python3.12/site-packages/scipy/integrate/_quadpack_py.py:1272: IntegrationWarning: The maximum number of subdivisions (50) has been achieved.\n",
      "  If increasing the limit yields no improvement it is advised to analyze \n",
      "  the integrand in order to determine the difficulties.  If the position of a \n",
      "  local difficulty can be determined (singularity, discontinuity) one will \n",
      "  probably gain from splitting up the interval and calling the integrator \n",
      "  on the subranges.  Perhaps a special-purpose integrator should be used.\n",
      "  quad_r = quad(f, low, high, args=args, full_output=self.full_output,\n",
      "/home/johanna/miniconda3/envs/py312-MA/lib/python3.12/site-packages/scipy/integrate/_quadpack_py.py:1272: IntegrationWarning: The algorithm does not converge.  Roundoff error is detected\n",
      "  in the extrapolation table.  It is assumed that the requested tolerance\n",
      "  cannot be achieved, and that the returned result (if full_output = 1) is \n",
      "  the best which can be obtained.\n",
      "  quad_r = quad(f, low, high, args=args, full_output=self.full_output,\n",
      "/home/johanna/miniconda3/envs/py312-MA/lib/python3.12/site-packages/scipy/integrate/_quadpack_py.py:1272: IntegrationWarning: The integral is probably divergent, or slowly convergent.\n",
      "  quad_r = quad(f, low, high, args=args, full_output=self.full_output,\n"
     ]
    },
    {
     "name": "stdout",
     "output_type": "stream",
     "text": [
      "Completed intr3: 2025-04-19 16:33:56.652149\n",
      "0.32664025486456505 7.280175456502933e-05 0.02007923540630485 0.00021840526369508798 \n",
      "\n"
     ]
    }
   ],
   "source": [
    "def f5(z, y, x, w, ssb_matrix):\n",
    "    p = np.array([w, x, y, z, 1-x-y-z-w])\n",
    "    return compute_lcs_volume(p, ssb_matrix)**2\n",
    "\n",
    "m = 5  #number of alternative\n",
    "ssb_tr = np.triu(np.ones((m, m))) - np.tril(np.ones((m, m))) # transitive preferences\n",
    "# symmetric cycle\n",
    "ssb_intr1 = np.array([[0, 1, 1, -1, -1], [-1, 0, 1, 1, -1], [-1, -1, 0, 1, 1], [1, -1, -1, 0, 1], [1, 1, -1, -1, 0]])\n",
    "# 3 cycle preferred to the other options\n",
    "ssb_intr2 = np.array([[0, 1, -1, 1, 1], [-1, 0, 1, 1, 1], [1, -1, 0, 1, 1], [-1, -1, -1, 0, 1], [-1, -1, -1, -1, 0]])\n",
    "# 3 cycle in the middle\n",
    "ssb_intr3 = np.array([[0, 1, 1, 1, 1], [-1, 0, 1, -1, 1], [-1, -1, 0, 1, 1], [-1, 1, -1, 0, 1], [-1, -1, -1, -1, 0]])\n",
    "\n",
    "now = datetime.datetime.now()\n",
    "print(\"Starting computation:\", now)\n",
    "val, err = integrate.nquad(f5, [lambda x, y, z, _: [0, 1-x-y-z], lambda y, z, _: [0, 1-y-z], lambda z, _: [0, 1-z], [0, 1]], args = [ssb_tr], opts={'limit': 1000})\n",
    "now = datetime.datetime.now()\n",
    "print(\"Completed transitive:\", now)\n",
    "print(24*val, 24*err, 1-72*val, 72*err, \"\\n\")\n",
    "val, err = integrate.nquad(f5, [lambda x, y, z, _: [0, 1-x-y-z], lambda y, z, _: [0, 1-y-z], lambda z, _: [0, 1-z], [0, 1]], args = [ssb_intr1])\n",
    "now = datetime.datetime.now()\n",
    "print(\"Completed intr1:\", now)\n",
    "print(24*val, 24*err, 1-72*val, 72*err, \"\\n\")\n",
    "val, err = integrate.nquad(f5, [lambda x, y, z, _: [0, 1-x-y-z], lambda y, z, _: [0, 1-y-z], lambda z, _: [0, 1-z], [0, 1]], args = [ssb_intr2])\n",
    "now = datetime.datetime.now()\n",
    "print(\"Completed intr2:\", now)\n",
    "print(24*val, 24*err, 1-72*val, 72*err, \"\\n\")\n",
    "val, err = integrate.nquad(f5, [lambda x, y, z, _: [0, 1-x-y-z], lambda y, z, _: [0, 1-y-z], lambda z, _: [0, 1-z], [0, 1]], args = [ssb_intr3])\n",
    "now = datetime.datetime.now()\n",
    "print(\"Completed intr3:\", now)\n",
    "print(24*val, 24*err, 1-72*val, 72*err, \"\\n\")"
   ]
  },
  {
   "cell_type": "code",
   "execution_count": 4,
   "id": "c31db3e8",
   "metadata": {},
   "outputs": [
    {
     "name": "stdout",
     "output_type": "stream",
     "text": [
      "Starting computation: 2025-04-29 12:24:06.707528\n",
      "Completed intr4: 2025-04-29 12:35:57.656379\n",
      "0.31193360112962637 3.575987801681157e-07 0.06419919661112095 1.0727963405043471e-06 \n",
      "\n"
     ]
    }
   ],
   "source": [
    "def f5(z, y, x, w, ssb_matrix):\n",
    "    p = np.array([w, x, y, z, 1-x-y-z-w])\n",
    "    return compute_lcs_volume(p, ssb_matrix)**2\n",
    "\n",
    "m = 5  #number of alternative\n",
    "# two 3-cycles\n",
    "ssb_intr4 = np.array([[0, 1, -1, 1, 1], [-1, 0, 1, 1, 1], [1, -1, 0, 1, -1], [-1, -1, -1, 0, 1], [-1, -1, 1, -1, 0]])\n",
    "\n",
    "now = datetime.datetime.now()\n",
    "print(\"Starting computation:\", now)\n",
    "val, err = integrate.nquad(f5, [lambda x, y, z, _: [0, 1-x-y-z], lambda y, z, _: [0, 1-y-z], lambda z, _: [0, 1-z], [0, 1]], args = [ssb_intr4])\n",
    "now = datetime.datetime.now()\n",
    "print(\"Completed intr4:\", now)\n",
    "print(24*val, 24*err, 1-72*val, 72*err, \"\\n\")"
   ]
  },
  {
   "cell_type": "code",
   "execution_count": 6,
   "id": "4cb70063",
   "metadata": {},
   "outputs": [
    {
     "name": "stderr",
     "output_type": "stream",
     "text": [
      "/home/johanna/miniconda3/envs/py312-MA/lib/python3.12/site-packages/scipy/integrate/_quadpack_py.py:1272: IntegrationWarning: The maximum number of subdivisions (50) has been achieved.\n",
      "  If increasing the limit yields no improvement it is advised to analyze \n",
      "  the integrand in order to determine the difficulties.  If the position of a \n",
      "  local difficulty can be determined (singularity, discontinuity) one will \n",
      "  probably gain from splitting up the interval and calling the integrator \n",
      "  on the subranges.  Perhaps a special-purpose integrator should be used.\n",
      "  quad_r = quad(f, low, high, args=args, full_output=self.full_output,\n",
      "/home/johanna/miniconda3/envs/py312-MA/lib/python3.12/site-packages/scipy/integrate/_quadpack_py.py:1272: IntegrationWarning: The integral is probably divergent, or slowly convergent.\n",
      "  quad_r = quad(f, low, high, args=args, full_output=self.full_output,\n"
     ]
    },
    {
     "ename": "KeyboardInterrupt",
     "evalue": "",
     "output_type": "error",
     "traceback": [
      "\u001b[0;31m---------------------------------------------------------------------------\u001b[0m",
      "\u001b[0;31mKeyboardInterrupt\u001b[0m                         Traceback (most recent call last)",
      "Cell \u001b[0;32mIn[6], line 7\u001b[0m\n\u001b[1;32m      5\u001b[0m m \u001b[38;5;241m=\u001b[39m \u001b[38;5;241m6\u001b[39m  \u001b[38;5;66;03m#number of alternative\u001b[39;00m\n\u001b[1;32m      6\u001b[0m ssb_tr \u001b[38;5;241m=\u001b[39m np\u001b[38;5;241m.\u001b[39mtriu(np\u001b[38;5;241m.\u001b[39mones((m, m))) \u001b[38;5;241m-\u001b[39m np\u001b[38;5;241m.\u001b[39mtril(np\u001b[38;5;241m.\u001b[39mones((m, m))) \u001b[38;5;66;03m# transitive preferences\u001b[39;00m\n\u001b[0;32m----> 7\u001b[0m val, err \u001b[38;5;241m=\u001b[39m integrate\u001b[38;5;241m.\u001b[39mnquad(f6, [\u001b[38;5;28;01mlambda\u001b[39;00m w, x, y, z, _: [\u001b[38;5;241m0\u001b[39m, \u001b[38;5;241m1\u001b[39m\u001b[38;5;241m-\u001b[39mw\u001b[38;5;241m-\u001b[39mx\u001b[38;5;241m-\u001b[39my\u001b[38;5;241m-\u001b[39mz], \u001b[38;5;28;01mlambda\u001b[39;00m x, y, z, _: [\u001b[38;5;241m0\u001b[39m, \u001b[38;5;241m1\u001b[39m\u001b[38;5;241m-\u001b[39mx\u001b[38;5;241m-\u001b[39my\u001b[38;5;241m-\u001b[39mz], \u001b[38;5;28;01mlambda\u001b[39;00m y, z, _: [\u001b[38;5;241m0\u001b[39m, \u001b[38;5;241m1\u001b[39m\u001b[38;5;241m-\u001b[39my\u001b[38;5;241m-\u001b[39mz], \u001b[38;5;28;01mlambda\u001b[39;00m z, _: [\u001b[38;5;241m0\u001b[39m, \u001b[38;5;241m1\u001b[39m\u001b[38;5;241m-\u001b[39mz], [\u001b[38;5;241m0\u001b[39m, \u001b[38;5;241m1\u001b[39m]], args \u001b[38;5;241m=\u001b[39m [ssb_tr])\n\u001b[1;32m      8\u001b[0m \u001b[38;5;28mprint\u001b[39m(val, \u001b[38;5;241m1\u001b[39m\u001b[38;5;241m-\u001b[39m\u001b[38;5;241m360\u001b[39m\u001b[38;5;241m*\u001b[39mval, \u001b[38;5;241m360\u001b[39m\u001b[38;5;241m*\u001b[39merr)\n",
      "File \u001b[0;32m~/miniconda3/envs/py312-MA/lib/python3.12/site-packages/scipy/integrate/_quadpack_py.py:1218\u001b[0m, in \u001b[0;36mnquad\u001b[0;34m(func, ranges, args, opts, full_output)\u001b[0m\n\u001b[1;32m   1216\u001b[0m \u001b[38;5;28;01melse\u001b[39;00m:\n\u001b[1;32m   1217\u001b[0m     opts \u001b[38;5;241m=\u001b[39m [opt \u001b[38;5;28;01mif\u001b[39;00m \u001b[38;5;28mcallable\u001b[39m(opt) \u001b[38;5;28;01melse\u001b[39;00m _OptFunc(opt) \u001b[38;5;28;01mfor\u001b[39;00m opt \u001b[38;5;129;01min\u001b[39;00m opts]\n\u001b[0;32m-> 1218\u001b[0m \u001b[38;5;28;01mreturn\u001b[39;00m _NQuad(func, ranges, opts, full_output)\u001b[38;5;241m.\u001b[39mintegrate(\u001b[38;5;241m*\u001b[39margs)\n",
      "File \u001b[0;32m~/miniconda3/envs/py312-MA/lib/python3.12/site-packages/scipy/integrate/_quadpack_py.py:1272\u001b[0m, in \u001b[0;36m_NQuad.integrate\u001b[0;34m(self, *args, **kwargs)\u001b[0m\n\u001b[1;32m   1270\u001b[0m \u001b[38;5;28;01melse\u001b[39;00m:\n\u001b[1;32m   1271\u001b[0m     f \u001b[38;5;241m=\u001b[39m partial(\u001b[38;5;28mself\u001b[39m\u001b[38;5;241m.\u001b[39mintegrate, depth\u001b[38;5;241m=\u001b[39mdepth\u001b[38;5;241m+\u001b[39m\u001b[38;5;241m1\u001b[39m)\n\u001b[0;32m-> 1272\u001b[0m quad_r \u001b[38;5;241m=\u001b[39m quad(f, low, high, args\u001b[38;5;241m=\u001b[39margs, full_output\u001b[38;5;241m=\u001b[39m\u001b[38;5;28mself\u001b[39m\u001b[38;5;241m.\u001b[39mfull_output,\n\u001b[1;32m   1273\u001b[0m               \u001b[38;5;241m*\u001b[39m\u001b[38;5;241m*\u001b[39mopt)\n\u001b[1;32m   1274\u001b[0m value \u001b[38;5;241m=\u001b[39m quad_r[\u001b[38;5;241m0\u001b[39m]\n\u001b[1;32m   1275\u001b[0m abserr \u001b[38;5;241m=\u001b[39m quad_r[\u001b[38;5;241m1\u001b[39m]\n",
      "File \u001b[0;32m~/miniconda3/envs/py312-MA/lib/python3.12/site-packages/scipy/integrate/_quadpack_py.py:464\u001b[0m, in \u001b[0;36mquad\u001b[0;34m(func, a, b, args, full_output, epsabs, epsrel, limit, points, weight, wvar, wopts, maxp1, limlst, complex_func)\u001b[0m\n\u001b[1;32m    461\u001b[0m     \u001b[38;5;28;01mreturn\u001b[39;00m retval\n\u001b[1;32m    463\u001b[0m \u001b[38;5;28;01mif\u001b[39;00m weight \u001b[38;5;129;01mis\u001b[39;00m \u001b[38;5;28;01mNone\u001b[39;00m:\n\u001b[0;32m--> 464\u001b[0m     retval \u001b[38;5;241m=\u001b[39m _quad(func, a, b, args, full_output, epsabs, epsrel, limit,\n\u001b[1;32m    465\u001b[0m                    points)\n\u001b[1;32m    466\u001b[0m \u001b[38;5;28;01melse\u001b[39;00m:\n\u001b[1;32m    467\u001b[0m     \u001b[38;5;28;01mif\u001b[39;00m points \u001b[38;5;129;01mis\u001b[39;00m \u001b[38;5;129;01mnot\u001b[39;00m \u001b[38;5;28;01mNone\u001b[39;00m:\n",
      "File \u001b[0;32m~/miniconda3/envs/py312-MA/lib/python3.12/site-packages/scipy/integrate/_quadpack_py.py:611\u001b[0m, in \u001b[0;36m_quad\u001b[0;34m(func, a, b, args, full_output, epsabs, epsrel, limit, points)\u001b[0m\n\u001b[1;32m    609\u001b[0m \u001b[38;5;28;01mif\u001b[39;00m points \u001b[38;5;129;01mis\u001b[39;00m \u001b[38;5;28;01mNone\u001b[39;00m:\n\u001b[1;32m    610\u001b[0m     \u001b[38;5;28;01mif\u001b[39;00m infbounds \u001b[38;5;241m==\u001b[39m \u001b[38;5;241m0\u001b[39m:\n\u001b[0;32m--> 611\u001b[0m         \u001b[38;5;28;01mreturn\u001b[39;00m _quadpack\u001b[38;5;241m.\u001b[39m_qagse(func,a,b,args,full_output,epsabs,epsrel,limit)\n\u001b[1;32m    612\u001b[0m     \u001b[38;5;28;01melse\u001b[39;00m:\n\u001b[1;32m    613\u001b[0m         \u001b[38;5;28;01mreturn\u001b[39;00m _quadpack\u001b[38;5;241m.\u001b[39m_qagie(func, bound, infbounds, args, full_output, \n\u001b[1;32m    614\u001b[0m                                 epsabs, epsrel, limit)\n",
      "File \u001b[0;32m~/miniconda3/envs/py312-MA/lib/python3.12/site-packages/scipy/integrate/_quadpack_py.py:1272\u001b[0m, in \u001b[0;36m_NQuad.integrate\u001b[0;34m(self, *args, **kwargs)\u001b[0m\n\u001b[1;32m   1270\u001b[0m \u001b[38;5;28;01melse\u001b[39;00m:\n\u001b[1;32m   1271\u001b[0m     f \u001b[38;5;241m=\u001b[39m partial(\u001b[38;5;28mself\u001b[39m\u001b[38;5;241m.\u001b[39mintegrate, depth\u001b[38;5;241m=\u001b[39mdepth\u001b[38;5;241m+\u001b[39m\u001b[38;5;241m1\u001b[39m)\n\u001b[0;32m-> 1272\u001b[0m quad_r \u001b[38;5;241m=\u001b[39m quad(f, low, high, args\u001b[38;5;241m=\u001b[39margs, full_output\u001b[38;5;241m=\u001b[39m\u001b[38;5;28mself\u001b[39m\u001b[38;5;241m.\u001b[39mfull_output,\n\u001b[1;32m   1273\u001b[0m               \u001b[38;5;241m*\u001b[39m\u001b[38;5;241m*\u001b[39mopt)\n\u001b[1;32m   1274\u001b[0m value \u001b[38;5;241m=\u001b[39m quad_r[\u001b[38;5;241m0\u001b[39m]\n\u001b[1;32m   1275\u001b[0m abserr \u001b[38;5;241m=\u001b[39m quad_r[\u001b[38;5;241m1\u001b[39m]\n",
      "File \u001b[0;32m~/miniconda3/envs/py312-MA/lib/python3.12/site-packages/scipy/integrate/_quadpack_py.py:464\u001b[0m, in \u001b[0;36mquad\u001b[0;34m(func, a, b, args, full_output, epsabs, epsrel, limit, points, weight, wvar, wopts, maxp1, limlst, complex_func)\u001b[0m\n\u001b[1;32m    461\u001b[0m     \u001b[38;5;28;01mreturn\u001b[39;00m retval\n\u001b[1;32m    463\u001b[0m \u001b[38;5;28;01mif\u001b[39;00m weight \u001b[38;5;129;01mis\u001b[39;00m \u001b[38;5;28;01mNone\u001b[39;00m:\n\u001b[0;32m--> 464\u001b[0m     retval \u001b[38;5;241m=\u001b[39m _quad(func, a, b, args, full_output, epsabs, epsrel, limit,\n\u001b[1;32m    465\u001b[0m                    points)\n\u001b[1;32m    466\u001b[0m \u001b[38;5;28;01melse\u001b[39;00m:\n\u001b[1;32m    467\u001b[0m     \u001b[38;5;28;01mif\u001b[39;00m points \u001b[38;5;129;01mis\u001b[39;00m \u001b[38;5;129;01mnot\u001b[39;00m \u001b[38;5;28;01mNone\u001b[39;00m:\n",
      "File \u001b[0;32m~/miniconda3/envs/py312-MA/lib/python3.12/site-packages/scipy/integrate/_quadpack_py.py:611\u001b[0m, in \u001b[0;36m_quad\u001b[0;34m(func, a, b, args, full_output, epsabs, epsrel, limit, points)\u001b[0m\n\u001b[1;32m    609\u001b[0m \u001b[38;5;28;01mif\u001b[39;00m points \u001b[38;5;129;01mis\u001b[39;00m \u001b[38;5;28;01mNone\u001b[39;00m:\n\u001b[1;32m    610\u001b[0m     \u001b[38;5;28;01mif\u001b[39;00m infbounds \u001b[38;5;241m==\u001b[39m \u001b[38;5;241m0\u001b[39m:\n\u001b[0;32m--> 611\u001b[0m         \u001b[38;5;28;01mreturn\u001b[39;00m _quadpack\u001b[38;5;241m.\u001b[39m_qagse(func,a,b,args,full_output,epsabs,epsrel,limit)\n\u001b[1;32m    612\u001b[0m     \u001b[38;5;28;01melse\u001b[39;00m:\n\u001b[1;32m    613\u001b[0m         \u001b[38;5;28;01mreturn\u001b[39;00m _quadpack\u001b[38;5;241m.\u001b[39m_qagie(func, bound, infbounds, args, full_output, \n\u001b[1;32m    614\u001b[0m                                 epsabs, epsrel, limit)\n",
      "    \u001b[0;31m[... skipping similar frames: _quad at line 611 (2 times), _NQuad.integrate at line 1272 (2 times), quad at line 464 (2 times)]\u001b[0m\n",
      "File \u001b[0;32m~/miniconda3/envs/py312-MA/lib/python3.12/site-packages/scipy/integrate/_quadpack_py.py:1272\u001b[0m, in \u001b[0;36m_NQuad.integrate\u001b[0;34m(self, *args, **kwargs)\u001b[0m\n\u001b[1;32m   1270\u001b[0m \u001b[38;5;28;01melse\u001b[39;00m:\n\u001b[1;32m   1271\u001b[0m     f \u001b[38;5;241m=\u001b[39m partial(\u001b[38;5;28mself\u001b[39m\u001b[38;5;241m.\u001b[39mintegrate, depth\u001b[38;5;241m=\u001b[39mdepth\u001b[38;5;241m+\u001b[39m\u001b[38;5;241m1\u001b[39m)\n\u001b[0;32m-> 1272\u001b[0m quad_r \u001b[38;5;241m=\u001b[39m quad(f, low, high, args\u001b[38;5;241m=\u001b[39margs, full_output\u001b[38;5;241m=\u001b[39m\u001b[38;5;28mself\u001b[39m\u001b[38;5;241m.\u001b[39mfull_output,\n\u001b[1;32m   1273\u001b[0m               \u001b[38;5;241m*\u001b[39m\u001b[38;5;241m*\u001b[39mopt)\n\u001b[1;32m   1274\u001b[0m value \u001b[38;5;241m=\u001b[39m quad_r[\u001b[38;5;241m0\u001b[39m]\n\u001b[1;32m   1275\u001b[0m abserr \u001b[38;5;241m=\u001b[39m quad_r[\u001b[38;5;241m1\u001b[39m]\n",
      "File \u001b[0;32m~/miniconda3/envs/py312-MA/lib/python3.12/site-packages/scipy/integrate/_quadpack_py.py:464\u001b[0m, in \u001b[0;36mquad\u001b[0;34m(func, a, b, args, full_output, epsabs, epsrel, limit, points, weight, wvar, wopts, maxp1, limlst, complex_func)\u001b[0m\n\u001b[1;32m    461\u001b[0m     \u001b[38;5;28;01mreturn\u001b[39;00m retval\n\u001b[1;32m    463\u001b[0m \u001b[38;5;28;01mif\u001b[39;00m weight \u001b[38;5;129;01mis\u001b[39;00m \u001b[38;5;28;01mNone\u001b[39;00m:\n\u001b[0;32m--> 464\u001b[0m     retval \u001b[38;5;241m=\u001b[39m _quad(func, a, b, args, full_output, epsabs, epsrel, limit,\n\u001b[1;32m    465\u001b[0m                    points)\n\u001b[1;32m    466\u001b[0m \u001b[38;5;28;01melse\u001b[39;00m:\n\u001b[1;32m    467\u001b[0m     \u001b[38;5;28;01mif\u001b[39;00m points \u001b[38;5;129;01mis\u001b[39;00m \u001b[38;5;129;01mnot\u001b[39;00m \u001b[38;5;28;01mNone\u001b[39;00m:\n",
      "File \u001b[0;32m~/miniconda3/envs/py312-MA/lib/python3.12/site-packages/scipy/integrate/_quadpack_py.py:611\u001b[0m, in \u001b[0;36m_quad\u001b[0;34m(func, a, b, args, full_output, epsabs, epsrel, limit, points)\u001b[0m\n\u001b[1;32m    609\u001b[0m \u001b[38;5;28;01mif\u001b[39;00m points \u001b[38;5;129;01mis\u001b[39;00m \u001b[38;5;28;01mNone\u001b[39;00m:\n\u001b[1;32m    610\u001b[0m     \u001b[38;5;28;01mif\u001b[39;00m infbounds \u001b[38;5;241m==\u001b[39m \u001b[38;5;241m0\u001b[39m:\n\u001b[0;32m--> 611\u001b[0m         \u001b[38;5;28;01mreturn\u001b[39;00m _quadpack\u001b[38;5;241m.\u001b[39m_qagse(func,a,b,args,full_output,epsabs,epsrel,limit)\n\u001b[1;32m    612\u001b[0m     \u001b[38;5;28;01melse\u001b[39;00m:\n\u001b[1;32m    613\u001b[0m         \u001b[38;5;28;01mreturn\u001b[39;00m _quadpack\u001b[38;5;241m.\u001b[39m_qagie(func, bound, infbounds, args, full_output, \n\u001b[1;32m    614\u001b[0m                                 epsabs, epsrel, limit)\n",
      "Cell \u001b[0;32mIn[6], line 3\u001b[0m, in \u001b[0;36mf6\u001b[0;34m(z, y, x, w, v, ssb_matrix)\u001b[0m\n\u001b[1;32m      1\u001b[0m \u001b[38;5;28;01mdef\u001b[39;00m \u001b[38;5;21mf6\u001b[39m(z, y, x, w, v, ssb_matrix):\n\u001b[1;32m      2\u001b[0m     p \u001b[38;5;241m=\u001b[39m np\u001b[38;5;241m.\u001b[39marray([v, w, x, y, z, \u001b[38;5;241m1\u001b[39m\u001b[38;5;241m-\u001b[39mx\u001b[38;5;241m-\u001b[39my\u001b[38;5;241m-\u001b[39mz\u001b[38;5;241m-\u001b[39mw\u001b[38;5;241m-\u001b[39mv])\n\u001b[0;32m----> 3\u001b[0m     \u001b[38;5;28;01mreturn\u001b[39;00m compute_lcs_volume(p, ssb_matrix)\u001b[38;5;241m*\u001b[39m\u001b[38;5;241m*\u001b[39m\u001b[38;5;241m2\u001b[39m\n",
      "Cell \u001b[0;32mIn[2], line 11\u001b[0m, in \u001b[0;36mcompute_lcs_volume\u001b[0;34m(p, ssb)\u001b[0m\n\u001b[1;32m      9\u001b[0m     factors \u001b[38;5;241m=\u001b[39m np\u001b[38;5;241m.\u001b[39mnan_to_num(factors, copy\u001b[38;5;241m=\u001b[39m\u001b[38;5;28;01mFalse\u001b[39;00m, nan\u001b[38;5;241m=\u001b[39m\u001b[38;5;241m1.0\u001b[39m, posinf\u001b[38;5;241m=\u001b[39m\u001b[38;5;241m1.0\u001b[39m, neginf\u001b[38;5;241m=\u001b[39m\u001b[38;5;241m1.0\u001b[39m)\n\u001b[1;32m     10\u001b[0m summands \u001b[38;5;241m=\u001b[39m np\u001b[38;5;241m.\u001b[39mprod(factors, axis\u001b[38;5;241m=\u001b[39m\u001b[38;5;241m1\u001b[39m)\n\u001b[0;32m---> 11\u001b[0m \u001b[38;5;28;01mreturn\u001b[39;00m np\u001b[38;5;241m.\u001b[39msum(summands)\n",
      "File \u001b[0;32m~/miniconda3/envs/py312-MA/lib/python3.12/site-packages/numpy/core/fromnumeric.py:2313\u001b[0m, in \u001b[0;36msum\u001b[0;34m(a, axis, dtype, out, keepdims, initial, where)\u001b[0m\n\u001b[1;32m   2310\u001b[0m         \u001b[38;5;28;01mreturn\u001b[39;00m out\n\u001b[1;32m   2311\u001b[0m     \u001b[38;5;28;01mreturn\u001b[39;00m res\n\u001b[0;32m-> 2313\u001b[0m \u001b[38;5;28;01mreturn\u001b[39;00m _wrapreduction(a, np\u001b[38;5;241m.\u001b[39madd, \u001b[38;5;124m'\u001b[39m\u001b[38;5;124msum\u001b[39m\u001b[38;5;124m'\u001b[39m, axis, dtype, out, keepdims\u001b[38;5;241m=\u001b[39mkeepdims,\n\u001b[1;32m   2314\u001b[0m                       initial\u001b[38;5;241m=\u001b[39minitial, where\u001b[38;5;241m=\u001b[39mwhere)\n",
      "File \u001b[0;32m~/miniconda3/envs/py312-MA/lib/python3.12/site-packages/numpy/core/fromnumeric.py:88\u001b[0m, in \u001b[0;36m_wrapreduction\u001b[0;34m(obj, ufunc, method, axis, dtype, out, **kwargs)\u001b[0m\n\u001b[1;32m     85\u001b[0m         \u001b[38;5;28;01melse\u001b[39;00m:\n\u001b[1;32m     86\u001b[0m             \u001b[38;5;28;01mreturn\u001b[39;00m reduction(axis\u001b[38;5;241m=\u001b[39maxis, out\u001b[38;5;241m=\u001b[39mout, \u001b[38;5;241m*\u001b[39m\u001b[38;5;241m*\u001b[39mpasskwargs)\n\u001b[0;32m---> 88\u001b[0m \u001b[38;5;28;01mreturn\u001b[39;00m ufunc\u001b[38;5;241m.\u001b[39mreduce(obj, axis, dtype, out, \u001b[38;5;241m*\u001b[39m\u001b[38;5;241m*\u001b[39mpasskwargs)\n",
      "\u001b[0;31mKeyboardInterrupt\u001b[0m: "
     ]
    }
   ],
   "source": [
    "def f6(z, y, x, w, v, ssb_matrix):\n",
    "    p = np.array([v, w, x, y, z, 1-x-y-z-w-v])\n",
    "    return compute_lcs_volume(p, ssb_matrix)**2\n",
    "\n",
    "m = 6  #number of alternative\n",
    "ssb_tr = np.triu(np.ones((m, m))) - np.tril(np.ones((m, m))) # transitive preferences\n",
    "val, err = integrate.nquad(f6, [lambda w, x, y, z, _: [0, 1-w-x-y-z], lambda x, y, z, _: [0, 1-x-y-z], lambda y, z, _: [0, 1-y-z], lambda z, _: [0, 1-z], [0, 1]], args = [ssb_tr])\n",
    "print(val, 1-360*val, 360*err)\n",
    "# Stopped after 700min"
   ]
  },
  {
   "cell_type": "code",
   "execution_count": 6,
   "id": "a00c4496",
   "metadata": {},
   "outputs": [],
   "source": [
    "def compute_lcs_volume_vectorized(p_matr, ssb):\n",
    "    normal = - p_matr @ ssb\n",
    "    normal_short = np.where(normal < 0, normal, 0)\n",
    "    with np.errstate(divide='ignore'):\n",
    "        factors = normal_short[:, :, None] / (normal_short[:, :, None] - normal[:, None, :])\n",
    "        factors = np.nan_to_num(factors, copy=False, nan=1.0, posinf=1.0, neginf=1.0)\n",
    "    summands = np.prod(factors, axis=2)\n",
    "    return np.sum(summands, axis=1)"
   ]
  },
  {
   "cell_type": "code",
   "execution_count": 3,
   "id": "64b05fab",
   "metadata": {},
   "outputs": [
    {
     "name": "stdout",
     "output_type": "stream",
     "text": [
      "0.33256091302276447 9.479516002467429e-05 7950 0.0023172609317065884\n"
     ]
    }
   ],
   "source": [
    "num_samples = 7.95 * 10**10\n",
    "m = 5\n",
    "rng = np.random.default_rng(2025)\n",
    "ssb_tr = np.triu(np.ones((m, m))) - np.tril(np.ones((m, m)))\n",
    "alpha = np.ones(m)\n",
    "batch_size = 10**7 #3.5sec for 10**7 samples\n",
    "\n",
    "batch_results = []\n",
    "\n",
    "for i in range(len(batch_results)*batch_size, int(num_samples), batch_size):\n",
    "    p_matr = rng.dirichlet(alpha, batch_size)\n",
    "    samples = compute_lcs_volume_vectorized(p_matr, ssb_tr)\n",
    "    batch_results.append((samples**2).mean())\n",
    "\n",
    "with open(DATA_DIR / '5_3_MC_transitive.dat', 'wb') as file:\n",
    "    file.write(pack('d' * len(batch_results) , *batch_results))\n",
    "\n",
    "print(np.mean(batch_results), np.std(batch_results), len(batch_results), 1-3* np.mean(batch_results))"
   ]
  },
  {
   "cell_type": "code",
   "execution_count": 3,
   "id": "2dff1bf4",
   "metadata": {},
   "outputs": [
    {
     "name": "stdout",
     "output_type": "stream",
     "text": [
      "0.25045197153916393 6.8277003813353525e-06 7950 0.24864408538250826\n"
     ]
    }
   ],
   "source": [
    "num_samples = 7.95 * 10**10\n",
    "m = 5\n",
    "rng = np.random.default_rng(2026)\n",
    "# symmetric cycle\n",
    "ssb_intr1 = np.array([[0, 1, 1, -1, -1], [-1, 0, 1, 1, -1], [-1, -1, 0, 1, 1], [1, -1, -1, 0, 1], [1, 1, -1, -1, 0]])\n",
    "alpha = np.ones(m)\n",
    "batch_size = 10**7 #2.5sec for 10**7 samples\n",
    "\n",
    "batch_results = []\n",
    "\n",
    "for i in range(len(batch_results)*batch_size, int(num_samples), batch_size):\n",
    "    p_matr = rng.dirichlet(alpha, batch_size)\n",
    "    samples = compute_lcs_volume_vectorized(p_matr, ssb_intr1)\n",
    "    batch_results.append((samples**2).mean())\n",
    "\n",
    "with open(DATA_DIR / '5_3_MC_intr1.dat', 'wb') as file:\n",
    "    file.write(pack('d' * len(batch_results) , *batch_results))\n",
    "\n",
    "print(np.mean(batch_results), np.std(batch_results), len(batch_results), 1-3* np.mean(batch_results))"
   ]
  },
  {
   "cell_type": "code",
   "execution_count": null,
   "id": "ed0c0863",
   "metadata": {},
   "outputs": [
    {
     "name": "stdout",
     "output_type": "stream",
     "text": [
      "0.32685642903620765 8.869487933182165e-05 7950 0.0194307128913771\n"
     ]
    }
   ],
   "source": [
    "num_samples = 7.95 * 10**10\n",
    "m = 5\n",
    "rng = np.random.default_rng(2026)\n",
    "# 3 cycle preferred to the other options\n",
    "ssb_intr2 = np.array([[0, 1, -1, 1, 1], [-1, 0, 1, 1, 1], [1, -1, 0, 1, 1], [-1, -1, -1, 0, 1], [-1, -1, -1, -1, 0]])\n",
    "alpha = np.ones(m)\n",
    "batch_size = 10**7 #2.5sec for 10**7 samples\n",
    "\n",
    "batch_results = []\n",
    "\n",
    "for i in range(len(batch_results)*batch_size, int(num_samples), batch_size):\n",
    "    p_matr = rng.dirichlet(alpha, batch_size)\n",
    "    samples = compute_lcs_volume_vectorized(p_matr, ssb_intr2)\n",
    "    batch_results.append((samples**2).mean())\n",
    "\n",
    "with open(DATA_DIR / '5_3_MC_intr2.dat', 'wb') as file:\n",
    "    file.write(pack('d' * len(batch_results) , *batch_results))\n",
    "\n",
    "print(np.mean(batch_results), np.std(batch_results), len(batch_results), 1-3* np.mean(batch_results)) \n",
    "# Took 614 min to run"
   ]
  },
  {
   "cell_type": "code",
   "execution_count": 3,
   "id": "21874ecd",
   "metadata": {},
   "outputs": [
    {
     "name": "stdout",
     "output_type": "stream",
     "text": [
      "0.32663924493266805 9.07552579121645e-05 7950 0.020082265201995853\n"
     ]
    }
   ],
   "source": [
    "num_samples = 7.95 * 10**10\n",
    "m = 5\n",
    "rng = np.random.default_rng(2027)\n",
    "# 3 cycle in the middle\n",
    "ssb_intr3 = np.array([[0, 1, 1, 1, 1], [-1, 0, 1, -1, 1], [-1, -1, 0, 1, 1], [-1, 1, -1, 0, 1], [-1, -1, -1, -1, 0]])\n",
    "alpha = np.ones(m)\n",
    "batch_size = 10**7 #2.5sec for 10**7 samples\n",
    "\n",
    "batch_results = []\n",
    "\n",
    "for i in range(len(batch_results)*batch_size, int(num_samples), batch_size):\n",
    "    p_matr = rng.dirichlet(alpha, batch_size)\n",
    "    samples = compute_lcs_volume_vectorized(p_matr, ssb_intr3)\n",
    "    batch_results.append((samples**2).mean())\n",
    "\n",
    "with open(DATA_DIR / '5_3_MC_intr3.dat', 'wb') as file:\n",
    "    file.write(pack('d' * len(batch_results) , *batch_results))\n",
    "\n",
    "print(np.mean(batch_results), np.std(batch_results), len(batch_results), 1-3* np.mean(batch_results))"
   ]
  },
  {
   "cell_type": "code",
   "execution_count": 7,
   "id": "a499db3a",
   "metadata": {},
   "outputs": [
    {
     "name": "stdout",
     "output_type": "stream",
     "text": [
      "0.3119331995182186 8.06457374122078e-05 7950 0.06420040144534434\n"
     ]
    }
   ],
   "source": [
    "num_samples = 7.95 * 10**10\n",
    "m = 5\n",
    "rng = np.random.default_rng(2027)\n",
    "# two 3 cycles\n",
    "ssb_intr4 = np.array([[0, 1, -1, 1, 1], [-1, 0, 1, 1, 1], [1, -1, 0, 1, -1], [-1, -1, -1, 0, 1], [-1, -1, 1, -1, 0]])\n",
    "alpha = np.ones(m)\n",
    "batch_size = 10**7 #2.5sec for 10**7 samples\n",
    "\n",
    "batch_results = []\n",
    "\n",
    "for i in range(len(batch_results)*batch_size, int(num_samples), batch_size):\n",
    "    p_matr = rng.dirichlet(alpha, batch_size)\n",
    "    samples = compute_lcs_volume_vectorized(p_matr, ssb_intr4)\n",
    "    batch_results.append((samples**2).mean())\n",
    "\n",
    "with open(DATA_DIR / '5_3_MC_intr4.dat', 'wb') as file:\n",
    "    file.write(pack('d' * len(batch_results) , *batch_results))\n",
    "\n",
    "print(np.mean(batch_results), np.std(batch_results), len(batch_results), 1-3* np.mean(batch_results))"
   ]
  },
  {
   "cell_type": "code",
   "execution_count": null,
   "id": "a18cbc18",
   "metadata": {},
   "outputs": [
    {
     "name": "stdout",
     "output_type": "stream",
     "text": [
      "0.0023164428679245284 1.5182092606948236e-05 2650\n"
     ]
    }
   ],
   "source": [
    "num_samples = 2.65 * 10**10 #1 sample corresponds to 3 lotteries, a triple!\n",
    "m = 5\n",
    "rng = np.random.default_rng(2027)\n",
    "ssb_tr = np.triu(np.ones((m, m))) - np.tril(np.ones((m, m)))\n",
    "alpha = np.ones(m)\n",
    "batch_size = 10**7\n",
    "\n",
    "batch_results = []\n",
    "\n",
    "for i in range(len(batch_results)*batch_size, int(num_samples), batch_size):\n",
    "    lotteries = rng.dirichlet(alpha, (3, batch_size))\n",
    "    comp01 = (np.sum(lotteries[0,:,:] @ ssb_tr * lotteries[1,:,:], axis=1) > 0).astype(int)\n",
    "    comp12 = (np.sum(lotteries[1,:,:] @ ssb_tr * lotteries[2,:,:], axis=1) > 0).astype(int)\n",
    "    comp20 = (np.sum(lotteries[2,:,:] @ ssb_tr * lotteries[0,:,:], axis=1) > 0).astype(int)\n",
    "    num_intr = np.sum(comp01 + comp12 + comp20 == 0) + np.sum(comp01 + comp12 + comp20 == 3)\n",
    "    batch_results.append(num_intr/batch_size)\n",
    "\n",
    "with open(DATA_DIR / '5_3_sim_transitive.dat', 'wb') as file:\n",
    "    file.write(pack('d' * len(batch_results) , *batch_results))\n",
    "\n",
    "print(np.mean(batch_results), np.std(batch_results), len(batch_results)) #110 min"
   ]
  },
  {
   "cell_type": "code",
   "execution_count": 4,
   "id": "f1c9c8e5",
   "metadata": {},
   "outputs": [
    {
     "name": "stdout",
     "output_type": "stream",
     "text": [
      "0.2486390358113208 0.00013763357531285138 2650\n"
     ]
    }
   ],
   "source": [
    "num_samples = 2.65 * 10**10 #1 sample corresponds to 3 lotteries, a triple!\n",
    "m = 5\n",
    "rng = np.random.default_rng(2028)\n",
    "# symmetric cycle\n",
    "ssb_intr1 = np.array([[0, 1, 1, -1, -1], [-1, 0, 1, 1, -1], [-1, -1, 0, 1, 1], [1, -1, -1, 0, 1], [1, 1, -1, -1, 0]])\n",
    "alpha = np.ones(m)\n",
    "batch_size = 10**7\n",
    "\n",
    "batch_results = []\n",
    "\n",
    "for i in range(len(batch_results)*batch_size, int(num_samples), batch_size):\n",
    "    lotteries = rng.dirichlet(alpha, (3, batch_size))\n",
    "    comp01 = (np.sum(lotteries[0,:,:] @ ssb_intr1 * lotteries[1,:,:], axis=1) > 0).astype(int)\n",
    "    comp12 = (np.sum(lotteries[1,:,:] @ ssb_intr1 * lotteries[2,:,:], axis=1) > 0).astype(int)\n",
    "    comp20 = (np.sum(lotteries[2,:,:] @ ssb_intr1 * lotteries[0,:,:], axis=1) > 0).astype(int)\n",
    "    num_intr = np.sum(comp01 + comp12 + comp20 == 0) + np.sum(comp01 + comp12 + comp20 == 3)\n",
    "    batch_results.append(num_intr/batch_size)\n",
    "\n",
    "with open(DATA_DIR / '5_3_sim_intr1.dat', 'wb') as file:\n",
    "    file.write(pack('d' * len(batch_results) , *batch_results))\n",
    "\n",
    "print(np.mean(batch_results), np.std(batch_results), len(batch_results))"
   ]
  },
  {
   "cell_type": "code",
   "execution_count": 5,
   "id": "da01d03f",
   "metadata": {},
   "outputs": [
    {
     "name": "stdout",
     "output_type": "stream",
     "text": [
      "0.019427073509433963 4.400895646562536e-05 2650\n"
     ]
    }
   ],
   "source": [
    "num_samples = 2.65 * 10**10 #1 sample corresponds to 3 lotteries, a triple!\n",
    "m = 5\n",
    "rng = np.random.default_rng(2028)\n",
    "# 3 cycle preferred to the other options\n",
    "ssb_intr2 = np.array([[0, 1, -1, 1, 1], [-1, 0, 1, 1, 1], [1, -1, 0, 1, 1], [-1, -1, -1, 0, 1], [-1, -1, -1, -1, 0]])\n",
    "alpha = np.ones(m)\n",
    "batch_size = 10**7\n",
    "\n",
    "batch_results = []\n",
    "\n",
    "for i in range(len(batch_results)*batch_size, int(num_samples), batch_size):\n",
    "    lotteries = rng.dirichlet(alpha, (3, batch_size))\n",
    "    comp01 = (np.sum(lotteries[0,:,:] @ ssb_intr2 * lotteries[1,:,:], axis=1) > 0).astype(int)\n",
    "    comp12 = (np.sum(lotteries[1,:,:] @ ssb_intr2 * lotteries[2,:,:], axis=1) > 0).astype(int)\n",
    "    comp20 = (np.sum(lotteries[2,:,:] @ ssb_intr2 * lotteries[0,:,:], axis=1) > 0).astype(int)\n",
    "    num_intr = np.sum(comp01 + comp12 + comp20 == 0) + np.sum(comp01 + comp12 + comp20 == 3)\n",
    "    batch_results.append(num_intr/batch_size)\n",
    "\n",
    "with open(DATA_DIR / '5_3_sim_intr2.dat', 'wb') as file:\n",
    "    file.write(pack('d' * len(batch_results) , *batch_results))\n",
    "\n",
    "print(np.mean(batch_results), np.std(batch_results), len(batch_results))"
   ]
  },
  {
   "cell_type": "code",
   "execution_count": 4,
   "id": "35cfdc63",
   "metadata": {},
   "outputs": [
    {
     "name": "stdout",
     "output_type": "stream",
     "text": [
      "0.020078572905660376 4.4500316363625974e-05 2650\n"
     ]
    }
   ],
   "source": [
    "num_samples = 2.65 * 10**10 #1 sample corresponds to 3 lotteries, a triple!\n",
    "m = 5\n",
    "rng = np.random.default_rng(2028)\n",
    "# 3 cycle in the middle\n",
    "ssb_intr3 = np.array([[0, 1, 1, 1, 1], [-1, 0, 1, -1, 1], [-1, -1, 0, 1, 1], [-1, 1, -1, 0, 1], [-1, -1, -1, -1, 0]])\n",
    "alpha = np.ones(m)\n",
    "batch_size = 10**7\n",
    "\n",
    "batch_results = []\n",
    "\n",
    "for i in range(len(batch_results)*batch_size, int(num_samples), batch_size):\n",
    "    lotteries = rng.dirichlet(alpha, (3, batch_size))\n",
    "    comp01 = (np.sum(lotteries[0,:,:] @ ssb_intr3 * lotteries[1,:,:], axis=1) > 0).astype(int)\n",
    "    comp12 = (np.sum(lotteries[1,:,:] @ ssb_intr3 * lotteries[2,:,:], axis=1) > 0).astype(int)\n",
    "    comp20 = (np.sum(lotteries[2,:,:] @ ssb_intr3 * lotteries[0,:,:], axis=1) > 0).astype(int)\n",
    "    num_intr = np.sum(comp01 + comp12 + comp20 == 0) + np.sum(comp01 + comp12 + comp20 == 3)\n",
    "    batch_results.append(num_intr/batch_size)\n",
    "\n",
    "with open(DATA_DIR / '5_3_sim_intr3.dat', 'wb') as file:\n",
    "    file.write(pack('d' * len(batch_results) , *batch_results))\n",
    "\n",
    "print(np.mean(batch_results), np.std(batch_results), len(batch_results))"
   ]
  },
  {
   "cell_type": "code",
   "execution_count": 2,
   "id": "e7d42039",
   "metadata": {},
   "outputs": [
    {
     "name": "stdout",
     "output_type": "stream",
     "text": [
      "0.06419921490566038 7.679801638855998e-05 2650\n"
     ]
    }
   ],
   "source": [
    "num_samples = 2.65 * 10**10 #1 sample corresponds to 3 lotteries, a triple!\n",
    "m = 5\n",
    "rng = np.random.default_rng(2028)\n",
    "# two 3-cycles\n",
    "ssb_intr4 = np.array([[0, 1, -1, 1, 1], [-1, 0, 1, 1, 1], [1, -1, 0, 1, -1], [-1, -1, -1, 0, 1], [-1, -1, 1, -1, 0]])\n",
    "alpha = np.ones(m)\n",
    "batch_size = 10**7\n",
    "\n",
    "batch_results = []\n",
    "\n",
    "for i in range(len(batch_results)*batch_size, int(num_samples), batch_size):\n",
    "    lotteries = rng.dirichlet(alpha, (3, batch_size))\n",
    "    comp01 = (np.sum(lotteries[0,:,:] @ ssb_intr4 * lotteries[1,:,:], axis=1) > 0).astype(int)\n",
    "    comp12 = (np.sum(lotteries[1,:,:] @ ssb_intr4 * lotteries[2,:,:], axis=1) > 0).astype(int)\n",
    "    comp20 = (np.sum(lotteries[2,:,:] @ ssb_intr4 * lotteries[0,:,:], axis=1) > 0).astype(int)\n",
    "    num_intr = np.sum(comp01 + comp12 + comp20 == 0) + np.sum(comp01 + comp12 + comp20 == 3)\n",
    "    batch_results.append(num_intr/batch_size)\n",
    "\n",
    "with open(DATA_DIR / '5_3_sim_intr4.dat', 'wb') as file:\n",
    "    file.write(pack('d' * len(batch_results) , *batch_results))\n",
    "\n",
    "print(np.mean(batch_results), np.std(batch_results), len(batch_results))"
   ]
  }
 ],
 "metadata": {
  "kernelspec": {
   "display_name": "py312-MA",
   "language": "python",
   "name": "py312-ma"
  },
  "language_info": {
   "codemirror_mode": {
    "name": "ipython",
    "version": 3
   },
   "file_extension": ".py",
   "mimetype": "text/x-python",
   "name": "python",
   "nbconvert_exporter": "python",
   "pygments_lexer": "ipython3",
   "version": "3.12.2"
  }
 },
 "nbformat": 4,
 "nbformat_minor": 5
}
