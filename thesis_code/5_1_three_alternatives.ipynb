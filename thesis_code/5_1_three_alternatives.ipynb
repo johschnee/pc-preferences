{
 "cells": [
  {
   "cell_type": "code",
   "execution_count": 1,
   "id": "2c724058",
   "metadata": {},
   "outputs": [],
   "source": [
    "import sys\n",
    "\n",
    "import numpy as np\n",
    "from scipy import integrate\n",
    "from struct import pack, unpack\n",
    "\n",
    "sys.path.insert(0, \"../\")\n",
    "from paths import FIG_DIR, DATA_DIR"
   ]
  },
  {
   "cell_type": "code",
   "execution_count": 2,
   "id": "8c3be62a",
   "metadata": {},
   "outputs": [],
   "source": [
    "def compute_lcs_volume(p, ssb):\n",
    "    normal = ssb @ p\n",
    "    if len(np.unique(normal)) < len(normal):\n",
    "        return 1  # upper bound\n",
    "    vertices_lcs = list(np.where(normal < 0)[0])\n",
    "    normal_short = normal[vertices_lcs]\n",
    "    with np.errstate(divide='ignore'):\n",
    "        factors = normal_short[:, None]/(normal_short[:, None] - normal[None, :])\n",
    "        factors = np.nan_to_num(factors, copy=False, nan=1.0, posinf=1.0, neginf=1.0)\n",
    "    summands = np.prod(factors, axis=1)\n",
    "    return np.sum(summands)"
   ]
  },
  {
   "cell_type": "code",
   "execution_count": 5,
   "id": "1c6d1773",
   "metadata": {},
   "outputs": [
    {
     "name": "stdout",
     "output_type": "stream",
     "text": [
      "Integral: 0.3333333338408437 Prob. intr.: -1.5225309901722994e-09 Error: 8.663295278119672e-08\n",
      "Integral: 0.2515928246444483 Prob. intr.: 0.24522152606665504 Error: 8.916985669204123e-08\n"
     ]
    }
   ],
   "source": [
    "def f3(y, x, ssb_matrix):\n",
    "    p = np.array([x, y, 1-x-y])\n",
    "    return compute_lcs_volume(p, ssb_matrix)**2\n",
    "\n",
    "ssb_tr = np.array([[0, 1, 1], [-1, 0, 1], [-1, -1, 0]])\n",
    "ssb_intr = np.array([[0, 1, -1], [-1, 0, 1], [1, -1, 0]])\n",
    "\n",
    "val, err = integrate.dblquad(f3, 0, 1, 0, lambda x: 1-x, args=(ssb_tr,))\n",
    "print(\"Integral:\", 2*val, \"Prob. intr.:\", 1-6*val, \"Error:\", 6*err)\n",
    "val, err = integrate.dblquad(f3, 0, 1, 0, lambda x: 1-x, args=(ssb_intr,))\n",
    "print(\"Integral:\", 2*val, \"Prob. intr.:\", 1-6*val, \"Error:\", 6*err)"
   ]
  },
  {
   "cell_type": "code",
   "execution_count": 2,
   "id": "f189ec60",
   "metadata": {},
   "outputs": [],
   "source": [
    "def compute_lcs_volume_vectorized(p_matr, ssb):\n",
    "    normal = - p_matr @ ssb\n",
    "    normal_short = np.where(normal < 0, normal, 0)\n",
    "    with np.errstate(divide='ignore'):\n",
    "        factors = normal_short[:, :, None] / (normal_short[:, :, None] - normal[:, None, :])\n",
    "        factors = np.nan_to_num(factors, copy=False, nan=1.0, posinf=1.0, neginf=1.0)\n",
    "    summands = np.prod(factors, axis=2)\n",
    "    return np.sum(summands, axis=1)"
   ]
  },
  {
   "cell_type": "code",
   "execution_count": 6,
   "id": "db502ea4",
   "metadata": {},
   "outputs": [
    {
     "name": "stdout",
     "output_type": "stream",
     "text": [
      "Integral: 0.2515930102536696 std between batches (depnends on batch size): 1.2659701519122817e-05\n",
      "Number of batches: 7950 Probability of intransitivity:  0.24522096923899128\n"
     ]
    }
   ],
   "source": [
    "num_samples = 7.95 * 10**10\n",
    "m = 3\n",
    "rng = np.random.default_rng(2025)\n",
    "ssb_intr = np.array([[0, 1, -1], [-1, 0, 1], [1, -1, 0]])\n",
    "alpha = np.ones(m)\n",
    "batch_size = 10**7 #2.5sec for 10**7 samples\n",
    "\n",
    "batch_results = []\n",
    "\n",
    "for i in range(len(batch_results)*batch_size, int(num_samples), batch_size):\n",
    "    p_matr = rng.dirichlet(alpha, batch_size)\n",
    "    samples = compute_lcs_volume_vectorized(p_matr, ssb_intr)\n",
    "    batch_results.append((samples**2).mean())\n",
    "\n",
    "with open(DATA_DIR / '5_1_MC_intransitive.dat', 'wb') as file:\n",
    "    file.write(pack('d' * len(batch_results) , *batch_results))\n",
    "\n",
    "print(\"Integral:\", np.mean(batch_results), \"std between batches (depnends on batch size):\", np.std(batch_results))\n",
    "print(\"Number of batches:\", len(batch_results), \"Probability of intransitivity: \", 1-3*np.mean(batch_results))"
   ]
  },
  {
   "cell_type": "code",
   "execution_count": null,
   "id": "72b1fd08",
   "metadata": {},
   "outputs": [
    {
     "name": "stdout",
     "output_type": "stream",
     "text": [
      "0.24521831109433967 0.00013607908166060937 2650\n"
     ]
    }
   ],
   "source": [
    "num_samples = 2.65 * 10**10 #1 sample corresponds to 3 lotteries, a triple!\n",
    "m = 3\n",
    "rng = np.random.default_rng(2027)\n",
    "ssb_intr = np.array([[0, 1, -1], [-1, 0, 1], [1, -1, 0]])\n",
    "alpha = np.ones(m)\n",
    "batch_size = 10**7 #2.0sec for 10**7 samples\n",
    "\n",
    "batch_results = []\n",
    "\n",
    "for i in range(len(batch_results)*batch_size, int(num_samples), batch_size):\n",
    "    lotteries = rng.dirichlet(alpha, (3, batch_size))\n",
    "    comp01 = (np.sum(lotteries[0,:,:] @ ssb_intr * lotteries[1,:,:], axis=1) > 0).astype(int)\n",
    "    comp12 = (np.sum(lotteries[1,:,:] @ ssb_intr * lotteries[2,:,:], axis=1) > 0).astype(int)\n",
    "    comp20 = (np.sum(lotteries[2,:,:] @ ssb_intr * lotteries[0,:,:], axis=1) > 0).astype(int)\n",
    "    num_intr = np.sum(comp01 + comp12 + comp20 == 0) + np.sum(comp01 + comp12 + comp20 == 3)\n",
    "    batch_results.append(num_intr/batch_size)\n",
    "\n",
    "with open(DATA_DIR / '5_1_sim_intransitive.dat', 'wb') as file:\n",
    "    file.write(pack('d' * len(batch_results) , *batch_results))\n",
    "\n",
    "print(np.mean(batch_results), np.std(batch_results), len(batch_results))"
   ]
  }
 ],
 "metadata": {
  "kernelspec": {
   "display_name": "py312-MA",
   "language": "python",
   "name": "py312-ma"
  },
  "language_info": {
   "codemirror_mode": {
    "name": "ipython",
    "version": 3
   },
   "file_extension": ".py",
   "mimetype": "text/x-python",
   "name": "python",
   "nbconvert_exporter": "python",
   "pygments_lexer": "ipython3",
   "version": "3.12.2"
  }
 },
 "nbformat": 4,
 "nbformat_minor": 5
}
