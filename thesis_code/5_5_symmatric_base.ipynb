{
 "cells": [
  {
   "cell_type": "code",
   "execution_count": 1,
   "id": "02220895",
   "metadata": {},
   "outputs": [],
   "source": [
    "import sys\n",
    "import datetime\n",
    "\n",
    "import numpy as np\n",
    "from scipy import integrate\n",
    "import pandas as pd\n",
    "import matplotlib.pyplot as plt\n",
    "import seaborn as sns\n",
    "from struct import pack, unpack\n",
    "\n",
    "sys.path.insert(0, \"../\")\n",
    "from paths import FIG_DIR, DATA_DIR"
   ]
  },
  {
   "cell_type": "code",
   "execution_count": 2,
   "id": "1915e254",
   "metadata": {},
   "outputs": [],
   "source": [
    "def initialize_symmetric_tournament(m):\n",
    "    if m % 2 != 1:\n",
    "        raise ValueError(\"The value of m is even, please choose an odd value.\")\n",
    "    ssb = np.zeros((m, m))\n",
    "    for k in range(1, int((m+1)/2)):\n",
    "        for i in range(m):\n",
    "            ssb[i, (i+k)%m] = 1\n",
    "            ssb[i, (i-k)%m] = -1\n",
    "    return ssb"
   ]
  },
  {
   "cell_type": "code",
   "execution_count": null,
   "id": "69cb03c1",
   "metadata": {},
   "outputs": [],
   "source": [
    "# intr_dict = {3: 0.24521831109433967, 5: 0.2486390358113208} # compare Notebook 5_1 and 5_3\n",
    "# with open(DATA_DIR / '5_5_sim_symmetric.dat', 'wb') as file:\n",
    "#     file.write(pack('d' * len(intr_dict) , *intr_dict.values()))"
   ]
  },
  {
   "cell_type": "code",
   "execution_count": 3,
   "id": "da9fb918",
   "metadata": {},
   "outputs": [
    {
     "name": "stdout",
     "output_type": "stream",
     "text": [
      "Starting 13 at 2025-05-01 09:13:43\n",
      "Finished 13 at 2025-05-01 13:29:23\n",
      "Results for m=13: np.mean(batch_results)=0.24991388441509432, np.std(batch_results)=0.0001395371210316091, len(batch_results)=2650\n",
      "Starting 15 at 2025-05-01 13:29:23\n",
      "Finished 15 at 2025-05-01 18:14:58\n",
      "Results for m=15: np.mean(batch_results)=0.24994523573584904, np.std(batch_results)=0.0001358840464983305, len(batch_results)=2650\n"
     ]
    }
   ],
   "source": [
    "num_samples = 2.65 * 10**10 #1 sample corresponds to 3 lotteries, a triple!\n",
    "\n",
    "with open(DATA_DIR / '5_5_sim_symmetric.dat', 'rb') as file:\n",
    "    packed = file.read()\n",
    "    read = list(unpack('d' * (len(packed) // 8), packed)) # 8 bytes per double\n",
    "intr_dict = {2*i + 3: read[i] for i in range(len(read))}\n",
    "\n",
    "for m in range(3 + 2*len(intr_dict), 16, 2):\n",
    "    now = datetime.datetime.now()\n",
    "    print(f\"Starting {m} at {now.strftime('%Y-%m-%d %H:%M:%S')}\")\n",
    "\n",
    "    rng = np.random.default_rng(2025 + m)\n",
    "    ssb_intr = initialize_symmetric_tournament(m)\n",
    "    alpha = np.ones(m)\n",
    "    batch_size = 10**7\n",
    "\n",
    "    batch_results = []\n",
    "\n",
    "    for i in range(len(batch_results)*batch_size, int(num_samples), batch_size):\n",
    "        lotteries = rng.dirichlet(alpha, (3, batch_size))\n",
    "        comp01 = (np.sum(lotteries[0,:,:] @ ssb_intr * lotteries[1,:,:], axis=1) > 0).astype(int)\n",
    "        comp12 = (np.sum(lotteries[1,:,:] @ ssb_intr * lotteries[2,:,:], axis=1) > 0).astype(int)\n",
    "        comp20 = (np.sum(lotteries[2,:,:] @ ssb_intr * lotteries[0,:,:], axis=1) > 0).astype(int)\n",
    "        num_intr = np.sum(comp01 + comp12 + comp20 == 0) + np.sum(comp01 + comp12 + comp20 == 3)\n",
    "        batch_results.append(num_intr/batch_size)\n",
    "\n",
    "    now = datetime.datetime.now()\n",
    "    print(f\"Finished {m} at {now.strftime('%Y-%m-%d %H:%M:%S')}\")\n",
    "    print(f\"Results for m={m}: np.mean(batch_results)={np.mean(batch_results)}, np.std(batch_results)={np.std(batch_results)}, len(batch_results)={len(batch_results)}\")\n",
    "    intr_dict[m] = np.mean(batch_results)\n",
    "    with open(DATA_DIR / '5_5_sim_symmetric.dat', 'wb') as file:\n",
    "        file.write(pack('d' * len(intr_dict) , *intr_dict.values()))"
   ]
  }
 ],
 "metadata": {
  "kernelspec": {
   "display_name": "py312-MA",
   "language": "python",
   "name": "py312-ma"
  },
  "language_info": {
   "codemirror_mode": {
    "name": "ipython",
    "version": 3
   },
   "file_extension": ".py",
   "mimetype": "text/x-python",
   "name": "python",
   "nbconvert_exporter": "python",
   "pygments_lexer": "ipython3",
   "version": "3.12.2"
  }
 },
 "nbformat": 4,
 "nbformat_minor": 5
}
