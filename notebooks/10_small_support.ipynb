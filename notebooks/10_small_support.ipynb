{
 "cells": [
  {
   "cell_type": "code",
   "execution_count": 1,
   "metadata": {},
   "outputs": [],
   "source": [
    "%load_ext autoreload\n",
    "%autoreload 2"
   ]
  },
  {
   "cell_type": "code",
   "execution_count": 2,
   "metadata": {},
   "outputs": [],
   "source": [
    "import numpy as np"
   ]
  },
  {
   "cell_type": "code",
   "execution_count": 3,
   "metadata": {},
   "outputs": [
    {
     "name": "stdout",
     "output_type": "stream",
     "text": [
      "For m = 10 and full support were 350 of 100000 triples intransitive.\n",
      "For m = 20 and full support were 275 of 100000 triples intransitive.\n",
      "For m = 30 and full support were 198 of 100000 triples intransitive.\n",
      "For m = 50 and full support were 112 of 100000 triples intransitive.\n",
      "For m = 70 and full support were 119 of 100000 triples intransitive.\n",
      "For m = 100 and full support were 81 of 100000 triples intransitive.\n",
      "For m = 150 and full support were 42 of 100000 triples intransitive.\n",
      "For m = 200 and full support were 52 of 100000 triples intransitive.\n",
      "For m = 400 and full support were 21 of 100000 triples intransitive.\n",
      "For m = 700 and full support were 13 of 100000 triples intransitive.\n",
      "For m = 1000 and full support were 6 of 100000 triples intransitive.\n"
     ]
    }
   ],
   "source": [
    "num_rep = 100000\n",
    "rng = np.random.default_rng()\n",
    "\n",
    "#simulate full support\n",
    "for m in [10, 20, 30, 50, 70, 100, 150, 200, 400, 700, 1000]:\n",
    "    ssb_utility = np.triu(np.ones((m, m))) - np.tril(np.ones((m, m)))\n",
    "    alpha = np.ones(m)\n",
    "    lotteries = rng.dirichlet(alpha, (3, num_rep))\n",
    "    comp01 = (np.sum(lotteries[0,:,:] @ ssb_utility * lotteries[1,:,:], axis=1) > 0).astype(int)\n",
    "    comp12 = (np.sum(lotteries[1,:,:] @ ssb_utility * lotteries[2,:,:], axis=1) > 0).astype(int)\n",
    "    comp20 = (np.sum(lotteries[2,:,:] @ ssb_utility * lotteries[0,:,:], axis=1) > 0).astype(int)\n",
    "    num_intr = np.sum(comp01 + comp12 + comp20 == 0) + np.sum(comp01 + comp12 + comp20 == 3)\n",
    "    print(f\"For m = {m} and full support were {num_intr} of {num_rep} triples intransitive.\")"
   ]
  },
  {
   "cell_type": "code",
   "execution_count": 12,
   "metadata": {},
   "outputs": [
    {
     "name": "stdout",
     "output_type": "stream",
     "text": [
      "For m = 10 and support of 2 were 725 of 100000 triples intransitive.\n",
      "For m = 10 and support of 3 were 1003 of 100000 triples intransitive.\n",
      "For m = 10 and support of 5 were 823 of 100000 triples intransitive.\n",
      "For m = 10 and support of 7 were 623 of 100000 triples intransitive.\n",
      "\n",
      "For m = 20 and support of 2 were 939 of 100000 triples intransitive.\n",
      "For m = 20 and support of 3 were 1322 of 100000 triples intransitive.\n",
      "For m = 20 and support of 5 were 1283 of 100000 triples intransitive.\n",
      "For m = 20 and support of 7 were 1014 of 100000 triples intransitive.\n",
      "For m = 20 and support of 10 were 761 of 100000 triples intransitive.\n",
      "\n",
      "For m = 30 and support of 2 were 982 of 100000 triples intransitive.\n",
      "For m = 30 and support of 3 were 1490 of 100000 triples intransitive.\n",
      "For m = 30 and support of 5 were 1394 of 100000 triples intransitive.\n",
      "For m = 30 and support of 7 were 1194 of 100000 triples intransitive.\n",
      "For m = 30 and support of 10 were 869 of 100000 triples intransitive.\n",
      "For m = 30 and support of 20 were 424 of 100000 triples intransitive.\n",
      "\n",
      "For m = 50 and support of 2 were 1129 of 100000 triples intransitive.\n",
      "For m = 50 and support of 3 were 1600 of 100000 triples intransitive.\n",
      "For m = 50 and support of 5 were 1555 of 100000 triples intransitive.\n",
      "For m = 50 and support of 7 were 1311 of 100000 triples intransitive.\n",
      "For m = 50 and support of 10 were 1001 of 100000 triples intransitive.\n",
      "For m = 50 and support of 20 were 528 of 100000 triples intransitive.\n",
      "For m = 50 and support of 30 were 288 of 100000 triples intransitive.\n",
      "\n",
      "For m = 70 and support of 2 were 1079 of 100000 triples intransitive.\n",
      "For m = 70 and support of 3 were 1584 of 100000 triples intransitive.\n",
      "For m = 70 and support of 5 were 1584 of 100000 triples intransitive.\n",
      "For m = 70 and support of 7 were 1266 of 100000 triples intransitive.\n",
      "For m = 70 and support of 10 were 1069 of 100000 triples intransitive.\n",
      "For m = 70 and support of 20 were 613 of 100000 triples intransitive.\n",
      "For m = 70 and support of 30 were 385 of 100000 triples intransitive.\n",
      "\n",
      "For m = 100 and support of 2 were 1086 of 100000 triples intransitive.\n",
      "For m = 100 and support of 3 were 1655 of 100000 triples intransitive.\n",
      "For m = 100 and support of 5 were 1573 of 100000 triples intransitive.\n",
      "For m = 100 and support of 7 were 1373 of 100000 triples intransitive.\n",
      "For m = 100 and support of 10 were 1063 of 100000 triples intransitive.\n",
      "For m = 100 and support of 20 were 612 of 100000 triples intransitive.\n",
      "For m = 100 and support of 30 were 455 of 100000 triples intransitive.\n",
      "\n"
     ]
    }
   ],
   "source": [
    "num_rep = 100000\n",
    "rng = np.random.default_rng()\n",
    "\n",
    "for m in [10, 20, 30, 50, 70, 100]:\n",
    "    ssb_utility = np.triu(np.ones((m, m))) - np.tril(np.ones((m, m)))\n",
    "    for supp in [2, 3, 5, 7, 10, 20, 30]:\n",
    "        if supp >= m:\n",
    "            break\n",
    "        alpha = np.ones(supp)\n",
    "        lott_comps = rng.dirichlet(alpha, (3, num_rep))\n",
    "        mask = np.tile(np.array([1]*supp + [0]*(m - supp)), (3, num_rep, 1))\n",
    "        mask = rng.permuted(mask, axis=2)\n",
    "        lotteries = np.zeros((3, num_rep, m))\n",
    "        lotteries[mask.astype(bool)] = lott_comps.flatten()\n",
    "        comp01 = (np.sum(lotteries[0,:,:] @ ssb_utility * lotteries[1,:,:], axis=1) > 0).astype(int)\n",
    "        comp12 = (np.sum(lotteries[1,:,:] @ ssb_utility * lotteries[2,:,:], axis=1) > 0).astype(int)\n",
    "        comp20 = (np.sum(lotteries[2,:,:] @ ssb_utility * lotteries[0,:,:], axis=1) > 0).astype(int)\n",
    "        num_intr = np.sum(comp01 + comp12 + comp20 == 0) + np.sum(comp01 + comp12 + comp20 == 3)\n",
    "        print(f\"For m = {m} and support of {supp} were {num_intr} of {num_rep} triples intransitive.\")\n",
    "    print()"
   ]
  }
 ],
 "metadata": {
  "kernelspec": {
   "display_name": "py312-MA",
   "language": "python",
   "name": "py312-ma"
  },
  "language_info": {
   "codemirror_mode": {
    "name": "ipython",
    "version": 3
   },
   "file_extension": ".py",
   "mimetype": "text/x-python",
   "name": "python",
   "nbconvert_exporter": "python",
   "pygments_lexer": "ipython3",
   "version": "3.12.4"
  }
 },
 "nbformat": 4,
 "nbformat_minor": 2
}
