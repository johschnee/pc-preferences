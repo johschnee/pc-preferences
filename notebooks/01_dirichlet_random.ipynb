{
 "cells": [
  {
   "cell_type": "code",
   "execution_count": 1,
   "metadata": {},
   "outputs": [],
   "source": [
    "%load_ext autoreload\n",
    "%autoreload 2"
   ]
  },
  {
   "cell_type": "code",
   "execution_count": 5,
   "metadata": {},
   "outputs": [],
   "source": [
    "import numpy as np"
   ]
  },
  {
   "cell_type": "code",
   "execution_count": 3,
   "metadata": {},
   "outputs": [],
   "source": [
    "#settings\n",
    "universe_size = 5  #number of elements in the universe, i.e., number of options"
   ]
  },
  {
   "cell_type": "code",
   "execution_count": 15,
   "metadata": {},
   "outputs": [],
   "source": [
    "def pc(p, q):\n",
    "    assert len(p) == len(q)\n",
    "    prob_p_better = 0.0\n",
    "    prob_q_better = 0.0\n",
    "    for x in range(len(p)):\n",
    "        for y in range(x+1, len(p)):\n",
    "            prob_p_better += p[x]*q[y]\n",
    "            prob_q_better += q[x]*p[y]\n",
    "    return prob_p_better >= prob_q_better"
   ]
  },
  {
   "cell_type": "code",
   "execution_count": 47,
   "metadata": {},
   "outputs": [
    {
     "data": {
      "text/plain": [
       "[array([0.11056582, 0.05923451, 0.04000108, 0.08817288, 0.70202571]),\n",
       " array([0.0215309 , 0.67122109, 0.22405266, 0.03401677, 0.04917858]),\n",
       " array([0.54620324, 0.18521461, 0.06676384, 0.08145961, 0.12035869])]"
      ]
     },
     "execution_count": 47,
     "metadata": {},
     "output_type": "execute_result"
    }
   ],
   "source": [
    "alpha = np.ones(universe_size)\n",
    "rng = np.random.default_rng()\n",
    "lotteries = [rng.dirichlet(alpha) for i in range(3)]\n",
    "lotteries"
   ]
  },
  {
   "cell_type": "code",
   "execution_count": 59,
   "metadata": {},
   "outputs": [],
   "source": [
    "def try_transitivity(universe_size, num_tries):\n",
    "    alpha = np.ones(universe_size)\n",
    "    rng = np.random.default_rng()\n",
    "    intrans = 0\n",
    "    for _ in range(num_tries):\n",
    "        lotteries = [rng.dirichlet(alpha) for _ in range(3)]\n",
    "        if((pc(lotteries[0], lotteries[1]) and pc(lotteries[1], lotteries[2]) and pc(lotteries[2], lotteries[0])) \n",
    "        or (pc(lotteries[1], lotteries[0]) and pc(lotteries[2], lotteries[1]) and pc(lotteries[0], lotteries[2]))):\n",
    "            intrans += 1\n",
    "    print(intrans, \"of\", num_tries, \"triplets were intransitive (universe_size =\", universe_size, \").\")"
   ]
  },
  {
   "cell_type": "code",
   "execution_count": 58,
   "metadata": {},
   "outputs": [
    {
     "name": "stdout",
     "output_type": "stream",
     "text": [
      "13 of 10000  were intransitive (universe_size = 4 ).\n",
      "22 of 10000  were intransitive (universe_size = 5 ).\n",
      "38 of 10000  were intransitive (universe_size = 6 ).\n",
      "32 of 10000  were intransitive (universe_size = 7 ).\n",
      "42 of 10000  were intransitive (universe_size = 8 ).\n",
      "36 of 10000  were intransitive (universe_size = 9 ).\n",
      "41 of 10000  were intransitive (universe_size = 10 ).\n",
      "38 of 10000  were intransitive (universe_size = 11 ).\n",
      "33 of 10000  were intransitive (universe_size = 12 ).\n",
      "22 of 10000  were intransitive (universe_size = 13 ).\n",
      "33 of 10000  were intransitive (universe_size = 14 ).\n",
      "32 of 10000  were intransitive (universe_size = 15 ).\n",
      "28 of 10000  were intransitive (universe_size = 16 ).\n",
      "32 of 10000  were intransitive (universe_size = 17 ).\n",
      "26 of 10000  were intransitive (universe_size = 18 ).\n",
      "25 of 10000  were intransitive (universe_size = 19 ).\n",
      "23 of 10000  were intransitive (universe_size = 20 ).\n",
      "17 of 10000  were intransitive (universe_size = 21 ).\n",
      "33 of 10000  were intransitive (universe_size = 22 ).\n",
      "21 of 10000  were intransitive (universe_size = 23 ).\n",
      "29 of 10000  were intransitive (universe_size = 24 ).\n",
      "23 of 10000  were intransitive (universe_size = 25 ).\n",
      "10 of 10000  were intransitive (universe_size = 26 ).\n",
      "32 of 10000  were intransitive (universe_size = 27 ).\n",
      "20 of 10000  were intransitive (universe_size = 28 ).\n",
      "21 of 10000  were intransitive (universe_size = 29 ).\n",
      "24 of 10000  were intransitive (universe_size = 30 ).\n"
     ]
    }
   ],
   "source": [
    "for i in range(4, 31):\n",
    "    try_transitivity(i, 10000)"
   ]
  },
  {
   "cell_type": "code",
   "execution_count": 48,
   "metadata": {},
   "outputs": [
    {
     "data": {
      "text/plain": [
       "(np.False_, np.False_, np.True_)"
      ]
     },
     "execution_count": 48,
     "metadata": {},
     "output_type": "execute_result"
    }
   ],
   "source": [
    "pc(lotteries[0], lotteries[1]), pc(lotteries[1], lotteries[2]), pc(lotteries[2], lotteries[0])"
   ]
  },
  {
   "cell_type": "code",
   "execution_count": 18,
   "metadata": {},
   "outputs": [
    {
     "data": {
      "text/plain": [
       "(np.False_, np.False_, np.True_)"
      ]
     },
     "execution_count": 18,
     "metadata": {},
     "output_type": "execute_result"
    }
   ],
   "source": [
    "pc(lotteries[1], lotteries[0]), pc(lotteries[2], lotteries[1]), pc(lotteries[0], lotteries[2])"
   ]
  }
 ],
 "metadata": {
  "kernelspec": {
   "display_name": "py312-MA",
   "language": "python",
   "name": "py312-ma"
  },
  "language_info": {
   "codemirror_mode": {
    "name": "ipython",
    "version": 3
   },
   "file_extension": ".py",
   "mimetype": "text/x-python",
   "name": "python",
   "nbconvert_exporter": "python",
   "pygments_lexer": "ipython3",
   "version": "3.12.4"
  }
 },
 "nbformat": 4,
 "nbformat_minor": 2
}
