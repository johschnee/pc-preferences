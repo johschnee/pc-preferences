{
 "cells": [
  {
   "cell_type": "code",
   "execution_count": 1,
   "metadata": {},
   "outputs": [],
   "source": [
    "import sys\n",
    "\n",
    "import numpy as np\n",
    "from scipy import integrate\n",
    "from struct import pack, unpack\n",
    "\n",
    "sys.path.insert(0, \"../\")\n",
    "from paths import FIG_DIR, DATA_DIR"
   ]
  },
  {
   "cell_type": "markdown",
   "metadata": {},
   "source": [
    "# Numerical integration"
   ]
  },
  {
   "cell_type": "code",
   "execution_count": 2,
   "metadata": {},
   "outputs": [],
   "source": [
    "def compute_lcs_volume(p, ssb):\n",
    "    normal = ssb @ p\n",
    "    if len(np.unique(normal)) < len(normal):\n",
    "        return 1  # upper bound\n",
    "    vertices_lcs = list(np.where(normal < 0)[0])\n",
    "    normal_short = normal[vertices_lcs]\n",
    "    with np.errstate(divide='ignore'):\n",
    "        factors = normal_short[:, None]/(normal_short[:, None] - normal[None, :])\n",
    "        factors = np.nan_to_num(factors, copy=False, nan=1.0, posinf=1.0, neginf=1.0)\n",
    "    summands = np.prod(factors, axis=1)\n",
    "    return np.sum(summands)"
   ]
  },
  {
   "cell_type": "code",
   "execution_count": 3,
   "metadata": {},
   "outputs": [
    {
     "name": "stdout",
     "output_type": "stream",
     "text": [
      "0.3328977573892963 8.901932002162174e-08 0.0013067278321111653 2.670579600648652e-07\n",
      "0.31733609039911825 8.939711291365652e-08 0.04799172880264524 2.6819133874096955e-07\n",
      "0.2928792895320537 8.938956645260067e-08 0.12136213140383878 2.68168699357802e-07\n"
     ]
    }
   ],
   "source": [
    "def f4(z, y, x, ssb_matrix):\n",
    "    p = np.array([x, y, z, 1-x-y-z])\n",
    "    return compute_lcs_volume(p, ssb_matrix)**2\n",
    "\n",
    "m = 4  #number of alternative\n",
    "# transitive preferences\n",
    "ssb_tr = np.triu(np.ones((m, m))) - np.tril(np.ones((m, m)))\n",
    "# Condorcet winner and 3 cycle\n",
    "ssb_intr1 = np.array([[0, 1, 1, 1], [-1, 0, 1, -1], [-1, -1, 0, 1], [-1, 1, -1, 0]])\n",
    "# 4 cycle\n",
    "ssb_intr2 = np.array([[0, 1, 1, -1], [-1, 0, 1, 1], [-1, -1, 0, 1], [1, -1, -1, 0]])\n",
    "\n",
    "\n",
    "val, err = integrate.tplquad(f4, 0, 1, 0, lambda x: 1-x, 0, lambda x, y: 1-x-y, args=(ssb_tr,))\n",
    "print(6*val, 6*err, 1-18*val, 18*err)\n",
    "val, err = integrate.tplquad(f4, 0, 1, 0, lambda x: 1-x, 0, lambda x, y: 1-x-y, args=(ssb_intr1,))\n",
    "print(6*val, 6*err, 1-18*val, 18*err)\n",
    "val, err = integrate.tplquad(f4, 0, 1, 0, lambda x: 1-x, 0, lambda x, y: 1-x-y, args=(ssb_intr2,))\n",
    "print(6*val, 6*err, 1-18*val, 18*err)"
   ]
  },
  {
   "cell_type": "markdown",
   "metadata": {},
   "source": [
    "# Monte-Carlo integration"
   ]
  },
  {
   "cell_type": "code",
   "execution_count": 2,
   "metadata": {},
   "outputs": [],
   "source": [
    "def compute_lcs_volume_vectorized(p_matr, ssb):\n",
    "    normal = - p_matr @ ssb\n",
    "    normal_short = np.where(normal < 0, normal, 0)\n",
    "    with np.errstate(divide='ignore'):\n",
    "        factors = normal_short[:, :, None] / (normal_short[:, :, None] - normal[:, None, :])\n",
    "        factors = np.nan_to_num(factors, copy=False, nan=1.0, posinf=1.0, neginf=1.0)\n",
    "    summands = np.prod(factors, axis=2)\n",
    "    return np.sum(summands, axis=1)"
   ]
  },
  {
   "cell_type": "code",
   "execution_count": 7,
   "metadata": {},
   "outputs": [
    {
     "name": "stdout",
     "output_type": "stream",
     "text": [
      "500\n",
      "0.3329002673995511 9.412509687202058e-05\n"
     ]
    }
   ],
   "source": [
    "num_samples = 7.95 * 10**10\n",
    "m = 4\n",
    "rng = np.random.default_rng(2025)\n",
    "ssb_tr = np.triu(np.ones((m, m))) - np.tril(np.ones((m, m)))\n",
    "alpha = np.ones(m)\n",
    "batch_size = 10**7 #2.5sec for 10**7 samples\n",
    "\n",
    "continued = True\n",
    "if continued:\n",
    "    with open(DATA_DIR / '5_2_MC_transitive.dat', 'rb') as file:\n",
    "        packed = file.read()\n",
    "        batch_results = list(unpack('d' * (len(packed) // 8), packed)) # 8 bytes per double\n",
    "        print(len(batch_results))\n",
    "else:\n",
    "    batch_results = []\n",
    "\n",
    "for i in range(len(batch_results)*batch_size, int(num_samples), batch_size):\n",
    "    p_matr = rng.dirichlet(alpha, batch_size)\n",
    "    samples = compute_lcs_volume_vectorized(p_matr, ssb_tr)\n",
    "    batch_results.append((samples**2).mean())\n",
    "\n",
    "with open(DATA_DIR / '5_2_MC_transitive.dat', 'wb') as file:\n",
    "    file.write(pack('d' * len(batch_results) , *batch_results))\n",
    "\n",
    "print(np.mean(batch_results), np.std(batch_results))"
   ]
  },
  {
   "cell_type": "code",
   "execution_count": 9,
   "metadata": {},
   "outputs": [
    {
     "data": {
      "text/plain": [
       "(0.3329002673995511, 7950, 0.0012991978013467964)"
      ]
     },
     "execution_count": 9,
     "metadata": {},
     "output_type": "execute_result"
    }
   ],
   "source": [
    "np.mean(batch_results), len(batch_results), 1-3* np.mean(batch_results)"
   ]
  },
  {
   "cell_type": "code",
   "execution_count": 3,
   "metadata": {},
   "outputs": [
    {
     "name": "stdout",
     "output_type": "stream",
     "text": [
      "0.3173383865156588 9.104764179802117e-05\n"
     ]
    },
    {
     "data": {
      "text/plain": [
       "(None, 7950, 0.047984840453023536)"
      ]
     },
     "execution_count": 3,
     "metadata": {},
     "output_type": "execute_result"
    }
   ],
   "source": [
    "num_samples = 7.95 * 10**10\n",
    "m = 4\n",
    "rng = np.random.default_rng(2026)\n",
    "# 3 cycle not preferred to the last option\n",
    "ssb_intr1 = np.array([[0, 1, 1, 1], [-1, 0, 1, -1], [-1, -1, 0, 1], [-1, 1, -1, 0]])\n",
    "alpha = np.ones(m)\n",
    "batch_size = 10**7 #2.5sec for 10**7 samples\n",
    "\n",
    "continued = False\n",
    "if continued:\n",
    "    with open(DATA_DIR / '5_2_MC_intr1.dat', 'rb') as file:\n",
    "        packed = file.read()\n",
    "        batch_results = list(unpack('d' * (len(packed) // 8), packed)) # 8 bytes per double\n",
    "else:\n",
    "    batch_results = []\n",
    "\n",
    "for i in range(len(batch_results)*batch_size, int(num_samples), batch_size):\n",
    "    p_matr = rng.dirichlet(alpha, batch_size)\n",
    "    samples = compute_lcs_volume_vectorized(p_matr, ssb_intr1)\n",
    "    batch_results.append((samples**2).mean())\n",
    "\n",
    "with open(DATA_DIR / '5_2_MC_intr1.dat', 'wb') as file:\n",
    "    file.write(pack('d' * len(batch_results) , *batch_results))\n",
    "\n",
    "print(np.mean(batch_results), np.std(batch_results)), len(batch_results), 1-3* np.mean(batch_results)"
   ]
  },
  {
   "cell_type": "code",
   "execution_count": 6,
   "metadata": {},
   "outputs": [
    {
     "name": "stdout",
     "output_type": "stream",
     "text": [
      "0.3173383865156588 9.104764179802117e-05 7950 0.047984840453023536\n"
     ]
    }
   ],
   "source": [
    "print(np.mean(batch_results), np.std(batch_results), len(batch_results), 1-3* np.mean(batch_results))"
   ]
  },
  {
   "cell_type": "code",
   "execution_count": 3,
   "metadata": {},
   "outputs": [
    {
     "name": "stdout",
     "output_type": "stream",
     "text": [
      "0.29287948245662515 6.639823249458161e-05 7950 0.1213615526301246\n"
     ]
    }
   ],
   "source": [
    "num_samples = 7.95 * 10**10\n",
    "m = 4\n",
    "rng = np.random.default_rng(2027)\n",
    "# 4 cycle\n",
    "ssb_intr2 = np.array([[0, 1, 1, -1], [-1, 0, 1, 1], [-1, -1, 0, 1], [1, -1, -1, 0]])\n",
    "alpha = np.ones(m)\n",
    "batch_size = 10**7 #2.5sec for 10**7 samples\n",
    "\n",
    "continued = False\n",
    "if continued:\n",
    "    with open(DATA_DIR / '5_2_MC_intr2.dat', 'rb') as file:\n",
    "        packed = file.read()\n",
    "        batch_results = list(unpack('d' * (len(packed) // 8), packed)) # 8 bytes per double\n",
    "else:\n",
    "    batch_results = []\n",
    "\n",
    "for i in range(len(batch_results)*batch_size, int(num_samples), batch_size):\n",
    "    p_matr = rng.dirichlet(alpha, batch_size)\n",
    "    samples = compute_lcs_volume_vectorized(p_matr, ssb_intr2)\n",
    "    batch_results.append((samples**2).mean())\n",
    "\n",
    "with open(DATA_DIR / '5_2_MC_intr2.dat', 'wb') as file:\n",
    "    file.write(pack('d' * len(batch_results) , *batch_results))\n",
    "\n",
    "print(np.mean(batch_results), np.std(batch_results), len(batch_results), 1-3*np.mean(batch_results))"
   ]
  },
  {
   "cell_type": "markdown",
   "metadata": {},
   "source": [
    "# Simulation"
   ]
  },
  {
   "cell_type": "code",
   "execution_count": 2,
   "metadata": {},
   "outputs": [
    {
     "name": "stdout",
     "output_type": "stream",
     "text": [
      "0.0013068658490566038 1.1407811612598486e-05 2650\n"
     ]
    }
   ],
   "source": [
    "num_samples = 2.65 * 10**10 #1 sample corresponds to 3 lotteries, a triple!\n",
    "m = 4\n",
    "rng = np.random.default_rng(2027)\n",
    "ssb_tr = np.triu(np.ones((m, m))) - np.tril(np.ones((m, m)))\n",
    "alpha = np.ones(m)\n",
    "batch_size = 10**7 #2.0sec for 10**7 samples\n",
    "\n",
    "continued = False\n",
    "if continued:\n",
    "    with open(DATA_DIR / '5_2_sim_transitive.dat', 'rb') as file:\n",
    "        packed = file.read()\n",
    "        batch_results = list(unpack('d' * (len(packed) // 8), packed)) # 8 bytes per double\n",
    "else:\n",
    "    batch_results = []\n",
    "\n",
    "for i in range(len(batch_results)*batch_size, int(num_samples), batch_size):\n",
    "    lotteries = rng.dirichlet(alpha, (3, batch_size))\n",
    "    comp01 = (np.sum(lotteries[0,:,:] @ ssb_tr * lotteries[1,:,:], axis=1) > 0).astype(int)\n",
    "    comp12 = (np.sum(lotteries[1,:,:] @ ssb_tr * lotteries[2,:,:], axis=1) > 0).astype(int)\n",
    "    comp20 = (np.sum(lotteries[2,:,:] @ ssb_tr * lotteries[0,:,:], axis=1) > 0).astype(int)\n",
    "    num_intr = np.sum(comp01 + comp12 + comp20 == 0) + np.sum(comp01 + comp12 + comp20 == 3)\n",
    "    batch_results.append(num_intr/batch_size)\n",
    "\n",
    "with open(DATA_DIR / '5_2_sim_transitive.dat', 'wb') as file:\n",
    "    file.write(pack('d' * len(batch_results) , *batch_results))\n",
    "\n",
    "print(np.mean(batch_results), np.std(batch_results), len(batch_results))"
   ]
  },
  {
   "cell_type": "code",
   "execution_count": 3,
   "metadata": {},
   "outputs": [
    {
     "name": "stdout",
     "output_type": "stream",
     "text": [
      "0.04799177486792453 6.815374696216313e-05 2650\n"
     ]
    }
   ],
   "source": [
    "num_samples = 2.65 * 10**10 #1 sample corresponds to 3 lotteries, a triple!\n",
    "m = 4\n",
    "rng = np.random.default_rng(2025)\n",
    "# 3 cycle not preferred to the last option\n",
    "ssb_intr1 = np.array([[0, 1, 1, 1], [-1, 0, 1, -1], [-1, -1, 0, 1], [-1, 1, -1, 0]])\n",
    "alpha = np.ones(m)\n",
    "batch_size = 10**7 #2.5sec for 10**7 samples\n",
    "\n",
    "continued = False\n",
    "if continued:\n",
    "    with open(DATA_DIR / '5_2_sim_intr1.dat', 'rb') as file:\n",
    "        packed = file.read()\n",
    "        batch_results = list(unpack('d' * (len(packed) // 8), packed)) # 8 bytes per double\n",
    "else:\n",
    "    batch_results = []\n",
    "\n",
    "for i in range(len(batch_results)*batch_size, int(num_samples), batch_size):\n",
    "    lotteries = rng.dirichlet(alpha, (3, batch_size))\n",
    "    comp01 = (np.sum(lotteries[0,:,:] @ ssb_intr1 * lotteries[1,:,:], axis=1) > 0).astype(int)\n",
    "    comp12 = (np.sum(lotteries[1,:,:] @ ssb_intr1 * lotteries[2,:,:], axis=1) > 0).astype(int)\n",
    "    comp20 = (np.sum(lotteries[2,:,:] @ ssb_intr1 * lotteries[0,:,:], axis=1) > 0).astype(int)\n",
    "    num_intr = np.sum(comp01 + comp12 + comp20 == 0) + np.sum(comp01 + comp12 + comp20 == 3)\n",
    "    batch_results.append(num_intr/batch_size)\n",
    "\n",
    "with open(DATA_DIR / '5_2_sim_intr1.dat', 'wb') as file:\n",
    "    file.write(pack('d' * len(batch_results) , *batch_results))\n",
    "\n",
    "print(np.mean(batch_results), np.std(batch_results), len(batch_results))"
   ]
  },
  {
   "cell_type": "code",
   "execution_count": 4,
   "metadata": {},
   "outputs": [
    {
     "name": "stdout",
     "output_type": "stream",
     "text": [
      "0.12136223762264152 0.00010404437409472577 2650\n"
     ]
    }
   ],
   "source": [
    "num_samples = 2.65 * 10**10 #1 sample corresponds to 3 lotteries, a triple!\n",
    "m = 4\n",
    "rng = np.random.default_rng(2025)\n",
    "# 4 cycle\n",
    "ssb_intr2 = np.array([[0, 1, 1, -1], [-1, 0, 1, 1], [-1, -1, 0, 1], [1, -1, -1, 0]])\n",
    "alpha = np.ones(m)\n",
    "batch_size = 10**7 #2.5sec for 10**7 samples\n",
    "\n",
    "continued = False\n",
    "if continued:\n",
    "    with open(DATA_DIR / '5_2_sim_intr2.dat', 'rb') as file:\n",
    "        packed = file.read()\n",
    "        batch_results = list(unpack('d' * (len(packed) // 8), packed)) # 8 bytes per double\n",
    "else:\n",
    "    batch_results = []\n",
    "\n",
    "for i in range(len(batch_results)*batch_size, int(num_samples), batch_size):\n",
    "    lotteries = rng.dirichlet(alpha, (3, batch_size))\n",
    "    comp01 = (np.sum(lotteries[0,:,:] @ ssb_intr2 * lotteries[1,:,:], axis=1) > 0).astype(int)\n",
    "    comp12 = (np.sum(lotteries[1,:,:] @ ssb_intr2 * lotteries[2,:,:], axis=1) > 0).astype(int)\n",
    "    comp20 = (np.sum(lotteries[2,:,:] @ ssb_intr2 * lotteries[0,:,:], axis=1) > 0).astype(int)\n",
    "    num_intr = np.sum(comp01 + comp12 + comp20 == 0) + np.sum(comp01 + comp12 + comp20 == 3)\n",
    "    batch_results.append(num_intr/batch_size)\n",
    "\n",
    "with open(DATA_DIR / '5_2_sim_intr2.dat', 'wb') as file:\n",
    "    file.write(pack('d' * len(batch_results) , *batch_results))\n",
    "\n",
    "print(np.mean(batch_results), np.std(batch_results), len(batch_results))"
   ]
  }
 ],
 "metadata": {
  "kernelspec": {
   "display_name": "py312-MA",
   "language": "python",
   "name": "py312-ma"
  },
  "language_info": {
   "codemirror_mode": {
    "name": "ipython",
    "version": 3
   },
   "file_extension": ".py",
   "mimetype": "text/x-python",
   "name": "python",
   "nbconvert_exporter": "python",
   "pygments_lexer": "ipython3",
   "version": "3.12.4"
  }
 },
 "nbformat": 4,
 "nbformat_minor": 2
}
