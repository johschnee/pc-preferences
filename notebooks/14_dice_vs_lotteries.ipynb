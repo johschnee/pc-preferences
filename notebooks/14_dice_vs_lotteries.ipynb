{
 "cells": [
  {
   "cell_type": "code",
   "execution_count": 1,
   "metadata": {},
   "outputs": [],
   "source": [
    "import sys\n",
    "\n",
    "import numpy as np\n",
    "import pandas as pd\n",
    "import matplotlib.pyplot as plt\n",
    "import seaborn as sns\n",
    "from struct import pack, unpack\n",
    "\n",
    "sys.path.insert(0, \"../\")\n",
    "from paths import FIG_DIR, DATA_DIR"
   ]
  },
  {
   "cell_type": "markdown",
   "metadata": {},
   "source": [
    "# Generalization: Lotteries as unfair dice"
   ]
  },
  {
   "cell_type": "code",
   "execution_count": 9,
   "metadata": {},
   "outputs": [
    {
     "name": "stdout",
     "output_type": "stream",
     "text": [
      "(10000, 4)\n"
     ]
    },
    {
     "data": {
      "text/plain": [
       "(array([0.26169892, 0.41284902, 0.26973048, 0.56843019, 0.48630528,\n",
       "        0.32119922, 0.2680977 , 0.27044664, 0.73037721, 0.1083769 ]),\n",
       " array([0.20766893, 0.18658742, 0.28746529, 0.22029097, 0.15938863,\n",
       "        0.35041809, 0.28016707, 0.26870665, 0.18609924, 0.10253978]),\n",
       " array([0.53063215, 0.40056357, 0.44280423, 0.21127884, 0.35430609,\n",
       "        0.32838269, 0.45173523, 0.46084671, 0.08352355, 0.78908333]))"
      ]
     },
     "execution_count": 9,
     "metadata": {},
     "output_type": "execute_result"
    }
   ],
   "source": [
    "num_samples = 10000\n",
    "\n",
    "m = 4\n",
    "rng = np.random.default_rng(2025 - m)\n",
    "\n",
    "upper_tri = np.triu(np.ones((m, m)), 1)\n",
    "lower_tri = np.tril(np.ones((m, m)), -1)\n",
    "alpha = np.ones(m)\n",
    "\n",
    "p_matr = rng.dirichlet(alpha, (num_samples, 2))\n",
    "print(p_matr[:, 1, :].shape)\n",
    "winner_prob = np.sum((p_matr[:, 0, :] @ upper_tri) * p_matr[:, 1, :], axis=1) # prob that first lottery better\n",
    "eq_prob = np.sum(p_matr[:, 0, :] * p_matr[:, 1, :], axis=1)\n",
    "loser_prob = np.sum((p_matr[:, 0, :] @ lower_tri) * p_matr[:, 1, :], axis=1) # prob that first lottery worse\n",
    "\n",
    "# with open(DATA_DIR / 'win_{:03d}.dat'.format(m), 'wb') as file:\n",
    "#     file.write(pack('d' * len(samples) , *samples))\n",
    "\n",
    "assert np.allclose(winner_prob + eq_prob + loser_prob, 1)\n",
    "winner_prob[:10], eq_prob[:10], loser_prob[:10]"
   ]
  },
  {
   "cell_type": "code",
   "execution_count": 12,
   "metadata": {},
   "outputs": [
    {
     "data": {
      "text/plain": [
       "(array([8, 4, 5, 8, 6, 6, 3, 8, 7, 6]), array([4, 8, 5, 3, 8, 3, 5, 5, 3, 4]))"
      ]
     },
     "execution_count": 12,
     "metadata": {},
     "output_type": "execute_result"
    }
   ],
   "source": [
    "rng = np.random.default_rng(2020 - m)\n",
    "s = 4\n",
    "\n",
    "dice = rng.choice(m, (num_samples, 2, s))\n",
    "n_k = np.sum(dice[:, 0, None, :] > dice[:, 1, :, None], axis=(1, 2))\n",
    "e_k = np.sum(dice[:, 0, None, :] == dice[:, 1, :, None], axis=(1, 2))\n",
    "\n",
    "n_k[:10], e_k[:10]"
   ]
  },
  {
   "cell_type": "code",
   "execution_count": 13,
   "metadata": {},
   "outputs": [
    {
     "data": {
      "text/html": [
       "<div>\n",
       "<style scoped>\n",
       "    .dataframe tbody tr th:only-of-type {\n",
       "        vertical-align: middle;\n",
       "    }\n",
       "\n",
       "    .dataframe tbody tr th {\n",
       "        vertical-align: top;\n",
       "    }\n",
       "\n",
       "    .dataframe thead th {\n",
       "        text-align: right;\n",
       "    }\n",
       "</style>\n",
       "<table border=\"1\" class=\"dataframe\">\n",
       "  <thead>\n",
       "    <tr style=\"text-align: right;\">\n",
       "      <th></th>\n",
       "      <th>winner_prob</th>\n",
       "      <th>eq_prob</th>\n",
       "      <th>n_k_norm</th>\n",
       "      <th>e_k_norm</th>\n",
       "      <th>n_k</th>\n",
       "      <th>e_k</th>\n",
       "    </tr>\n",
       "  </thead>\n",
       "  <tbody>\n",
       "    <tr>\n",
       "      <th>0</th>\n",
       "      <td>0.261699</td>\n",
       "      <td>0.207669</td>\n",
       "      <td>0.5000</td>\n",
       "      <td>0.2500</td>\n",
       "      <td>8</td>\n",
       "      <td>4</td>\n",
       "    </tr>\n",
       "    <tr>\n",
       "      <th>1</th>\n",
       "      <td>0.412849</td>\n",
       "      <td>0.186587</td>\n",
       "      <td>0.2500</td>\n",
       "      <td>0.5000</td>\n",
       "      <td>4</td>\n",
       "      <td>8</td>\n",
       "    </tr>\n",
       "    <tr>\n",
       "      <th>2</th>\n",
       "      <td>0.269730</td>\n",
       "      <td>0.287465</td>\n",
       "      <td>0.3125</td>\n",
       "      <td>0.3125</td>\n",
       "      <td>5</td>\n",
       "      <td>5</td>\n",
       "    </tr>\n",
       "    <tr>\n",
       "      <th>3</th>\n",
       "      <td>0.568430</td>\n",
       "      <td>0.220291</td>\n",
       "      <td>0.5000</td>\n",
       "      <td>0.1875</td>\n",
       "      <td>8</td>\n",
       "      <td>3</td>\n",
       "    </tr>\n",
       "    <tr>\n",
       "      <th>4</th>\n",
       "      <td>0.486305</td>\n",
       "      <td>0.159389</td>\n",
       "      <td>0.3750</td>\n",
       "      <td>0.5000</td>\n",
       "      <td>6</td>\n",
       "      <td>8</td>\n",
       "    </tr>\n",
       "    <tr>\n",
       "      <th>...</th>\n",
       "      <td>...</td>\n",
       "      <td>...</td>\n",
       "      <td>...</td>\n",
       "      <td>...</td>\n",
       "      <td>...</td>\n",
       "      <td>...</td>\n",
       "    </tr>\n",
       "    <tr>\n",
       "      <th>9995</th>\n",
       "      <td>0.376356</td>\n",
       "      <td>0.163799</td>\n",
       "      <td>0.0625</td>\n",
       "      <td>0.2500</td>\n",
       "      <td>1</td>\n",
       "      <td>4</td>\n",
       "    </tr>\n",
       "    <tr>\n",
       "      <th>9996</th>\n",
       "      <td>0.415879</td>\n",
       "      <td>0.157555</td>\n",
       "      <td>0.7500</td>\n",
       "      <td>0.1875</td>\n",
       "      <td>12</td>\n",
       "      <td>3</td>\n",
       "    </tr>\n",
       "    <tr>\n",
       "      <th>9997</th>\n",
       "      <td>0.552217</td>\n",
       "      <td>0.237044</td>\n",
       "      <td>0.7500</td>\n",
       "      <td>0.1875</td>\n",
       "      <td>12</td>\n",
       "      <td>3</td>\n",
       "    </tr>\n",
       "    <tr>\n",
       "      <th>9998</th>\n",
       "      <td>0.168604</td>\n",
       "      <td>0.326963</td>\n",
       "      <td>0.2500</td>\n",
       "      <td>0.7500</td>\n",
       "      <td>4</td>\n",
       "      <td>12</td>\n",
       "    </tr>\n",
       "    <tr>\n",
       "      <th>9999</th>\n",
       "      <td>0.198986</td>\n",
       "      <td>0.281615</td>\n",
       "      <td>0.3125</td>\n",
       "      <td>0.3125</td>\n",
       "      <td>5</td>\n",
       "      <td>5</td>\n",
       "    </tr>\n",
       "  </tbody>\n",
       "</table>\n",
       "<p>10000 rows × 6 columns</p>\n",
       "</div>"
      ],
      "text/plain": [
       "      winner_prob   eq_prob  n_k_norm  e_k_norm  n_k  e_k\n",
       "0        0.261699  0.207669    0.5000    0.2500    8    4\n",
       "1        0.412849  0.186587    0.2500    0.5000    4    8\n",
       "2        0.269730  0.287465    0.3125    0.3125    5    5\n",
       "3        0.568430  0.220291    0.5000    0.1875    8    3\n",
       "4        0.486305  0.159389    0.3750    0.5000    6    8\n",
       "...           ...       ...       ...       ...  ...  ...\n",
       "9995     0.376356  0.163799    0.0625    0.2500    1    4\n",
       "9996     0.415879  0.157555    0.7500    0.1875   12    3\n",
       "9997     0.552217  0.237044    0.7500    0.1875   12    3\n",
       "9998     0.168604  0.326963    0.2500    0.7500    4   12\n",
       "9999     0.198986  0.281615    0.3125    0.3125    5    5\n",
       "\n",
       "[10000 rows x 6 columns]"
      ]
     },
     "execution_count": 13,
     "metadata": {},
     "output_type": "execute_result"
    }
   ],
   "source": [
    "df_samples = pd.DataFrame({\n",
    "    'winner_prob': winner_prob,\n",
    "    'eq_prob': eq_prob,\n",
    "    'n_k_norm': n_k/s**2,\n",
    "    'e_k_norm': e_k/s**2,\n",
    "    'n_k': n_k,\n",
    "    'e_k': e_k,\n",
    "})\n",
    "\n",
    "df_samples"
   ]
  },
  {
   "cell_type": "code",
   "execution_count": 14,
   "metadata": {},
   "outputs": [
    {
     "data": {
      "text/plain": [
       "<Axes: xlabel='n_k_norm', ylabel='Count'>"
      ]
     },
     "execution_count": 14,
     "metadata": {},
     "output_type": "execute_result"
    },
    {
     "data": {
      "image/png": "[encoded data removed]",
      "text/plain": [
       "<Figure size 640x480 with 1 Axes>"
      ]
     },
     "metadata": {},
     "output_type": "display_data"
    }
   ],
   "source": [
    "sns.histplot(df_samples['n_k_norm'], bins=33)"
   ]
  },
  {
   "cell_type": "code",
   "execution_count": 15,
   "metadata": {},
   "outputs": [
    {
     "data": {
      "text/plain": [
       "<Axes: xlabel='winner_prob', ylabel='Count'>"
      ]
     },
     "execution_count": 15,
     "metadata": {},
     "output_type": "execute_result"
    },
    {
     "data": {
      "image/png": "[encoded data removed]",
      "text/plain": [
       "<Figure size 640x480 with 1 Axes>"
      ]
     },
     "metadata": {},
     "output_type": "display_data"
    }
   ],
   "source": [
    "sns.histplot(df_samples['winner_prob'], bins=33)"
   ]
  },
  {
   "cell_type": "code",
   "execution_count": 54,
   "metadata": {},
   "outputs": [
    {
     "data": {
      "text/html": [
       "<div>\n",
       "<style scoped>\n",
       "    .dataframe tbody tr th:only-of-type {\n",
       "        vertical-align: middle;\n",
       "    }\n",
       "\n",
       "    .dataframe tbody tr th {\n",
       "        vertical-align: top;\n",
       "    }\n",
       "\n",
       "    .dataframe thead th {\n",
       "        text-align: right;\n",
       "    }\n",
       "</style>\n",
       "<table border=\"1\" class=\"dataframe\">\n",
       "  <thead>\n",
       "    <tr style=\"text-align: right;\">\n",
       "      <th></th>\n",
       "      <th>winner_prob</th>\n",
       "      <th>eq_prob</th>\n",
       "      <th>n_k_norm</th>\n",
       "      <th>e_k_norm</th>\n",
       "      <th>n_k</th>\n",
       "      <th>e_k</th>\n",
       "    </tr>\n",
       "  </thead>\n",
       "  <tbody>\n",
       "    <tr>\n",
       "      <th>count</th>\n",
       "      <td>10000.000000</td>\n",
       "      <td>10000.000000</td>\n",
       "      <td>10000.000000</td>\n",
       "      <td>10000.000000</td>\n",
       "      <td>10000.000000</td>\n",
       "      <td>10000.000000</td>\n",
       "    </tr>\n",
       "    <tr>\n",
       "      <th>mean</th>\n",
       "      <td>0.373235</td>\n",
       "      <td>0.249058</td>\n",
       "      <td>0.374857</td>\n",
       "      <td>0.251247</td>\n",
       "      <td>37.485700</td>\n",
       "      <td>25.124700</td>\n",
       "    </tr>\n",
       "    <tr>\n",
       "      <th>std</th>\n",
       "      <td>0.185695</td>\n",
       "      <td>0.085317</td>\n",
       "      <td>0.126237</td>\n",
       "      <td>0.043591</td>\n",
       "      <td>12.623721</td>\n",
       "      <td>4.359134</td>\n",
       "    </tr>\n",
       "    <tr>\n",
       "      <th>min</th>\n",
       "      <td>0.005588</td>\n",
       "      <td>0.016449</td>\n",
       "      <td>0.000000</td>\n",
       "      <td>0.050000</td>\n",
       "      <td>0.000000</td>\n",
       "      <td>5.000000</td>\n",
       "    </tr>\n",
       "    <tr>\n",
       "      <th>25%</th>\n",
       "      <td>0.226458</td>\n",
       "      <td>0.193370</td>\n",
       "      <td>0.290000</td>\n",
       "      <td>0.230000</td>\n",
       "      <td>29.000000</td>\n",
       "      <td>23.000000</td>\n",
       "    </tr>\n",
       "    <tr>\n",
       "      <th>50%</th>\n",
       "      <td>0.356930</td>\n",
       "      <td>0.244616</td>\n",
       "      <td>0.370000</td>\n",
       "      <td>0.250000</td>\n",
       "      <td>37.000000</td>\n",
       "      <td>25.000000</td>\n",
       "    </tr>\n",
       "    <tr>\n",
       "      <th>75%</th>\n",
       "      <td>0.504239</td>\n",
       "      <td>0.297859</td>\n",
       "      <td>0.460000</td>\n",
       "      <td>0.280000</td>\n",
       "      <td>46.000000</td>\n",
       "      <td>28.000000</td>\n",
       "    </tr>\n",
       "    <tr>\n",
       "      <th>max</th>\n",
       "      <td>0.965007</td>\n",
       "      <td>0.746270</td>\n",
       "      <td>0.870000</td>\n",
       "      <td>0.490000</td>\n",
       "      <td>87.000000</td>\n",
       "      <td>49.000000</td>\n",
       "    </tr>\n",
       "  </tbody>\n",
       "</table>\n",
       "</div>"
      ],
      "text/plain": [
       "        winner_prob       eq_prob      n_k_norm      e_k_norm           n_k  \\\n",
       "count  10000.000000  10000.000000  10000.000000  10000.000000  10000.000000   \n",
       "mean       0.373235      0.249058      0.374857      0.251247     37.485700   \n",
       "std        0.185695      0.085317      0.126237      0.043591     12.623721   \n",
       "min        0.005588      0.016449      0.000000      0.050000      0.000000   \n",
       "25%        0.226458      0.193370      0.290000      0.230000     29.000000   \n",
       "50%        0.356930      0.244616      0.370000      0.250000     37.000000   \n",
       "75%        0.504239      0.297859      0.460000      0.280000     46.000000   \n",
       "max        0.965007      0.746270      0.870000      0.490000     87.000000   \n",
       "\n",
       "                e_k  \n",
       "count  10000.000000  \n",
       "mean      25.124700  \n",
       "std        4.359134  \n",
       "min        5.000000  \n",
       "25%       23.000000  \n",
       "50%       25.000000  \n",
       "75%       28.000000  \n",
       "max       49.000000  "
      ]
     },
     "execution_count": 54,
     "metadata": {},
     "output_type": "execute_result"
    }
   ],
   "source": [
    "df_samples.describe()"
   ]
  },
  {
   "cell_type": "code",
   "execution_count": null,
   "metadata": {},
   "outputs": [
    {
     "data": {
      "text/plain": [
       "221"
      ]
     },
     "execution_count": 58,
     "metadata": {},
     "output_type": "execute_result"
    }
   ],
   "source": [
    "# Gaussians\n",
    "\n",
    "num_samples = 10000\n",
    "\n",
    "gamma = -5/12\n",
    "\n",
    "rng = np.random.default_rng()\n",
    "cov = np.array([[1, gamma, gamma], [gamma, 1, gamma], [gamma, gamma, 1]])\n",
    "samples = rng.multivariate_normal([0, 0, 0], cov, num_samples)\n",
    "np.sum(np.sum(samples > 0, axis=1) == 3)"
   ]
  },
  {
   "cell_type": "markdown",
   "metadata": {},
   "source": [
    "# Multi-stage: Dice imitating lotteries"
   ]
  },
  {
   "cell_type": "code",
   "execution_count": 22,
   "metadata": {},
   "outputs": [
    {
     "name": "stdout",
     "output_type": "stream",
     "text": [
      "(10000, 3, 4)\n"
     ]
    },
    {
     "data": {
      "text/plain": [
       "18"
      ]
     },
     "execution_count": 22,
     "metadata": {},
     "output_type": "execute_result"
    }
   ],
   "source": [
    "num_samples = 10000\n",
    "m = 4\n",
    "alpha = np.ones(m)\n",
    "rng = np.random.default_rng()\n",
    "\n",
    "p_matr = rng.dirichlet(alpha, (num_samples, 3))\n",
    "print(p_matr.shape)\n",
    "\n",
    "upper_tri = np.triu(np.ones((m, m)), 1)\n",
    "\n",
    "comparisons = np.zeros((num_samples, 3))\n",
    "comparisons[:, 0] = np.sum((p_matr[:, 0] @ upper_tri) * p_matr[:, 1], axis=1) + 0.5*np.sum(p_matr[:, 0] * p_matr[:, 1], axis=1)\n",
    "comparisons[:, 1] = np.sum((p_matr[:, 1] @ upper_tri) * p_matr[:, 2], axis=1) + 0.5*np.sum(p_matr[:, 1] * p_matr[:, 2], axis=1)\n",
    "comparisons[:, 2] = np.sum((p_matr[:, 2] @ upper_tri) * p_matr[:, 0], axis=1) + 0.5*np.sum(p_matr[:, 2] * p_matr[:, 0], axis=1)\n",
    "\n",
    "# print(np.sum((p_matr[0, 0] @ upper_tri) * p_matr[0, 1]), np.sum(p_matr[0, 0] * p_matr[0, 1]), np.sum((p_matr[0, 0] @ upper_tri) * p_matr[0, 1]) + 0.5*np.sum(p_matr[0, 0] * p_matr[0, 1]))\n",
    "# print(np.sum((p_matr[0, 1] @ upper_tri) * p_matr[0, 2]), np.sum(p_matr[0, 1] * p_matr[0, 2]), np.sum((p_matr[0, 1] @ upper_tri) * p_matr[0, 2]) + 0.5*np.sum(p_matr[0, 1] * p_matr[0, 2]))\n",
    "# print(np.sum((p_matr[0, 2] @ upper_tri) * p_matr[0, 0]), np.sum(p_matr[0, 2] * p_matr[0, 0]), np.sum((p_matr[0, 2] @ upper_tri) * p_matr[0, 0]) + 0.5*np.sum(p_matr[0, 2] * p_matr[0, 0]))\n",
    "\n",
    "np.sum(np.sum(comparisons > 0.5, axis=1) == 0) + np.sum(np.sum(comparisons > 0.5, axis=1) == 3)"
   ]
  },
  {
   "cell_type": "code",
   "execution_count": 29,
   "metadata": {},
   "outputs": [
    {
     "name": "stdout",
     "output_type": "stream",
     "text": [
      "0.70910108\n",
      "0.48260196\n",
      "0.33298012\n"
     ]
    }
   ],
   "source": [
    "n = 5000\n",
    "\n",
    "dice = rng.uniform(size=(num_samples, 3, n))\n",
    "for i in range(num_samples):\n",
    "    for j in range(3):\n",
    "        dice_value = rng.choice(m, size=n, p=p_matr[i, j])\n",
    "        dice[i, j] += dice_value\n",
    "\n",
    "print(np.sum(dice[0, 0, :, None] < dice[0, 1, None, :])/n**2)\n",
    "print(np.sum(dice[0, 1, :, None] < dice[0, 2, None, :])/n**2)\n",
    "print(np.sum(dice[0, 2, :, None] < dice[0, 0, None, :])/n**2)"
   ]
  },
  {
   "cell_type": "code",
   "execution_count": 30,
   "metadata": {},
   "outputs": [
    {
     "data": {
      "text/plain": [
       "array([0.71190096, 0.48327516, 0.33002386])"
      ]
     },
     "execution_count": 30,
     "metadata": {},
     "output_type": "execute_result"
    }
   ],
   "source": [
    "comparisons[0]"
   ]
  },
  {
   "cell_type": "code",
   "execution_count": 35,
   "metadata": {},
   "outputs": [],
   "source": [
    "dice_comp = np.zeros((num_samples, 3))\n",
    "batch_size = 200\n",
    "\n",
    "for i in range(0, num_samples, batch_size):\n",
    "    for j in range(3):\n",
    "        dice_comp[i:i+batch_size, j] = np.sum(dice[i:i+batch_size, j, :, None] < dice[i:i+batch_size, (j+1)%3, None, :], axis=(1, 2))/n**2"
   ]
  },
  {
   "cell_type": "code",
   "execution_count": 36,
   "metadata": {},
   "outputs": [
    {
     "data": {
      "text/plain": [
       "16"
      ]
     },
     "execution_count": 36,
     "metadata": {},
     "output_type": "execute_result"
    }
   ],
   "source": [
    "np.sum(np.sum(dice_comp > 0.5, axis=1) == 0) + np.sum(np.sum(dice_comp > 0.5, axis=1) == 3)"
   ]
  },
  {
   "cell_type": "code",
   "execution_count": 41,
   "metadata": {},
   "outputs": [
    {
     "data": {
      "text/plain": [
       "array([[0.48709099, 0.48939381, 0.49119335],\n",
       "       [0.49349068, 0.41155329, 0.43466088],\n",
       "       [0.50144868, 0.50167353, 0.53743744],\n",
       "       [0.48815672, 0.47766375, 0.48077788],\n",
       "       [0.48844431, 0.48419039, 0.47567966],\n",
       "       [0.52096011, 0.52041812, 0.50254261],\n",
       "       [0.49026092, 0.48537427, 0.46786658],\n",
       "       [0.49767372, 0.47862363, 0.46551927],\n",
       "       [0.49726915, 0.47900531, 0.45927625],\n",
       "       [0.46043218, 0.47329816, 0.49243295],\n",
       "       [0.52076448, 0.50085496, 0.50527482],\n",
       "       [0.47513004, 0.48883582, 0.49805123],\n",
       "       [0.50013824, 0.56401906, 0.50213584],\n",
       "       [0.43362846, 0.49496902, 0.4892453 ],\n",
       "       [0.47631842, 0.45613422, 0.49075107],\n",
       "       [0.49064588, 0.49801485, 0.4895527 ],\n",
       "       [0.50845663, 0.54190593, 0.50203541],\n",
       "       [0.50013761, 0.56552953, 0.50633794]])"
      ]
     },
     "execution_count": 41,
     "metadata": {},
     "output_type": "execute_result"
    }
   ],
   "source": [
    "lott_mask = (np.sum(comparisons > 0.5, axis=1) == 0) | (np.sum(comparisons > 0.5, axis=1) == 3)\n",
    "comparisons[lott_mask]"
   ]
  },
  {
   "cell_type": "code",
   "execution_count": 40,
   "metadata": {},
   "outputs": [
    {
     "data": {
      "text/plain": [
       "array([[0.50525032, 0.5087626 , 0.53106488],\n",
       "       [0.49615028, 0.40022952, 0.43492384],\n",
       "       [0.49383704, 0.46982456, 0.4869492 ],\n",
       "       [0.4892952 , 0.48874068, 0.46206024],\n",
       "       [0.49362928, 0.45728992, 0.49394692],\n",
       "       [0.52551744, 0.52028252, 0.50145756],\n",
       "       [0.48519412, 0.48758216, 0.4681474 ],\n",
       "       [0.492335  , 0.49337084, 0.4553752 ],\n",
       "       [0.49738276, 0.47770564, 0.46444212],\n",
       "       [0.501579  , 0.56713404, 0.50012984],\n",
       "       [0.48210876, 0.49395612, 0.49776088],\n",
       "       [0.46871956, 0.45747392, 0.49765288],\n",
       "       [0.49443756, 0.49671884, 0.48712388],\n",
       "       [0.50545072, 0.50041748, 0.50080612],\n",
       "       [0.51420976, 0.53492052, 0.50255592],\n",
       "       [0.50693612, 0.55922644, 0.51002668]])"
      ]
     },
     "execution_count": 40,
     "metadata": {},
     "output_type": "execute_result"
    }
   ],
   "source": [
    "dice_mask = (np.sum(dice_comp > 0.5, axis=1) == 0) | (np.sum(dice_comp > 0.5, axis=1) == 3)\n",
    "dice_comp[dice_mask]"
   ]
  },
  {
   "cell_type": "code",
   "execution_count": 43,
   "metadata": {},
   "outputs": [
    {
     "data": {
      "text/plain": [
       "(array([ 930, 1519, 1694, 1715, 3068, 3725, 4012, 4314, 4469, 4877, 6107,\n",
       "        6392, 6718, 6833, 7621, 8660, 9151, 9554]),\n",
       " array([ 499, 1519, 1715, 3068, 3105, 3725, 4012, 4314, 4469, 6718, 6960,\n",
       "        7621, 8660, 9138, 9151, 9554]))"
      ]
     },
     "execution_count": 43,
     "metadata": {},
     "output_type": "execute_result"
    }
   ],
   "source": [
    "lott_indices = np.where(lott_mask)[0]\n",
    "dice_indices = np.where(dice_mask)[0]\n",
    "lott_indices, dice_indices"
   ]
  },
  {
   "cell_type": "code",
   "execution_count": 44,
   "metadata": {},
   "outputs": [],
   "source": [
    "p_comp = comparisons"
   ]
  },
  {
   "cell_type": "code",
   "execution_count": 45,
   "metadata": {},
   "outputs": [],
   "source": [
    "np.save(DATA_DIR / '12a_p_matr.npy', p_matr)\n",
    "np.save(DATA_DIR / '12a_dice.npy', dice)\n",
    "np.save(DATA_DIR / '12a_dice_comp.npy', dice_comp)"
   ]
  },
  {
   "cell_type": "code",
   "execution_count": 46,
   "metadata": {},
   "outputs": [
    {
     "data": {
      "text/plain": [
       "(10000, 3, 5000)"
      ]
     },
     "execution_count": 46,
     "metadata": {},
     "output_type": "execute_result"
    }
   ],
   "source": [
    "dice.shape"
   ]
  },
  {
   "cell_type": "markdown",
   "metadata": {},
   "source": [
    "# Parameter estimation"
   ]
  },
  {
   "cell_type": "code",
   "execution_count": 54,
   "metadata": {},
   "outputs": [
    {
     "name": "stdout",
     "output_type": "stream",
     "text": [
      "0.3531\n",
      "0.3571\n",
      "0.3629\n"
     ]
    }
   ],
   "source": [
    "print(np.sum((dice[:, 0, 0] > dice[:, 1, 0]) & (dice[:, 0, 0] > dice[:, 1, 1]))/num_samples)\n",
    "print(np.sum((dice[:, 1, 0] > dice[:, 2, 0]) & (dice[:, 1, 0] > dice[:, 2, 1]))/num_samples)\n",
    "print(np.sum((dice[:, 2, 0] > dice[:, 0, 0]) & (dice[:, 2, 0] > dice[:, 0, 1]))/num_samples)"
   ]
  },
  {
   "cell_type": "code",
   "execution_count": 55,
   "metadata": {},
   "outputs": [
    {
     "name": "stdout",
     "output_type": "stream",
     "text": [
      "0.3552\n",
      "0.3597\n",
      "0.3588\n"
     ]
    }
   ],
   "source": [
    "print(np.sum((dice[:, 0, 0] > dice[:, 1, 0]) & (dice[:, 0, 1] > dice[:, 1, 0]))/num_samples)\n",
    "print(np.sum((dice[:, 1, 0] > dice[:, 2, 0]) & (dice[:, 1, 1] > dice[:, 2, 0]))/num_samples)\n",
    "print(np.sum((dice[:, 2, 0] > dice[:, 0, 0]) & (dice[:, 2, 1] > dice[:, 0, 0]))/num_samples)"
   ]
  },
  {
   "cell_type": "code",
   "execution_count": 64,
   "metadata": {},
   "outputs": [
    {
     "data": {
      "text/plain": [
       "array([[ 1.01124656, -0.49142352, -0.48631159],\n",
       "       [-0.49142352,  1.00190488, -0.4685275 ],\n",
       "       [-0.48631159, -0.4685275 ,  0.99423221]])"
      ]
     },
     "execution_count": 64,
     "metadata": {},
     "output_type": "execute_result"
    }
   ],
   "source": [
    "np.cov(dice_comp, rowvar=False)/0.0323"
   ]
  },
  {
   "cell_type": "code",
   "execution_count": 72,
   "metadata": {},
   "outputs": [
    {
     "data": {
      "text/plain": [
       "array([[ 0.03266326, -0.01587298, -0.01570786],\n",
       "       [-0.01587298,  0.03236153, -0.01513344],\n",
       "       [-0.01570786, -0.01513344,  0.0321137 ]])"
      ]
     },
     "execution_count": 72,
     "metadata": {},
     "output_type": "execute_result"
    }
   ],
   "source": [
    "np.cov(dice_comp, rowvar=False)"
   ]
  },
  {
   "cell_type": "code",
   "execution_count": 70,
   "metadata": {},
   "outputs": [
    {
     "data": {
      "text/plain": [
       "array([[163.31631998, -79.36489789, -78.53932124],\n",
       "       [-79.36489789, 161.80763839, -75.66719119],\n",
       "       [-78.53932124, -75.66719119, 160.56850212]])"
      ]
     },
     "execution_count": 70,
     "metadata": {},
     "output_type": "execute_result"
    }
   ],
   "source": [
    "np.cov(dice_comp*5000**2, rowvar=False)/5000**3"
   ]
  },
  {
   "cell_type": "code",
   "execution_count": 71,
   "metadata": {},
   "outputs": [
    {
     "data": {
      "text/plain": [
       "array([0.03266   , 0.03235829, 0.03211049])"
      ]
     },
     "execution_count": 71,
     "metadata": {},
     "output_type": "execute_result"
    }
   ],
   "source": [
    "np.var(dice_comp, axis=0)"
   ]
  },
  {
   "cell_type": "code",
   "execution_count": 73,
   "metadata": {},
   "outputs": [
    {
     "data": {
      "text/plain": [
       "array([0.50095862, 0.50098207, 0.49852201])"
      ]
     },
     "execution_count": 73,
     "metadata": {},
     "output_type": "execute_result"
    }
   ],
   "source": [
    "np.mean(dice_comp, axis=0)"
   ]
  },
  {
   "cell_type": "code",
   "execution_count": 98,
   "metadata": {},
   "outputs": [
    {
     "data": {
      "text/plain": [
       "0.2166733333333333"
      ]
     },
     "execution_count": 98,
     "metadata": {},
     "output_type": "execute_result"
    }
   ],
   "source": [
    "p = 0.5\n",
    "q = 43/120\n",
    "\n",
    "n*n*(n*(q-p**2)*2 + p**2 + p - 2*q)/n**3"
   ]
  },
  {
   "cell_type": "code",
   "execution_count": 97,
   "metadata": {},
   "outputs": [
    {
     "data": {
      "text/plain": [
       "0.03265999766898599"
      ]
     },
     "execution_count": 97,
     "metadata": {},
     "output_type": "execute_result"
    }
   ],
   "source": [
    "np.var(dice_comp[:, 0])"
   ]
  },
  {
   "cell_type": "code",
   "execution_count": 100,
   "metadata": {},
   "outputs": [
    {
     "data": {
      "text/plain": [
       "array([0.03263925, 0.03233599, 0.03207568])"
      ]
     },
     "execution_count": 100,
     "metadata": {},
     "output_type": "execute_result"
    }
   ],
   "source": [
    "np.var(p_comp, axis=0)"
   ]
  },
  {
   "cell_type": "code",
   "execution_count": 20,
   "metadata": {},
   "outputs": [
    {
     "data": {
      "text/plain": [
       "((10000, 3, 4), (10000, 3), (10000, 3, 5000), (10000, 3))"
      ]
     },
     "execution_count": 20,
     "metadata": {},
     "output_type": "execute_result"
    }
   ],
   "source": [
    "num_samples = 10000\n",
    "m = 4\n",
    "n = 5000\n",
    "\n",
    "upper_tri = np.triu(np.ones((m, m)), 1)\n",
    "\n",
    "p_matr = np.load(DATA_DIR / '12a_p_matr.npy')\n",
    "dice = np.load(DATA_DIR / '12a_dice.npy')\n",
    "dice_comp = np.load(DATA_DIR / '12a_dice_comp.npy')\n",
    "\n",
    "p_comp = np.zeros((num_samples, 3))\n",
    "p_comp[:, 0] = np.sum((p_matr[:, 0] @ upper_tri) * p_matr[:, 1], axis=1) + 0.5*np.sum(p_matr[:, 0] * p_matr[:, 1], axis=1)\n",
    "p_comp[:, 1] = np.sum((p_matr[:, 1] @ upper_tri) * p_matr[:, 2], axis=1) + 0.5*np.sum(p_matr[:, 1] * p_matr[:, 2], axis=1)\n",
    "p_comp[:, 2] = np.sum((p_matr[:, 2] @ upper_tri) * p_matr[:, 0], axis=1) + 0.5*np.sum(p_matr[:, 2] * p_matr[:, 0], axis=1)\n",
    "\n",
    "p_matr.shape, p_comp.shape, dice.shape, dice_comp.shape"
   ]
  },
  {
   "cell_type": "code",
   "execution_count": 84,
   "metadata": {},
   "outputs": [],
   "source": [
    "rng = np.random.default_rng()\n",
    "\n",
    "p1 = p_matr[1, 0]\n",
    "p2 = p_matr[1, 1]\n"
   ]
  },
  {
   "cell_type": "code",
   "execution_count": 87,
   "metadata": {},
   "outputs": [
    {
     "data": {
      "text/plain": [
       "0.16658103818873723"
      ]
     },
     "execution_count": 87,
     "metadata": {},
     "output_type": "execute_result"
    }
   ],
   "source": [
    "dice1 = rng.choice(m, size=(5000, 1000), p=p1) + rng.uniform(size=(5000, 1000))\n",
    "dice2 = rng.choice(m, size=(5000, 1000), p=p2) + rng.uniform(size=(5000, 1000))\n",
    "\n",
    "small_comp = np.sum(dice1[:, :, None] < dice2[:, None, :], axis=(1, 2))\n",
    "np.var(small_comp)/1000**3"
   ]
  },
  {
   "cell_type": "code",
   "execution_count": 92,
   "metadata": {},
   "outputs": [
    {
     "data": {
      "text/plain": [
       "(0.5114504, 0.4202056)"
      ]
     },
     "execution_count": 92,
     "metadata": {},
     "output_type": "execute_result"
    }
   ],
   "source": [
    "count_q = 0\n",
    "count_r = 0\n",
    "\n",
    "for i in range(0, 1000, 2):\n",
    "    count_q += np.sum((dice1[:, i] < dice2[:, i]) & (dice1[:, i+1] < dice2[:, i]))\n",
    "    count_r += np.sum((dice1[:, i] < dice2[:, i]) & (dice1[:, i] < dice2[:, i+1]))\n",
    "\n",
    "count_q/(5000*500), count_r/(5000*500)"
   ]
  },
  {
   "cell_type": "code",
   "execution_count": 76,
   "metadata": {},
   "outputs": [
    {
     "data": {
      "text/plain": [
       "0.16379998416083408"
      ]
     },
     "execution_count": 76,
     "metadata": {},
     "output_type": "execute_result"
    }
   ],
   "source": [
    "count_q/500**2 - pk**2 + count_r/500**2 - pk**2 + (pk**2 + pk - count_q/500**2 - count_r/500**2)/1000"
   ]
  },
  {
   "cell_type": "code",
   "execution_count": 94,
   "metadata": {},
   "outputs": [
    {
     "data": {
      "text/plain": [
       "(0.6190380109125097, 0.5116074473136729, 0.4200255566953497)"
      ]
     },
     "execution_count": 94,
     "metadata": {},
     "output_type": "execute_result"
    }
   ],
   "source": [
    "pk = 0\n",
    "for i in range(4):\n",
    "    for j in range(i+1, 4):\n",
    "        pk += p1[i]*p2[j]\n",
    "for i in range(4):\n",
    "    pk += p1[i]*p2[i]/2\n",
    "\n",
    "qk = 0\n",
    "for i in range(4):\n",
    "    for j in range(i+1, 4):\n",
    "        for k in range(j+1, 4):\n",
    "            qk += 2*p1[i]*p1[j]*p2[k]\n",
    "for i in range(4):\n",
    "    for j in range(i+1, 4):\n",
    "        qk += (p1[i]**2)*p2[j]\n",
    "        qk += p1[i]*p1[j]*p2[j]\n",
    "for i in range(4):\n",
    "    qk += 1/3*(p1[i]**2)*p2[i]\n",
    "\n",
    "rk = 0\n",
    "for i in range(4):\n",
    "    for j in range(i+1, 4):\n",
    "        for k in range(j+1, 4):\n",
    "            rk += 2*p1[i]*p2[j]*p2[k]\n",
    "for i in range(4):\n",
    "    for j in range(i+1, 4):\n",
    "        rk += p1[i]*p2[j]**2\n",
    "        rk += p1[i]*p2[i]*p2[j]\n",
    "for i in range(4):\n",
    "    rk += 1/3*p1[i]*p2[i]**2\n",
    "\n",
    "pk, qk, rk"
   ]
  },
  {
   "cell_type": "code",
   "execution_count": 95,
   "metadata": {},
   "outputs": [
    {
     "data": {
      "text/plain": [
       "0.1652874991658478"
      ]
     },
     "execution_count": 95,
     "metadata": {},
     "output_type": "execute_result"
    }
   ],
   "source": [
    "qk - pk**2 + rk - pk**2 + (pk**2 + pk - qk - rk)/1000"
   ]
  },
  {
   "cell_type": "code",
   "execution_count": 92,
   "metadata": {},
   "outputs": [
    {
     "data": {
      "text/plain": [
       "0.000162159755350816"
      ]
     },
     "execution_count": 92,
     "metadata": {},
     "output_type": "execute_result"
    }
   ],
   "source": [
    "np.var(small_comp/1000**2)"
   ]
  },
  {
   "cell_type": "code",
   "execution_count": 23,
   "metadata": {},
   "outputs": [
    {
     "data": {
      "text/plain": [
       "0.50100722"
      ]
     },
     "execution_count": 23,
     "metadata": {},
     "output_type": "execute_result"
    }
   ],
   "source": [
    "count_pk = 0\n",
    "\n",
    "for i in range(5000):\n",
    "    count_pk += np.sum(dice[:, 0, i] < dice[:, 1, i])\n",
    "\n",
    "count_pk/(5000*10000)"
   ]
  },
  {
   "cell_type": "code",
   "execution_count": 4,
   "metadata": {},
   "outputs": [
    {
     "data": {
      "text/plain": [
       "0.28358408"
      ]
     },
     "execution_count": 4,
     "metadata": {},
     "output_type": "execute_result"
    }
   ],
   "source": [
    "count_pk2 = 0\n",
    "\n",
    "for i in range(0, 5000, 2):\n",
    "    count_pk2 += np.sum((dice[:, 0, i] < dice[:, 1, i]) & (dice[:, 0, i+1] < dice[:, 1, i+1]))\n",
    "\n",
    "count_pk2/(2500*10000)"
   ]
  },
  {
   "cell_type": "code",
   "execution_count": 6,
   "metadata": {},
   "outputs": [
    {
     "data": {
      "text/plain": [
       "0.16760024"
      ]
     },
     "execution_count": 6,
     "metadata": {},
     "output_type": "execute_result"
    }
   ],
   "source": [
    "count_pksucc = 0\n",
    "\n",
    "for i in range(0, 5000, 2):\n",
    "    count_pksucc += np.sum((dice[:, 0, i] < dice[:, 1, i]) & (dice[:, 1, i] < dice[:, 2, i]))\n",
    "\n",
    "count_pksucc/(2500*10000)"
   ]
  },
  {
   "cell_type": "code",
   "execution_count": 7,
   "metadata": {},
   "outputs": [
    {
     "data": {
      "text/plain": [
       "0.23512044"
      ]
     },
     "execution_count": 7,
     "metadata": {},
     "output_type": "execute_result"
    }
   ],
   "source": [
    "count = 0\n",
    "\n",
    "for i in range(0, 5000, 2):\n",
    "    count += np.sum((dice[:, 0, i] < dice[:, 1, i]) & (dice[:, 1, i+1] < dice[:, 2, i]))\n",
    "\n",
    "count/(2500*10000)"
   ]
  },
  {
   "cell_type": "code",
   "execution_count": 2,
   "metadata": {},
   "outputs": [
    {
     "name": "stdout",
     "output_type": "stream",
     "text": [
      "nom: 8.0 denom: 16\n"
     ]
    },
    {
     "data": {
      "text/plain": [
       "0.5"
      ]
     },
     "execution_count": 2,
     "metadata": {},
     "output_type": "execute_result"
    }
   ],
   "source": [
    "def compute_mu_k(m):\n",
    "    denominator = m**2\n",
    "    nominator = 0\n",
    "    for i in range(m):\n",
    "        for j in range(i, m):\n",
    "            if i == j:\n",
    "                nominator += 1/2\n",
    "            else:\n",
    "                nominator += 1\n",
    "    print('nom:', nominator, 'denom:', denominator)\n",
    "    return nominator/denominator\n",
    "\n",
    "compute_mu_k(4)"
   ]
  },
  {
   "cell_type": "code",
   "execution_count": 3,
   "metadata": {},
   "outputs": [
    {
     "name": "stdout",
     "output_type": "stream",
     "text": [
      "nom: 28.666666666666668 denom: 80\n"
     ]
    },
    {
     "data": {
      "text/plain": [
       "0.35833333333333334"
      ]
     },
     "execution_count": 3,
     "metadata": {},
     "output_type": "execute_result"
    }
   ],
   "source": [
    "def compute_theta_k(m):\n",
    "    denominator = m**2*(m+1)\n",
    "    nominator = 0\n",
    "    for i in range(m):\n",
    "        for j in range(m):\n",
    "            for k in range(max(i, j), m):\n",
    "                summand = 1\n",
    "                if i == j:\n",
    "                    summand *= 2\n",
    "                if i == j == k:\n",
    "                    summand *= 1/3\n",
    "                elif i == k or j == k:\n",
    "                    summand *= 1/2\n",
    "                nominator += summand\n",
    "    print('nom:', nominator, 'denom:', denominator)\n",
    "    return nominator/denominator\n",
    "\n",
    "compute_theta_k(4)"
   ]
  },
  {
   "cell_type": "code",
   "execution_count": 4,
   "metadata": {},
   "outputs": [
    {
     "name": "stdout",
     "output_type": "stream",
     "text": [
      "nom: 28.666666666666668 denom: 80\n"
     ]
    },
    {
     "data": {
      "text/plain": [
       "0.35833333333333334"
      ]
     },
     "execution_count": 4,
     "metadata": {},
     "output_type": "execute_result"
    }
   ],
   "source": [
    "def compute_rho_k(m):\n",
    "    denominator = m**2*(m+1)\n",
    "    nominator = 0\n",
    "    for i in range(m):\n",
    "        for j in range(m):\n",
    "            for k in range(min(i, j) + 1):\n",
    "                    summand = 1\n",
    "                    if i == j:\n",
    "                        summand *= 2\n",
    "                    if i == j == k:\n",
    "                        summand *= 1/3\n",
    "                    elif i == k or j == k:\n",
    "                        summand *= 1/2\n",
    "                    nominator += summand\n",
    "    print('nom:', nominator, 'denom:', denominator)\n",
    "    return nominator/denominator\n",
    "\n",
    "compute_rho_k(4)"
   ]
  },
  {
   "cell_type": "code",
   "execution_count": 5,
   "metadata": {},
   "outputs": [
    {
     "name": "stdout",
     "output_type": "stream",
     "text": [
      "nom: 113.0 denom: 400\n"
     ]
    },
    {
     "data": {
      "text/plain": [
       "0.2825"
      ]
     },
     "execution_count": 5,
     "metadata": {},
     "output_type": "execute_result"
    }
   ],
   "source": [
    "def compute_omega_k(m):\n",
    "    denominator = (m*(m+1))**2\n",
    "    nominator = 0\n",
    "    for s1 in range(m):\n",
    "        for s2 in range(m):\n",
    "            for t1 in range(s1, m):\n",
    "                for t2 in range(s2, m):\n",
    "                    summand = 1\n",
    "                    if s1 == s2:\n",
    "                        summand *= 2\n",
    "                    if t1 == t2:\n",
    "                        summand *= 2\n",
    "                    if s1 == t1:\n",
    "                        summand *= 1/2\n",
    "                    if s2 == t2:\n",
    "                        summand *= 1/2\n",
    "                    nominator += summand\n",
    "    print('nom:', nominator, 'denom:', denominator)\n",
    "    return nominator/denominator\n",
    "\n",
    "compute_omega_k(4)"
   ]
  },
  {
   "cell_type": "code",
   "execution_count": 6,
   "metadata": {},
   "outputs": [
    {
     "name": "stdout",
     "output_type": "stream",
     "text": [
      "nom: 10.666666666666664 denom: 64\n"
     ]
    },
    {
     "data": {
      "text/plain": [
       "0.16666666666666663"
      ]
     },
     "execution_count": 6,
     "metadata": {},
     "output_type": "execute_result"
    }
   ],
   "source": [
    "def compute_phi_k(m):\n",
    "    denominator = m**3\n",
    "    nominator = 0\n",
    "    for i in range(m):\n",
    "        for j in range(i, m):\n",
    "            for k in range(j, m):\n",
    "                summand = 1\n",
    "                if i == j == k:\n",
    "                    summand *= 1/6\n",
    "                elif i == j or j == k:\n",
    "                    summand *= 1/2\n",
    "                nominator += summand\n",
    "    print('nom:', nominator, 'denom:', denominator)\n",
    "    return nominator/denominator\n",
    "\n",
    "compute_phi_k(4)"
   ]
  },
  {
   "cell_type": "code",
   "execution_count": 7,
   "metadata": {},
   "outputs": [
    {
     "name": "stdout",
     "output_type": "stream",
     "text": [
      "nom: 75.0 denom: 320\n"
     ]
    },
    {
     "data": {
      "text/plain": [
       "0.234375"
      ]
     },
     "execution_count": 7,
     "metadata": {},
     "output_type": "execute_result"
    }
   ],
   "source": [
    "def compute_psi_k(m):\n",
    "    denominator = m**3*(m+1)\n",
    "    nominator = 0\n",
    "    for s in range(m):\n",
    "        for t1 in range(s, m):\n",
    "            for t2 in range(m):\n",
    "                for u in range(t2, m):\n",
    "                    summand = 1\n",
    "                    if t1 == t2:\n",
    "                        summand *= 2\n",
    "                    if s == t1:\n",
    "                        summand *= 1/2\n",
    "                    if t2 == u:\n",
    "                        summand *= 1/2\n",
    "                    nominator += summand\n",
    "    print('nom:', nominator, 'denom:', denominator)\n",
    "    return nominator/denominator\n",
    "\n",
    "compute_psi_k(4)"
   ]
  },
  {
   "cell_type": "code",
   "execution_count": 14,
   "metadata": {},
   "outputs": [
    {
     "name": "stdout",
     "output_type": "stream",
     "text": [
      "nom: 75.0 denom: 320\n",
      "nom: 8.0 denom: 16\n",
      "nom: 113.0 denom: 400\n",
      "nom: 8.0 denom: 16\n"
     ]
    },
    {
     "data": {
      "text/plain": [
       "-0.48076923076923117"
      ]
     },
     "execution_count": 14,
     "metadata": {},
     "output_type": "execute_result"
    }
   ],
   "source": [
    "m = 4\n",
    "(compute_psi_k(m) - compute_mu_k(m)**2)/(compute_omega_k(m) - compute_mu_k(m)**2)"
   ]
  },
  {
   "cell_type": "code",
   "execution_count": 24,
   "metadata": {},
   "outputs": [
    {
     "data": {
      "text/plain": [
       "-0.4877170260489248"
      ]
     },
     "execution_count": 24,
     "metadata": {},
     "output_type": "execute_result"
    }
   ],
   "source": [
    "(0.23512044 - 0.50100722**2)/(0.28358408 - 0.50100722**2)"
   ]
  },
  {
   "cell_type": "code",
   "execution_count": 25,
   "metadata": {},
   "outputs": [
    {
     "name": "stdout",
     "output_type": "stream",
     "text": [
      "nom: 75.0 denom: 320\n",
      "nom: 8.0 denom: 16\n",
      "nom: 113.0 denom: 400\n",
      "nom: 8.0 denom: 16\n"
     ]
    },
    {
     "data": {
      "text/plain": [
       "0.005268109396227308"
      ]
     },
     "execution_count": 25,
     "metadata": {},
     "output_type": "execute_result"
    }
   ],
   "source": [
    "3*np.arcsin((compute_psi_k(m) - compute_mu_k(m)**2)/(compute_omega_k(m) - compute_mu_k(m)**2)) / (4*np.pi) + 1/8"
   ]
  }
 ],
 "metadata": {
  "kernelspec": {
   "display_name": "py312-MA",
   "language": "python",
   "name": "py312-ma"
  },
  "language_info": {
   "codemirror_mode": {
    "name": "ipython",
    "version": 3
   },
   "file_extension": ".py",
   "mimetype": "text/x-python",
   "name": "python",
   "nbconvert_exporter": "python",
   "pygments_lexer": "ipython3",
   "version": "3.12.2"
  }
 },
 "nbformat": 4,
 "nbformat_minor": 2
}
