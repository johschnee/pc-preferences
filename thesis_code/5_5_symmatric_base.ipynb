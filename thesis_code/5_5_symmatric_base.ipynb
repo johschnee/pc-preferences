{
 "cells": [
  {
   "cell_type": "code",
   "execution_count": 1,
   "id": "02220895",
   "metadata": {},
   "outputs": [],
   "source": [
    "import sys\n",
    "import datetime\n",
    "\n",
    "import numpy as np\n",
    "from scipy import integrate\n",
    "import pandas as pd\n",
    "import matplotlib as mpl\n",
    "import matplotlib.pyplot as plt\n",
    "import seaborn as sns\n",
    "from struct import pack, unpack\n",
    "\n",
    "sys.path.insert(0, \"../\")\n",
    "from paths import FIG_DIR, DATA_DIR"
   ]
  },
  {
   "cell_type": "code",
   "execution_count": 11,
   "id": "1915e254",
   "metadata": {},
   "outputs": [],
   "source": [
    "def initialize_symmetric_tournament(m):\n",
    "    if m % 2 != 1:\n",
    "        raise ValueError(\"The value of m is even, please choose an odd value.\")\n",
    "    ssb = np.zeros((m, m))\n",
    "    for k in range(1, int((m+1)/2)):\n",
    "        for i in range(m):\n",
    "            ssb[i, (i+k)%m] = 1\n",
    "            ssb[i, (i-k)%m] = -1\n",
    "    return ssb"
   ]
  },
  {
   "cell_type": "code",
   "execution_count": null,
   "id": "69cb03c1",
   "metadata": {},
   "outputs": [],
   "source": [
    "# intr_dict = {3: 0.24521831109433967, 5: 0.2486390358113208} # compare Notebook 5_1 and 5_3\n",
    "# with open(DATA_DIR / '5_5_sim_symmetric.dat', 'wb') as file:\n",
    "#     file.write(pack('d' * len(intr_dict) , *intr_dict.values()))"
   ]
  },
  {
   "cell_type": "code",
   "execution_count": 3,
   "id": "da9fb918",
   "metadata": {},
   "outputs": [
    {
     "name": "stdout",
     "output_type": "stream",
     "text": [
      "Starting 13 at 2025-05-01 09:13:43\n",
      "Finished 13 at 2025-05-01 13:29:23\n",
      "Results for m=13: np.mean(batch_results)=0.24991388441509432, np.std(batch_results)=0.0001395371210316091, len(batch_results)=2650\n",
      "Starting 15 at 2025-05-01 13:29:23\n",
      "Finished 15 at 2025-05-01 18:14:58\n",
      "Results for m=15: np.mean(batch_results)=0.24994523573584904, np.std(batch_results)=0.0001358840464983305, len(batch_results)=2650\n"
     ]
    }
   ],
   "source": [
    "num_samples = 2.65 * 10**10 #1 sample corresponds to 3 lotteries, a triple!\n",
    "\n",
    "with open(DATA_DIR / '5_5_sim_symmetric.dat', 'rb') as file:\n",
    "    packed = file.read()\n",
    "    read = list(unpack('d' * (len(packed) // 8), packed)) # 8 bytes per double\n",
    "intr_dict = {2*i + 3: read[i] for i in range(len(read))}\n",
    "\n",
    "for m in range(3 + 2*len(intr_dict), 16, 2):\n",
    "    now = datetime.datetime.now()\n",
    "    print(f\"Starting {m} at {now.strftime('%Y-%m-%d %H:%M:%S')}\")\n",
    "\n",
    "    rng = np.random.default_rng(2025 + m)\n",
    "    ssb_intr = initialize_symmetric_tournament(m)\n",
    "    alpha = np.ones(m)\n",
    "    batch_size = 10**7\n",
    "\n",
    "    batch_results = []\n",
    "\n",
    "    for i in range(len(batch_results)*batch_size, int(num_samples), batch_size):\n",
    "        lotteries = rng.dirichlet(alpha, (3, batch_size))\n",
    "        comp01 = (np.sum(lotteries[0,:,:] @ ssb_intr * lotteries[1,:,:], axis=1) > 0).astype(int)\n",
    "        comp12 = (np.sum(lotteries[1,:,:] @ ssb_intr * lotteries[2,:,:], axis=1) > 0).astype(int)\n",
    "        comp20 = (np.sum(lotteries[2,:,:] @ ssb_intr * lotteries[0,:,:], axis=1) > 0).astype(int)\n",
    "        num_intr = np.sum(comp01 + comp12 + comp20 == 0) + np.sum(comp01 + comp12 + comp20 == 3)\n",
    "        batch_results.append(num_intr/batch_size)\n",
    "\n",
    "    now = datetime.datetime.now()\n",
    "    print(f\"Finished {m} at {now.strftime('%Y-%m-%d %H:%M:%S')}\")\n",
    "    print(f\"Results for m={m}: np.mean(batch_results)={np.mean(batch_results)}, np.std(batch_results)={np.std(batch_results)}, len(batch_results)={len(batch_results)}\")\n",
    "    intr_dict[m] = np.mean(batch_results)\n",
    "    with open(DATA_DIR / '5_5_sim_symmetric.dat', 'wb') as file:\n",
    "        file.write(pack('d' * len(intr_dict) , *intr_dict.values()))"
   ]
  },
  {
   "cell_type": "code",
   "execution_count": 2,
   "id": "27dc43b2",
   "metadata": {},
   "outputs": [
    {
     "data": {
      "text/plain": [
       "{3: 0.24521831109433967,\n",
       " 5: 0.2486390358113208,\n",
       " 7: 0.24946034226415095,\n",
       " 9: 0.2497422017735849,\n",
       " 11: 0.24985942950943396,\n",
       " 13: 0.24991388441509432,\n",
       " 15: 0.24994523573584904}"
      ]
     },
     "execution_count": 2,
     "metadata": {},
     "output_type": "execute_result"
    }
   ],
   "source": [
    "with open(DATA_DIR / '5_5_sim_symmetric.dat', 'rb') as file:\n",
    "    packed = file.read()\n",
    "    read = list(unpack('d' * (len(packed) // 8), packed)) # 8 bytes per double\n",
    "intr_dict = {2*i + 3: read[i] for i in range(len(read))}\n",
    "intr_dict"
   ]
  },
  {
   "cell_type": "code",
   "execution_count": 3,
   "id": "9ec91efd",
   "metadata": {},
   "outputs": [
    {
     "data": {
      "text/html": [
       "<div>\n",
       "<style scoped>\n",
       "    .dataframe tbody tr th:only-of-type {\n",
       "        vertical-align: middle;\n",
       "    }\n",
       "\n",
       "    .dataframe tbody tr th {\n",
       "        vertical-align: top;\n",
       "    }\n",
       "\n",
       "    .dataframe thead th {\n",
       "        text-align: right;\n",
       "    }\n",
       "</style>\n",
       "<table border=\"1\" class=\"dataframe\">\n",
       "  <thead>\n",
       "    <tr style=\"text-align: right;\">\n",
       "      <th></th>\n",
       "      <th>num_alt</th>\n",
       "      <th>prob_intr</th>\n",
       "      <th>error</th>\n",
       "    </tr>\n",
       "  </thead>\n",
       "  <tbody>\n",
       "    <tr>\n",
       "      <th>0</th>\n",
       "      <td>3</td>\n",
       "      <td>0.245222</td>\n",
       "      <td>0.00001</td>\n",
       "    </tr>\n",
       "    <tr>\n",
       "      <th>1</th>\n",
       "      <td>5</td>\n",
       "      <td>0.248639</td>\n",
       "      <td>0.00001</td>\n",
       "    </tr>\n",
       "    <tr>\n",
       "      <th>2</th>\n",
       "      <td>7</td>\n",
       "      <td>0.249460</td>\n",
       "      <td>0.00001</td>\n",
       "    </tr>\n",
       "    <tr>\n",
       "      <th>3</th>\n",
       "      <td>9</td>\n",
       "      <td>0.249742</td>\n",
       "      <td>0.00001</td>\n",
       "    </tr>\n",
       "    <tr>\n",
       "      <th>4</th>\n",
       "      <td>11</td>\n",
       "      <td>0.249859</td>\n",
       "      <td>0.00001</td>\n",
       "    </tr>\n",
       "    <tr>\n",
       "      <th>5</th>\n",
       "      <td>13</td>\n",
       "      <td>0.249914</td>\n",
       "      <td>0.00001</td>\n",
       "    </tr>\n",
       "    <tr>\n",
       "      <th>6</th>\n",
       "      <td>15</td>\n",
       "      <td>0.249945</td>\n",
       "      <td>0.00001</td>\n",
       "    </tr>\n",
       "  </tbody>\n",
       "</table>\n",
       "</div>"
      ],
      "text/plain": [
       "   num_alt  prob_intr    error\n",
       "0        3   0.245222  0.00001\n",
       "1        5   0.248639  0.00001\n",
       "2        7   0.249460  0.00001\n",
       "3        9   0.249742  0.00001\n",
       "4       11   0.249859  0.00001\n",
       "5       13   0.249914  0.00001\n",
       "6       15   0.249945  0.00001"
      ]
     },
     "execution_count": 3,
     "metadata": {},
     "output_type": "execute_result"
    }
   ],
   "source": [
    "df = pd.DataFrame(intr_dict.items(), columns=[\"num_alt\", \"prob_intr\"])\n",
    "df['error'] = 1e-5\n",
    "df.loc[df['num_alt'] == 3, 'prob_intr'] = (6 + 20*np.log(2)) / 3**4\n",
    "df"
   ]
  },
  {
   "cell_type": "code",
   "execution_count": 4,
   "id": "9209221a",
   "metadata": {},
   "outputs": [
    {
     "data": {
      "image/png": "[encoded data removed]",
      "text/plain": [
       "<Figure size 800x500 with 1 Axes>"
      ]
     },
     "metadata": {},
     "output_type": "display_data"
    }
   ],
   "source": [
    "sns.set_style(\"whitegrid\")\n",
    "mpl.rcParams['text.usetex'] = True\n",
    "mpl.rcParams['font.family'] = 'serif'\n",
    "mpl.rcParams['font.serif'] = 'cm'\n",
    "mpl.rcParams['font.size'] = 15\n",
    "\n",
    "# Plot with error bars\n",
    "plt.figure(figsize=(8, 5))\n",
    "line = sns.lineplot(x='num_alt', y='prob_intr', data=df, err_style='bars', errorbar=None)\n",
    "plt.errorbar(df[df['num_alt'] > 3]['num_alt'], df[df['num_alt'] > 3]['prob_intr'], yerr=df[df['num_alt'] > 3]['error'], fmt='o', color=line.lines[0].get_color(), capsize=5)\n",
    "plt.axhline(y=0.25, color='black')\n",
    "plt.scatter(3, (6 + 20*np.log(2)) / 3**4, color=line.lines[0].get_color())\n",
    "\n",
    "# Set x-axis ticks to show only odd numbers\n",
    "plt.xticks(ticks=df['num_alt'][df['num_alt'] % 2 == 1])\n",
    "\n",
    "# Modify axis labels\n",
    "plt.xlabel(r'Number of alternatives ($m$)')\n",
    "plt.ylabel(\"Probability of intransitivity\")\n",
    "\n",
    "plt.tight_layout()\n",
    "plt.savefig(FIG_DIR / \"5_5_sim_intr_low_m.png\", dpi=300)\n",
    "plt.savefig(FIG_DIR / \"5_5_sim_intr_low_m.pdf\")"
   ]
  },
  {
   "cell_type": "code",
   "execution_count": 31,
   "id": "8281b29f",
   "metadata": {},
   "outputs": [
    {
     "name": "stdout",
     "output_type": "stream",
     "text": [
      "Completed m = 5\n",
      "Completed m = 15\n",
      "Completed m = 25\n",
      "Completed m = 35\n",
      "Completed m = 51\n",
      "Completed m = 71\n",
      "Completed m = 101\n",
      "Completed m = 151\n",
      "Completed m = 201\n",
      "Completed m = 301\n",
      "Completed m = 401\n",
      "Completed m = 601\n",
      "Completed m = 801\n",
      "Completed m = 1001\n"
     ]
    }
   ],
   "source": [
    "import numpy as np\n",
    "\n",
    "num_rep = 10**5  # executed 10 times\n",
    "rng = np.random.default_rng(5302)\n",
    "results = {}\n",
    "\n",
    "for m in [5, 15, 25, 35, 51, 71, 101, 151, 201, 301, 401, 601, 801, 1001]:\n",
    "    results[m] = []\n",
    "    ssb_utility = initialize_symmetric_tournament(m)\n",
    "    alpha = np.ones(m)\n",
    "    for _ in range(10):\n",
    "        lotteries = rng.dirichlet(alpha, (3, num_rep))\n",
    "        comp01 = (np.sum(lotteries[0,:,:] @ ssb_utility * lotteries[1,:,:], axis=1) > 0).astype(int)\n",
    "        comp12 = (np.sum(lotteries[1,:,:] @ ssb_utility * lotteries[2,:,:], axis=1) > 0).astype(int)\n",
    "        comp20 = (np.sum(lotteries[2,:,:] @ ssb_utility * lotteries[0,:,:], axis=1) > 0).astype(int)\n",
    "        num_intr = np.sum(comp01 + comp12 + comp20 == 0) + np.sum(comp01 + comp12 + comp20 == 3)\n",
    "        results[m].append(num_intr)\n",
    "    print(f\"Completed m = {m}\")"
   ]
  },
  {
   "cell_type": "code",
   "execution_count": 32,
   "id": "dc59cc59",
   "metadata": {},
   "outputs": [
    {
     "data": {
      "text/plain": [
       "{5: [25096, 24871, 24765, 24943, 24939, 25103, 25017, 24854, 24806, 24537],\n",
       " 15: [25094, 25122, 24755, 24844, 24913, 24822, 25179, 25077, 25185, 25044],\n",
       " 25: [24881, 25080, 25108, 24965, 25218, 24873, 25095, 24823, 24806, 24884],\n",
       " 35: [24989, 24938, 24832, 24782, 25102, 24983, 25019, 24996, 24937, 25042],\n",
       " 51: [25092, 24939, 24859, 25112, 24955, 25118, 24962, 24898, 24914, 24781],\n",
       " 71: [24888, 24913, 25023, 24920, 25213, 24936, 24979, 24942, 25161, 25151],\n",
       " 101: [25064, 25059, 24769, 25067, 24922, 25056, 24696, 25102, 24905, 24612],\n",
       " 151: [25051, 24849, 25024, 24683, 25066, 24916, 24973, 24895, 25044, 24869],\n",
       " 201: [24817, 25006, 24987, 24814, 25000, 25245, 25029, 24981, 24795, 25350],\n",
       " 301: [25097, 25207, 24819, 25114, 24991, 25124, 24903, 24745, 24933, 25082],\n",
       " 401: [24794, 25021, 25071, 25011, 24914, 24920, 25034, 25083, 25121, 24954],\n",
       " 601: [25108, 24968, 25086, 24989, 24827, 25152, 24945, 24968, 24979, 25273],\n",
       " 801: [24759, 25137, 24904, 24874, 25121, 25140, 25044, 24914, 25184, 25042],\n",
       " 1001: [25079, 24961, 24938, 24914, 24869, 25078, 24943, 25199, 25154, 25086]}"
      ]
     },
     "execution_count": 32,
     "metadata": {},
     "output_type": "execute_result"
    }
   ],
   "source": [
    "import pickle \n",
    "\n",
    "with open(DATA_DIR / '5_5_sim_intr_large_m.pkl', 'wb') as f:\n",
    "    pickle.dump(results, f)\n",
    "        \n",
    "with open(DATA_DIR / '5_5_sim_intr_large_m.pkl', 'rb') as f:\n",
    "    results = pickle.load(f)\n",
    "\n",
    "results"
   ]
  },
  {
   "cell_type": "code",
   "execution_count": 33,
   "id": "78385a24",
   "metadata": {},
   "outputs": [
    {
     "data": {
      "text/html": [
       "<div>\n",
       "<style scoped>\n",
       "    .dataframe tbody tr th:only-of-type {\n",
       "        vertical-align: middle;\n",
       "    }\n",
       "\n",
       "    .dataframe tbody tr th {\n",
       "        vertical-align: top;\n",
       "    }\n",
       "\n",
       "    .dataframe thead th {\n",
       "        text-align: right;\n",
       "    }\n",
       "</style>\n",
       "<table border=\"1\" class=\"dataframe\">\n",
       "  <thead>\n",
       "    <tr style=\"text-align: right;\">\n",
       "      <th></th>\n",
       "      <th>num_alt</th>\n",
       "      <th>prob_intr</th>\n",
       "    </tr>\n",
       "  </thead>\n",
       "  <tbody>\n",
       "    <tr>\n",
       "      <th>0</th>\n",
       "      <td>5</td>\n",
       "      <td>0.248931</td>\n",
       "    </tr>\n",
       "    <tr>\n",
       "      <th>1</th>\n",
       "      <td>15</td>\n",
       "      <td>0.250035</td>\n",
       "    </tr>\n",
       "    <tr>\n",
       "      <th>2</th>\n",
       "      <td>25</td>\n",
       "      <td>0.249733</td>\n",
       "    </tr>\n",
       "    <tr>\n",
       "      <th>3</th>\n",
       "      <td>35</td>\n",
       "      <td>0.249620</td>\n",
       "    </tr>\n",
       "    <tr>\n",
       "      <th>4</th>\n",
       "      <td>51</td>\n",
       "      <td>0.249630</td>\n",
       "    </tr>\n",
       "    <tr>\n",
       "      <th>5</th>\n",
       "      <td>71</td>\n",
       "      <td>0.250126</td>\n",
       "    </tr>\n",
       "    <tr>\n",
       "      <th>6</th>\n",
       "      <td>101</td>\n",
       "      <td>0.249252</td>\n",
       "    </tr>\n",
       "    <tr>\n",
       "      <th>7</th>\n",
       "      <td>151</td>\n",
       "      <td>0.249370</td>\n",
       "    </tr>\n",
       "    <tr>\n",
       "      <th>8</th>\n",
       "      <td>201</td>\n",
       "      <td>0.250024</td>\n",
       "    </tr>\n",
       "    <tr>\n",
       "      <th>9</th>\n",
       "      <td>301</td>\n",
       "      <td>0.250015</td>\n",
       "    </tr>\n",
       "    <tr>\n",
       "      <th>10</th>\n",
       "      <td>401</td>\n",
       "      <td>0.249923</td>\n",
       "    </tr>\n",
       "    <tr>\n",
       "      <th>11</th>\n",
       "      <td>601</td>\n",
       "      <td>0.250295</td>\n",
       "    </tr>\n",
       "    <tr>\n",
       "      <th>12</th>\n",
       "      <td>801</td>\n",
       "      <td>0.250119</td>\n",
       "    </tr>\n",
       "    <tr>\n",
       "      <th>13</th>\n",
       "      <td>1001</td>\n",
       "      <td>0.250221</td>\n",
       "    </tr>\n",
       "  </tbody>\n",
       "</table>\n",
       "</div>"
      ],
      "text/plain": [
       "    num_alt  prob_intr\n",
       "0         5   0.248931\n",
       "1        15   0.250035\n",
       "2        25   0.249733\n",
       "3        35   0.249620\n",
       "4        51   0.249630\n",
       "5        71   0.250126\n",
       "6       101   0.249252\n",
       "7       151   0.249370\n",
       "8       201   0.250024\n",
       "9       301   0.250015\n",
       "10      401   0.249923\n",
       "11      601   0.250295\n",
       "12      801   0.250119\n",
       "13     1001   0.250221"
      ]
     },
     "execution_count": 33,
     "metadata": {},
     "output_type": "execute_result"
    }
   ],
   "source": [
    "plotting_dict = {}\n",
    "\n",
    "for key, value in results.items():\n",
    "    plotting_dict[key] = np.mean(value) / num_rep\n",
    "\n",
    "df = pd.DataFrame(plotting_dict.items(), columns=[\"num_alt\", \"prob_intr\"])\n",
    "df"
   ]
  },
  {
   "cell_type": "code",
   "execution_count": 35,
   "id": "52f86d7c",
   "metadata": {},
   "outputs": [
    {
     "data": {
      "image/png": "[encoded data removed]",
      "text/plain": [
       "<Figure size 800x500 with 1 Axes>"
      ]
     },
     "metadata": {},
     "output_type": "display_data"
    }
   ],
   "source": [
    "sns.set_style(style=\"whitegrid\")\n",
    "mpl.rcParams['text.usetex'] = True\n",
    "mpl.rcParams['font.family'] = 'serif'\n",
    "mpl.rcParams['font.serif'] = 'cm'\n",
    "mpl.rcParams['font.size'] = 15\n",
    "\n",
    "# Plot with error bars\n",
    "plt.figure(figsize=(8, 5))\n",
    "line = sns.lineplot(x='num_alt', y='prob_intr', data=df, err_style='bars', errorbar=None, marker='o')\n",
    "plt.axhline(y=0.25, color='black')\n",
    "\n",
    "# Modify axis labels\n",
    "plt.xlabel(r'Number of alternatives ($m$)')\n",
    "plt.ylabel(\"Probability of intransitivity\")\n",
    "\n",
    "plt.tight_layout()\n",
    "plt.savefig(FIG_DIR / \"5_5_sim_intr_high_m.png\", dpi=300)\n",
    "plt.savefig(FIG_DIR / \"5_5_sim_intr_high_m.pdf\")"
   ]
  }
 ],
 "metadata": {
  "kernelspec": {
   "display_name": "py312-MA",
   "language": "python",
   "name": "py312-ma"
  },
  "language_info": {
   "codemirror_mode": {
    "name": "ipython",
    "version": 3
   },
   "file_extension": ".py",
   "mimetype": "text/x-python",
   "name": "python",
   "nbconvert_exporter": "python",
   "pygments_lexer": "ipython3",
   "version": "3.12.2"
  }
 },
 "nbformat": 4,
 "nbformat_minor": 5
}
